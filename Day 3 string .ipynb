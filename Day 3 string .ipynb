{
 "cells": [
  {
   "cell_type": "code",
   "execution_count": null,
   "id": "f5bb3259",
   "metadata": {},
   "outputs": [],
   "source": []
  },
  {
   "cell_type": "markdown",
   "id": "15ef9e0f",
   "metadata": {},
   "source": [
    "# STRING \n"
   ]
  },
  {
   "cell_type": "code",
   "execution_count": null,
   "id": "a2f04607",
   "metadata": {},
   "outputs": [],
   "source": []
  },
  {
   "cell_type": "markdown",
   "id": "4b4da2a2",
   "metadata": {},
   "source": []
  },
  {
   "cell_type": "markdown",
   "id": "28950ebf",
   "metadata": {},
   "source": []
  },
  {
   "cell_type": "code",
   "execution_count": null,
   "id": "1e795f96",
   "metadata": {},
   "outputs": [],
   "source": []
  },
  {
   "cell_type": "markdown",
   "id": "bec62f51",
   "metadata": {},
   "source": [
    "\n"
   ]
  },
  {
   "cell_type": "code",
   "execution_count": null,
   "id": "d8676004",
   "metadata": {},
   "outputs": [],
   "source": []
  },
  {
   "cell_type": "markdown",
   "id": "dbca347a",
   "metadata": {},
   "source": []
  },
  {
   "cell_type": "code",
   "execution_count": null,
   "id": "afedcfbe",
   "metadata": {},
   "outputs": [],
   "source": []
  },
  {
   "cell_type": "code",
   "execution_count": null,
   "id": "eab50fae",
   "metadata": {},
   "outputs": [],
   "source": []
  },
  {
   "cell_type": "code",
   "execution_count": null,
   "id": "16f808f2",
   "metadata": {},
   "outputs": [],
   "source": []
  },
  {
   "cell_type": "markdown",
   "id": "ddca6879",
   "metadata": {},
   "source": [
    "# Strings [  ]\n",
    "\n",
    "Strings are sequence of Characters\n",
    "\n",
    "string is immutable data type\n",
    "\n",
    " strings in Python are arrays of bytes representing unicode characters.\n",
    " \n",
    "However, Python does not have a character data type, a single character is simply a string with a length of 1.Square brackets can be used to access elements of the string."
   ]
  },
  {
   "cell_type": "markdown",
   "id": "ae66c8b5",
   "metadata": {},
   "source": [
    "if N characters or elements are there in a string then\n",
    "\n",
    "the index range will vary from 0 to N-1 for example is \"ratan\" N = 5 index value is ranging from 0 to 4\n",
    "\n",
    "to index in reverse order the index ranges from -1 to -N"
   ]
  },
  {
   "cell_type": "code",
   "execution_count": null,
   "id": "40ea4d7f",
   "metadata": {},
   "outputs": [],
   "source": []
  },
  {
   "cell_type": "markdown",
   "id": "a3b31bf9",
   "metadata": {},
   "source": [
    "# creating string"
   ]
  },
  {
   "cell_type": "code",
   "execution_count": null,
   "id": "d14f41bf",
   "metadata": {},
   "outputs": [],
   "source": [
    "a='data'\n",
    "b=\"data\"\n",
    "c='''data'''\n",
    "d=\"\"\"data\"\"\""
   ]
  },
  {
   "cell_type": "code",
   "execution_count": null,
   "id": "8a49a30e",
   "metadata": {},
   "outputs": [],
   "source": []
  },
  {
   "cell_type": "code",
   "execution_count": 89,
   "id": "631ad2b5",
   "metadata": {},
   "outputs": [
    {
     "data": {
      "text/plain": [
       "'ATA'"
      ]
     },
     "execution_count": 89,
     "metadata": {},
     "output_type": "execute_result"
    }
   ],
   "source": [
    "## String indexing  & slicing\n",
    "\n",
    "name = \"DATA SCIENCE\"\n",
    "\n",
    "name[1:4]"
   ]
  },
  {
   "cell_type": "code",
   "execution_count": 8,
   "id": "cd4471e9",
   "metadata": {},
   "outputs": [
    {
     "data": {
      "text/plain": [
       "'DATA'"
      ]
     },
     "execution_count": 8,
     "metadata": {},
     "output_type": "execute_result"
    }
   ],
   "source": [
    "name[0:4]  #  0,1,2,3,4 -->  this will not include 4 .  N-1\n",
    "#name[-1:-4]\n",
    "#name[:]"
   ]
  },
  {
   "cell_type": "code",
   "execution_count": 91,
   "id": "22e17eeb",
   "metadata": {},
   "outputs": [
    {
     "data": {
      "text/plain": [
       "'E'"
      ]
     },
     "execution_count": 91,
     "metadata": {},
     "output_type": "execute_result"
    }
   ],
   "source": [
    "# negative indexing\n",
    "\n",
    "name[-1]"
   ]
  },
  {
   "cell_type": "code",
   "execution_count": 93,
   "id": "48bc1376",
   "metadata": {},
   "outputs": [
    {
     "data": {
      "text/plain": [
       "'AASIN'"
      ]
     },
     "execution_count": 93,
     "metadata": {},
     "output_type": "execute_result"
    }
   ],
   "source": [
    "name[1:10:2]"
   ]
  },
  {
   "cell_type": "code",
   "execution_count": 10,
   "id": "b33b6df8",
   "metadata": {},
   "outputs": [
    {
     "data": {
      "text/plain": [
       "'C'"
      ]
     },
     "execution_count": 10,
     "metadata": {},
     "output_type": "execute_result"
    }
   ],
   "source": [
    "name[-2]"
   ]
  },
  {
   "cell_type": "code",
   "execution_count": 17,
   "id": "c9994559",
   "metadata": {},
   "outputs": [
    {
     "data": {
      "text/plain": [
       "'DT CEC'"
      ]
     },
     "execution_count": 17,
     "metadata": {},
     "output_type": "execute_result"
    }
   ],
   "source": [
    "#[start, end, jump]\n",
    "name[::2]"
   ]
  },
  {
   "cell_type": "code",
   "execution_count": 13,
   "id": "da379eb9",
   "metadata": {},
   "outputs": [
    {
     "data": {
      "text/plain": [
       "'puorg nohtyp'"
      ]
     },
     "execution_count": 13,
     "metadata": {},
     "output_type": "execute_result"
    }
   ],
   "source": [
    "# this is used to reverse the given string\n",
    "\n",
    "name1 ='python group'\n",
    "name1[::-1]"
   ]
  },
  {
   "cell_type": "code",
   "execution_count": 15,
   "id": "bb596911",
   "metadata": {},
   "outputs": [
    {
     "data": {
      "text/plain": [
       "'uorg noh'"
      ]
     },
     "execution_count": 15,
     "metadata": {},
     "output_type": "execute_result"
    }
   ],
   "source": [
    "# when the step size is negative then the starting no. must be larger\n",
    "\n",
    "name1 ='python group'\n",
    "name1[10:2:-1]"
   ]
  },
  {
   "cell_type": "code",
   "execution_count": null,
   "id": "a9fe4e35",
   "metadata": {},
   "outputs": [],
   "source": []
  },
  {
   "cell_type": "code",
   "execution_count": 17,
   "id": "d9a754cb",
   "metadata": {},
   "outputs": [
    {
     "data": {
      "text/plain": [
       "'world'"
      ]
     },
     "execution_count": 17,
     "metadata": {},
     "output_type": "execute_result"
    }
   ],
   "source": [
    "# negative indexing\n",
    "\n",
    "a= 'hello world'\n",
    "a[-5:]"
   ]
  },
  {
   "cell_type": "code",
   "execution_count": 20,
   "id": "24b69627",
   "metadata": {},
   "outputs": [
    {
     "data": {
      "text/plain": [
       "'l'"
      ]
     },
     "execution_count": 20,
     "metadata": {},
     "output_type": "execute_result"
    }
   ],
   "source": []
  },
  {
   "cell_type": "code",
   "execution_count": 19,
   "id": "fdbda926",
   "metadata": {},
   "outputs": [
    {
     "name": "stdout",
     "output_type": "stream",
     "text": [
      "enter date of birth in the format DD/MM/YYYY: 54\n",
      "The user was born in the month of  in the year:  on date: 54\n"
     ]
    }
   ],
   "source": [
    "# index 0123456789\n",
    "data = input(\"enter date of birth in the format DD/MM/YYYY: \")\n",
    "\n",
    "\n",
    "\n",
    "date = data[0:2]\n",
    "month = data[3:5]\n",
    "year = data[6:]\n",
    "\n",
    "print(f\"The user was born in the month of {month} in the year: {year} on date: {date}\")"
   ]
  },
  {
   "cell_type": "code",
   "execution_count": null,
   "id": "f7fd737a",
   "metadata": {},
   "outputs": [],
   "source": []
  },
  {
   "cell_type": "markdown",
   "id": "1bd96c1e",
   "metadata": {},
   "source": [
    "# write  a program to check that string is palindrome or not\n",
    "\n",
    "radar\n",
    "eve\n",
    "tenet"
   ]
  },
  {
   "cell_type": "code",
   "execution_count": null,
   "id": "db3daeeb",
   "metadata": {},
   "outputs": [],
   "source": []
  },
  {
   "cell_type": "markdown",
   "id": "0bcf0b80",
   "metadata": {},
   "source": [
    "# String is an example of an immutable datatype."
   ]
  },
  {
   "cell_type": "code",
   "execution_count": 21,
   "id": "0f664483",
   "metadata": {},
   "outputs": [
    {
     "ename": "TypeError",
     "evalue": "'str' object does not support item assignment",
     "output_type": "error",
     "traceback": [
      "\u001b[1;31m---------------------------------------------------------------------------\u001b[0m",
      "\u001b[1;31mTypeError\u001b[0m                                 Traceback (most recent call last)",
      "Input \u001b[1;32mIn [21]\u001b[0m, in \u001b[0;36m<cell line: 3>\u001b[1;34m()\u001b[0m\n\u001b[0;32m      1\u001b[0m name \u001b[38;5;241m=\u001b[39m \u001b[38;5;124m\"\u001b[39m\u001b[38;5;124mdata science\u001b[39m\u001b[38;5;124m\"\u001b[39m\n\u001b[0;32m      2\u001b[0m \u001b[38;5;66;03m# Replace R with F?\u001b[39;00m\n\u001b[1;32m----> 3\u001b[0m name[\u001b[38;5;241m0\u001b[39m] \u001b[38;5;241m=\u001b[39m \u001b[38;5;124m\"\u001b[39m\u001b[38;5;124mF\u001b[39m\u001b[38;5;124m\"\u001b[39m\n",
      "\u001b[1;31mTypeError\u001b[0m: 'str' object does not support item assignment"
     ]
    }
   ],
   "source": [
    "name = \"data science\"\n",
    "# Replace R with F?\n",
    "name[0] = \"F\" \n",
    "# python is string is immutablility  (can't change)"
   ]
  },
  {
   "cell_type": "code",
   "execution_count": 26,
   "id": "b7c03ea7",
   "metadata": {},
   "outputs": [
    {
     "name": "stdout",
     "output_type": "stream",
     "text": [
      "data science\n",
      "Data science\n"
     ]
    }
   ],
   "source": [
    "#ANOTHER WAY TO CHANGE THE sting\n",
    "# we cant change the string bcz it is immutable\n",
    "#but trhough thIS we can change\n",
    "name2 =\"data scice\"\n",
    "print(name2)\n",
    "name2 =  \"D\" + name2[1:]\n",
    "print(name2)"
   ]
  },
  {
   "cell_type": "code",
   "execution_count": null,
   "id": "362cf357",
   "metadata": {},
   "outputs": [],
   "source": []
  },
  {
   "cell_type": "code",
   "execution_count": 28,
   "id": "41d67d62",
   "metadata": {},
   "outputs": [],
   "source": [
    "# we can del the whole the whole string but not the portion of string\n",
    "\n",
    "del(name2)\n"
   ]
  },
  {
   "cell_type": "code",
   "execution_count": null,
   "id": "9b5bcfc7",
   "metadata": {},
   "outputs": [],
   "source": []
  },
  {
   "cell_type": "code",
   "execution_count": 51,
   "id": "41d2a06f",
   "metadata": {},
   "outputs": [
    {
     "name": "stdout",
     "output_type": "stream",
     "text": [
      "preparing for DATA science\n"
     ]
    }
   ],
   "source": [
    "# can use replace\n",
    "work = \"preparing for data science\"\n",
    "\n",
    "work1 = work.replace(\"data\", \"DATA\")\n",
    "print(work1)"
   ]
  },
  {
   "cell_type": "code",
   "execution_count": null,
   "id": "37c70095",
   "metadata": {},
   "outputs": [],
   "source": []
  },
  {
   "cell_type": "markdown",
   "id": "17b82de4",
   "metadata": {},
   "source": [
    "# functin in python\n",
    "\n",
    " - len\n",
    " - max\n",
    " - min\n",
    " - sorted\n",
    " - Capitalize\n",
    " - Title\n",
    " - Upper\n",
    " - Lower\n",
    " - Swapcase\n",
    " - count\n",
    " - find\n",
    " - index\n",
    " - endswith\n",
    " - startwith\n",
    " - format\n",
    " - isalnum\n",
    " - isalpha\n",
    " - isdigit\n",
    " - isidentifier\n",
    " - split\n",
    " - join\n",
    " - replace\n",
    " - strip"
   ]
  },
  {
   "cell_type": "code",
   "execution_count": 52,
   "id": "36a80003",
   "metadata": {},
   "outputs": [
    {
     "data": {
      "text/plain": [
       "'data science'"
      ]
     },
     "execution_count": 52,
     "metadata": {},
     "output_type": "execute_result"
    }
   ],
   "source": [
    "'data science'"
   ]
  },
  {
   "cell_type": "code",
   "execution_count": 54,
   "id": "f3ac590d",
   "metadata": {},
   "outputs": [
    {
     "data": {
      "text/plain": [
       "12"
      ]
     },
     "execution_count": 54,
     "metadata": {},
     "output_type": "execute_result"
    }
   ],
   "source": [
    "len('data science')"
   ]
  },
  {
   "cell_type": "code",
   "execution_count": 55,
   "id": "1dcd3c13",
   "metadata": {},
   "outputs": [
    {
     "data": {
      "text/plain": [
       "'t'"
      ]
     },
     "execution_count": 55,
     "metadata": {},
     "output_type": "execute_result"
    }
   ],
   "source": [
    "max('data science')"
   ]
  },
  {
   "cell_type": "code",
   "execution_count": 56,
   "id": "fc967fbf",
   "metadata": {},
   "outputs": [
    {
     "data": {
      "text/plain": [
       "' '"
      ]
     },
     "execution_count": 56,
     "metadata": {},
     "output_type": "execute_result"
    }
   ],
   "source": [
    "min('data science')"
   ]
  },
  {
   "cell_type": "code",
   "execution_count": 57,
   "id": "c23c7d7d",
   "metadata": {},
   "outputs": [
    {
     "data": {
      "text/plain": [
       "[' ', 'a', 'a', 'c', 'c', 'd', 'e', 'e', 'i', 'n', 's', 't']"
      ]
     },
     "execution_count": 57,
     "metadata": {},
     "output_type": "execute_result"
    }
   ],
   "source": [
    "sorted('data sciecne')"
   ]
  },
  {
   "cell_type": "markdown",
   "id": "3230e71e",
   "metadata": {},
   "source": [
    "https://docs.python.org/3/library/string.html  -> string documentation"
   ]
  },
  {
   "cell_type": "markdown",
   "id": "4d51695b",
   "metadata": {},
   "source": [
    "# length of string\n"
   ]
  },
  {
   "cell_type": "code",
   "execution_count": 26,
   "id": "3969b3df",
   "metadata": {},
   "outputs": [
    {
     "data": {
      "text/plain": [
       "14"
      ]
     },
     "execution_count": 26,
     "metadata": {},
     "output_type": "execute_result"
    }
   ],
   "source": [
    "a = \"study in group\"\n",
    "len(a)"
   ]
  },
  {
   "cell_type": "code",
   "execution_count": 27,
   "id": "e220383d",
   "metadata": {},
   "outputs": [
    {
     "ename": "TypeError",
     "evalue": "object of type 'int' has no len()",
     "output_type": "error",
     "traceback": [
      "\u001b[1;31m---------------------------------------------------------------------------\u001b[0m",
      "\u001b[1;31mTypeError\u001b[0m                                 Traceback (most recent call last)",
      "Input \u001b[1;32mIn [27]\u001b[0m, in \u001b[0;36m<cell line: 3>\u001b[1;34m()\u001b[0m\n\u001b[0;32m      1\u001b[0m b\u001b[38;5;241m=\u001b[39m\u001b[38;5;241m3\u001b[39m\n\u001b[0;32m      2\u001b[0m a\u001b[38;5;241m=\u001b[39m[\u001b[38;5;241m5\u001b[39m,\u001b[38;5;241m2\u001b[39m,\u001b[38;5;241m1\u001b[39m,\u001b[38;5;241m5\u001b[39m,\u001b[38;5;241m1\u001b[39m,\u001b[38;5;241m2\u001b[39m]\n\u001b[1;32m----> 3\u001b[0m \u001b[38;5;28;43mlen\u001b[39;49m\u001b[43m(\u001b[49m\u001b[43mb\u001b[49m\u001b[43m)\u001b[49m\n",
      "\u001b[1;31mTypeError\u001b[0m: object of type 'int' has no len()"
     ]
    }
   ],
   "source": [
    "b=3\n",
    "a=[5,2,1,5,1,2]\n",
    "len(b)"
   ]
  },
  {
   "cell_type": "markdown",
   "id": "8717258e",
   "metadata": {},
   "source": []
  },
  {
   "cell_type": "code",
   "execution_count": null,
   "id": "984f9523",
   "metadata": {},
   "outputs": [],
   "source": []
  },
  {
   "cell_type": "markdown",
   "id": "1ed745fc",
   "metadata": {},
   "source": [
    "# count"
   ]
  },
  {
   "cell_type": "code",
   "execution_count": 28,
   "id": "b1aa9005",
   "metadata": {},
   "outputs": [
    {
     "data": {
      "text/plain": [
       "9"
      ]
     },
     "execution_count": 28,
     "metadata": {},
     "output_type": "execute_result"
    }
   ],
   "source": [
    "a = 'DATA SCIENCE MAJA AA RAHA HAI ?'\n",
    "a.count(\"A\")"
   ]
  },
  {
   "cell_type": "code",
   "execution_count": 67,
   "id": "e077ff74",
   "metadata": {},
   "outputs": [
    {
     "data": {
      "text/plain": [
       "3"
      ]
     },
     "execution_count": 67,
     "metadata": {},
     "output_type": "execute_result"
    }
   ],
   "source": [
    "# also work for int type\n",
    "b= 1,2,3,5,2,5,1,7,4,7,1\n",
    "b.count(1)"
   ]
  },
  {
   "cell_type": "code",
   "execution_count": null,
   "id": "9b37e2b3",
   "metadata": {},
   "outputs": [],
   "source": []
  },
  {
   "cell_type": "code",
   "execution_count": null,
   "id": "0749d220",
   "metadata": {},
   "outputs": [],
   "source": [
    "# FIND\n",
    "\n",
    "\n",
    "# find show the postion"
   ]
  },
  {
   "cell_type": "code",
   "execution_count": 68,
   "id": "1b72ab03",
   "metadata": {},
   "outputs": [
    {
     "data": {
      "text/plain": [
       "5"
      ]
     },
     "execution_count": 68,
     "metadata": {},
     "output_type": "execute_result"
    }
   ],
   "source": [
    "'here we are revising python'.find('we')"
   ]
  },
  {
   "cell_type": "code",
   "execution_count": 70,
   "id": "cd962a1a",
   "metadata": {},
   "outputs": [
    {
     "data": {
      "text/plain": [
       "-1"
      ]
     },
     "execution_count": 70,
     "metadata": {},
     "output_type": "execute_result"
    }
   ],
   "source": [
    "'here we are revising python'.find('not')\n",
    "\n",
    "# is a string what ever we finding and if that string is not present then it weill return -1"
   ]
  },
  {
   "cell_type": "code",
   "execution_count": null,
   "id": "e1bbf3b0",
   "metadata": {},
   "outputs": [],
   "source": [
    "# Index\n",
    "\n",
    "# if someting is not present then it will through error for this"
   ]
  },
  {
   "cell_type": "code",
   "execution_count": 71,
   "id": "e97a31ab",
   "metadata": {},
   "outputs": [
    {
     "data": {
      "text/plain": [
       "5"
      ]
     },
     "execution_count": 71,
     "metadata": {},
     "output_type": "execute_result"
    }
   ],
   "source": [
    "'here we are revising python'.index('we')"
   ]
  },
  {
   "cell_type": "code",
   "execution_count": 73,
   "id": "03f0ee5d",
   "metadata": {},
   "outputs": [
    {
     "ename": "ValueError",
     "evalue": "substring not found",
     "output_type": "error",
     "traceback": [
      "\u001b[1;31m---------------------------------------------------------------------------\u001b[0m",
      "\u001b[1;31mValueError\u001b[0m                                Traceback (most recent call last)",
      "Input \u001b[1;32mIn [73]\u001b[0m, in \u001b[0;36m<cell line: 1>\u001b[1;34m()\u001b[0m\n\u001b[1;32m----> 1\u001b[0m \u001b[38;5;124;43m'\u001b[39;49m\u001b[38;5;124;43mhere we are revising python\u001b[39;49m\u001b[38;5;124;43m'\u001b[39;49m\u001b[38;5;241;43m.\u001b[39;49m\u001b[43mindex\u001b[49m\u001b[43m(\u001b[49m\u001b[38;5;124;43m'\u001b[39;49m\u001b[38;5;124;43mnot\u001b[39;49m\u001b[38;5;124;43m'\u001b[39;49m\u001b[43m)\u001b[49m\n",
      "\u001b[1;31mValueError\u001b[0m: substring not found"
     ]
    }
   ],
   "source": [
    "'here we are revising python'.index('not')"
   ]
  },
  {
   "cell_type": "code",
   "execution_count": null,
   "id": "68b59db1",
   "metadata": {},
   "outputs": [],
   "source": []
  },
  {
   "cell_type": "code",
   "execution_count": null,
   "id": "b7b2ef23",
   "metadata": {},
   "outputs": [],
   "source": []
  },
  {
   "cell_type": "markdown",
   "id": "44f65366",
   "metadata": {},
   "source": [
    "# split , join\n",
    "\n"
   ]
  },
  {
   "cell_type": "code",
   "execution_count": 58,
   "id": "10f65721",
   "metadata": {},
   "outputs": [
    {
     "data": {
      "text/plain": [
       "['D', 'T', ' SCIENCE']"
      ]
     },
     "execution_count": 58,
     "metadata": {},
     "output_type": "execute_result"
    }
   ],
   "source": [
    "name = \"DATA SCIENCE\"\n",
    "name.split(\"A\")\n",
    "\n",
    "# we can split a string \n",
    "\n",
    "# if nothing is pass then it split on the bases of spaces \" \""
   ]
  },
  {
   "cell_type": "code",
   "execution_count": 59,
   "id": "5dbfd91b",
   "metadata": {},
   "outputs": [
    {
     "data": {
      "text/plain": [
       "'D T  SCIENCE'"
      ]
     },
     "execution_count": 59,
     "metadata": {},
     "output_type": "execute_result"
    }
   ],
   "source": [
    "\" \".join(['D', 'T', ' SCIENCE'])"
   ]
  },
  {
   "cell_type": "code",
   "execution_count": 62,
   "id": "f81bcd6a",
   "metadata": {},
   "outputs": [
    {
     "data": {
      "text/plain": [
       "'hi my name is ratan'"
      ]
     },
     "execution_count": 62,
     "metadata": {},
     "output_type": "execute_result"
    }
   ],
   "source": [
    "\" \".join(['hi', 'my', 'name', 'is', 'ratan'])"
   ]
  },
  {
   "cell_type": "code",
   "execution_count": null,
   "id": "11b070b8",
   "metadata": {},
   "outputs": [],
   "source": []
  },
  {
   "cell_type": "code",
   "execution_count": 83,
   "id": "bdcd8643",
   "metadata": {},
   "outputs": [
    {
     "data": {
      "text/plain": [
       "'hi- my- name- is- ratan'"
      ]
     },
     "execution_count": 83,
     "metadata": {},
     "output_type": "execute_result"
    }
   ],
   "source": [
    "\"- \".join(['hi', 'my', 'name', 'is', 'ratan'])"
   ]
  },
  {
   "cell_type": "code",
   "execution_count": null,
   "id": "c0918976",
   "metadata": {},
   "outputs": [],
   "source": []
  },
  {
   "cell_type": "code",
   "execution_count": 64,
   "id": "04ca12b0",
   "metadata": {},
   "outputs": [
    {
     "name": "stdout",
     "output_type": "stream",
     "text": [
      "enter date of birth in the format DD/MM/YYYY: 20/04/1996\n",
      "The user was born in the month of 04 in the year: 1996 on date: 20\n"
     ]
    }
   ],
   "source": [
    "data = input(\"enter date of birth in the format DD/MM/YYYY: \")\n",
    "date, month, year = data.split(\"/\")\n",
    "\n",
    "print(f\"The user was born in the month of {month} in the year: {year} on date: {date}\")"
   ]
  },
  {
   "cell_type": "code",
   "execution_count": 66,
   "id": "083bc5dd",
   "metadata": {},
   "outputs": [
    {
     "name": "stdout",
     "output_type": "stream",
     "text": [
      "enter your full name : with spaceRATAN KUMA RJHA\n",
      "name : RATAN middle name : KUMA\n"
     ]
    }
   ],
   "source": [
    "name1 =input(\"enter your full name : with space\")\n",
    "f_name,m_name, l_name = name1.split(\" \")\n",
    "print(f\"name : {f_name} middle name : {m_name}\")"
   ]
  },
  {
   "cell_type": "code",
   "execution_count": null,
   "id": "30af9387",
   "metadata": {},
   "outputs": [],
   "source": []
  },
  {
   "cell_type": "markdown",
   "id": "e466722e",
   "metadata": {},
   "source": [
    "# lower, upper case"
   ]
  },
  {
   "cell_type": "code",
   "execution_count": 35,
   "id": "c1346f94",
   "metadata": {},
   "outputs": [
    {
     "data": {
      "text/plain": [
       "'INTELLIPAAT'"
      ]
     },
     "execution_count": 35,
     "metadata": {},
     "output_type": "execute_result"
    }
   ],
   "source": [
    "course = \"intellipaat\"\n",
    "course.upper()"
   ]
  },
  {
   "cell_type": "code",
   "execution_count": 36,
   "id": "7e96a165",
   "metadata": {},
   "outputs": [
    {
     "data": {
      "text/plain": [
       "' abcdefghijklmnopqrstuvwxyz'"
      ]
     },
     "execution_count": 36,
     "metadata": {},
     "output_type": "execute_result"
    }
   ],
   "source": [
    "course = \" ABCDEFGHIJKLMNOPQRSTUVWXYZ\"\n",
    "course.lower()"
   ]
  },
  {
   "cell_type": "code",
   "execution_count": 35,
   "id": "a7002d8e",
   "metadata": {},
   "outputs": [
    {
     "name": "stdout",
     "output_type": "stream",
     "text": [
      "user input: here We ArE TryING To learn data SCIENCE\n",
      "name in upper case: HERE WE ARE TRYING TO LEARN DATA SCIENCE\n",
      "name in lower case: here we are trying to learn data science\n",
      "name in title case: Here We Are Trying To Learn Data Science\n",
      "name in capitalize case: Here we are trying to learn data science\n",
      "name in swapcase case: HERE wE aRe tRYing tO LEARN DATA science\n"
     ]
    }
   ],
   "source": [
    "name = \"here We ArE TryING To learn data SCIENCE\"\n",
    "\n",
    "print(f\"user input: {name}\")\n",
    "print(f\"name in upper case: {name.upper()}\")\n",
    "print(f\"name in lower case: {name.lower()}\")\n",
    "print(f\"name in title case: {name.title()}\") # \n",
    "print(f\"name in capitalize case: {name.capitalize()}\")\n",
    "print(f\"name in swapcase case: {name.swapcase()}\")"
   ]
  },
  {
   "cell_type": "code",
   "execution_count": null,
   "id": "52b0fc00",
   "metadata": {},
   "outputs": [],
   "source": []
  },
  {
   "cell_type": "markdown",
   "id": "b938fed5",
   "metadata": {},
   "source": [
    "## Operations on Strings\n",
    "\n",
    "- Arithmetic Operations -- work ok addition and multiplication\n",
    "- Relational Operations -- all work (<,>,>= ....)\n",
    "- Logical Operations\n",
    "- Loops on Strings\n",
    "- Membership Operations"
   ]
  },
  {
   "cell_type": "code",
   "execution_count": null,
   "id": "c30282b3",
   "metadata": {},
   "outputs": [],
   "source": [
    "print('some' + ' ' + 'one')"
   ]
  },
  {
   "cell_type": "code",
   "execution_count": null,
   "id": "c5fcfd1b",
   "metadata": {},
   "outputs": [],
   "source": []
  },
  {
   "cell_type": "code",
   "execution_count": null,
   "id": "7143c5d9",
   "metadata": {},
   "outputs": [],
   "source": [
    "print('*'*50)"
   ]
  },
  {
   "cell_type": "code",
   "execution_count": 30,
   "id": "5f912ec3",
   "metadata": {},
   "outputs": [
    {
     "name": "stdout",
     "output_type": "stream",
     "text": [
      "delhidelhidelhidelhidelhi\n",
      "**************************************************\n"
     ]
    }
   ],
   "source": [
    "print('delhi'*5)\n",
    "print('*'*50)"
   ]
  },
  {
   "cell_type": "code",
   "execution_count": 33,
   "id": "fe3b9521",
   "metadata": {},
   "outputs": [
    {
     "data": {
      "text/plain": [
       "False"
      ]
     },
     "execution_count": 33,
     "metadata": {},
     "output_type": "execute_result"
    }
   ],
   "source": [
    "'data'=='Data'"
   ]
  },
  {
   "cell_type": "code",
   "execution_count": 34,
   "id": "c00566de",
   "metadata": {},
   "outputs": [
    {
     "data": {
      "text/plain": [
       "True"
      ]
     },
     "execution_count": 34,
     "metadata": {},
     "output_type": "execute_result"
    }
   ],
   "source": [
    "'course'< 'data'\n",
    "\n",
    "# here we are not comparing on the bases on len. \n",
    "# but here we are comparing on the bases of the ascii value"
   ]
  },
  {
   "cell_type": "code",
   "execution_count": 40,
   "id": "e89ce0be",
   "metadata": {},
   "outputs": [
    {
     "name": "stdout",
     "output_type": "stream",
     "text": [
      "h\n",
      "e\n",
      "l\n",
      "l\n",
      "o\n",
      " \n",
      "e\n",
      "v\n",
      "e\n",
      "r\n",
      "y\n",
      "o\n",
      "n\n",
      "e\n"
     ]
    }
   ],
   "source": [
    "# string can iterate\n",
    "\n",
    "for i in 'hello everyone':\n",
    "  print(i)"
   ]
  },
  {
   "cell_type": "code",
   "execution_count": null,
   "id": "2097918a",
   "metadata": {},
   "outputs": [],
   "source": []
  },
  {
   "cell_type": "code",
   "execution_count": 42,
   "id": "6570ad55",
   "metadata": {},
   "outputs": [
    {
     "data": {
      "text/plain": [
       "False"
      ]
     },
     "execution_count": 42,
     "metadata": {},
     "output_type": "execute_result"
    }
   ],
   "source": [
    "'D' in 'delhi'"
   ]
  },
  {
   "cell_type": "code",
   "execution_count": 36,
   "id": "e2635969",
   "metadata": {},
   "outputs": [
    {
     "data": {
      "text/plain": [
       "True"
      ]
     },
     "execution_count": 36,
     "metadata": {},
     "output_type": "execute_result"
    }
   ],
   "source": [
    "\"d\" in \"delhi\""
   ]
  },
  {
   "cell_type": "code",
   "execution_count": 50,
   "id": "68421c3c",
   "metadata": {},
   "outputs": [
    {
     "data": {
      "text/plain": [
       "False"
      ]
     },
     "execution_count": 50,
     "metadata": {},
     "output_type": "execute_result"
    }
   ],
   "source": [
    "'d' not in 'delhi'"
   ]
  },
  {
   "cell_type": "code",
   "execution_count": null,
   "id": "020a1c79",
   "metadata": {},
   "outputs": [],
   "source": []
  },
  {
   "cell_type": "code",
   "execution_count": null,
   "id": "9c195595",
   "metadata": {},
   "outputs": [],
   "source": [
    "# use of AND , OR in string"
   ]
  },
  {
   "cell_type": "code",
   "execution_count": null,
   "id": "ba0cd908",
   "metadata": {},
   "outputs": [],
   "source": [
    "# EMPTY STRING IN PYTHON IS FALSE\n",
    "# STRING WITH CHARCHTER IS TRUE"
   ]
  },
  {
   "cell_type": "code",
   "execution_count": 38,
   "id": "727eaab7",
   "metadata": {},
   "outputs": [
    {
     "data": {
      "text/plain": [
       "'science'"
      ]
     },
     "execution_count": 38,
     "metadata": {},
     "output_type": "execute_result"
    }
   ],
   "source": [
    "'data' and 'science'"
   ]
  },
  {
   "cell_type": "code",
   "execution_count": 39,
   "id": "19eb4c34",
   "metadata": {},
   "outputs": [
    {
     "data": {
      "text/plain": [
       "''"
      ]
     },
     "execution_count": 39,
     "metadata": {},
     "output_type": "execute_result"
    }
   ],
   "source": [
    "'' and 'science'"
   ]
  },
  {
   "cell_type": "code",
   "execution_count": 42,
   "id": "00e8a740",
   "metadata": {},
   "outputs": [
    {
     "data": {
      "text/plain": [
       "'science'"
      ]
     },
     "execution_count": 42,
     "metadata": {},
     "output_type": "execute_result"
    }
   ],
   "source": [
    "'' or 'science'"
   ]
  },
  {
   "cell_type": "code",
   "execution_count": 43,
   "id": "dd1133af",
   "metadata": {},
   "outputs": [
    {
     "data": {
      "text/plain": [
       "''"
      ]
     },
     "execution_count": 43,
     "metadata": {},
     "output_type": "execute_result"
    }
   ],
   "source": [
    "'' and ''"
   ]
  },
  {
   "cell_type": "markdown",
   "id": "5f60b616",
   "metadata": {},
   "source": [
    "# sorted"
   ]
  },
  {
   "cell_type": "code",
   "execution_count": 48,
   "id": "92ad68c2",
   "metadata": {},
   "outputs": [
    {
     "data": {
      "text/plain": [
       "['w', 'r', 'o', 'o', 'l', 'l', 'l', 'h', 'e', 'd', ' ']"
      ]
     },
     "execution_count": 48,
     "metadata": {},
     "output_type": "execute_result"
    }
   ],
   "source": [
    "sorted('hello world',reverse=True)"
   ]
  },
  {
   "cell_type": "code",
   "execution_count": 49,
   "id": "6f41634d",
   "metadata": {},
   "outputs": [
    {
     "data": {
      "text/plain": [
       "[' ', 'd', 'e', 'h', 'l', 'l', 'l', 'o', 'o', 'r', 'w']"
      ]
     },
     "execution_count": 49,
     "metadata": {},
     "output_type": "execute_result"
    }
   ],
   "source": [
    "sorted('hello world')"
   ]
  },
  {
   "cell_type": "code",
   "execution_count": null,
   "id": "4a97e0b6",
   "metadata": {},
   "outputs": [],
   "source": []
  },
  {
   "cell_type": "markdown",
   "id": "09171606",
   "metadata": {},
   "source": [
    "# join,replace"
   ]
  },
  {
   "cell_type": "code",
   "execution_count": 87,
   "id": "0ef94fef",
   "metadata": {},
   "outputs": [
    {
     "data": {
      "text/plain": [
       "'d*a*t*a* *s*c*i*e*n*c*e* *r*e*v*i*s*i*o*n'"
      ]
     },
     "execution_count": 87,
     "metadata": {},
     "output_type": "execute_result"
    }
   ],
   "source": [
    "name = \"data science revision\"\n",
    "\n",
    "\"*\".join(name)"
   ]
  },
  {
   "cell_type": "code",
   "execution_count": 88,
   "id": "7a43a237",
   "metadata": {},
   "outputs": [
    {
     "data": {
      "text/plain": [
       "'hi my name is ratan'"
      ]
     },
     "execution_count": 88,
     "metadata": {},
     "output_type": "execute_result"
    }
   ],
   "source": [
    "\" \".join(['hi', 'my', 'name', 'is', 'ratan'])"
   ]
  },
  {
   "cell_type": "code",
   "execution_count": null,
   "id": "477a3f74",
   "metadata": {},
   "outputs": [],
   "source": []
  },
  {
   "cell_type": "code",
   "execution_count": 45,
   "id": "3cb41c8e",
   "metadata": {},
   "outputs": [
    {
     "data": {
      "text/plain": [
       "'R|A|T|A|N| |K|U|M|A|R| |J|H|A'"
      ]
     },
     "execution_count": 45,
     "metadata": {},
     "output_type": "execute_result"
    }
   ],
   "source": [
    "name = \"RATAN KUMAR JHA\"\n",
    "\n",
    "\"|\".join(name)"
   ]
  },
  {
   "cell_type": "code",
   "execution_count": 85,
   "id": "49653ef6",
   "metadata": {},
   "outputs": [
    {
     "data": {
      "text/plain": [
       "'d a t a   s c i e n c e   r e v i s i o n'"
      ]
     },
     "execution_count": 85,
     "metadata": {},
     "output_type": "execute_result"
    }
   ],
   "source": [
    "name1= \"data science revision\"\n",
    "\" \".join(name1)"
   ]
  },
  {
   "cell_type": "code",
   "execution_count": 47,
   "id": "cf2e1217",
   "metadata": {},
   "outputs": [
    {
     "data": {
      "text/plain": [
       "'data|science|revision'"
      ]
     },
     "execution_count": 47,
     "metadata": {},
     "output_type": "execute_result"
    }
   ],
   "source": [
    "name = \"data science revision\"\n",
    "\n",
    "name.replace(\" \", \"|\")"
   ]
  },
  {
   "cell_type": "code",
   "execution_count": null,
   "id": "374f6234",
   "metadata": {},
   "outputs": [],
   "source": []
  },
  {
   "cell_type": "code",
   "execution_count": 86,
   "id": "92388157",
   "metadata": {},
   "outputs": [
    {
     "data": {
      "text/plain": [
       "'data science learning'"
      ]
     },
     "execution_count": 86,
     "metadata": {},
     "output_type": "execute_result"
    }
   ],
   "source": [
    "name1.replace('revision','learning')"
   ]
  },
  {
   "cell_type": "code",
   "execution_count": null,
   "id": "ae494bc6",
   "metadata": {},
   "outputs": [],
   "source": []
  },
  {
   "cell_type": "markdown",
   "id": "5b2978a5",
   "metadata": {},
   "source": [
    "### remove extra spaces front and back of the string"
   ]
  },
  {
   "cell_type": "code",
   "execution_count": null,
   "id": "afa7a35c",
   "metadata": {},
   "outputs": [],
   "source": []
  },
  {
   "cell_type": "markdown",
   "id": "a5a1411f",
   "metadata": {},
   "source": [
    "# STRIP, LSTRIP ,RSTRIP"
   ]
  },
  {
   "cell_type": "code",
   "execution_count": 50,
   "id": "a9d25903",
   "metadata": {},
   "outputs": [
    {
     "data": {
      "text/plain": [
       "'ratan'"
      ]
     },
     "execution_count": 50,
     "metadata": {},
     "output_type": "execute_result"
    }
   ],
   "source": [
    "name = \"  ratan   \"\n",
    "name.strip(\" \")"
   ]
  },
  {
   "cell_type": "code",
   "execution_count": 51,
   "id": "87b12fef",
   "metadata": {},
   "outputs": [
    {
     "data": {
      "text/plain": [
       "'ratan '"
      ]
     },
     "execution_count": 51,
     "metadata": {},
     "output_type": "execute_result"
    }
   ],
   "source": [
    "name = \"ratan ========\"\n",
    "name.strip(\"=\")"
   ]
  },
  {
   "cell_type": "markdown",
   "id": "85bf2de7",
   "metadata": {},
   "source": []
  },
  {
   "cell_type": "code",
   "execution_count": null,
   "id": "f7f00118",
   "metadata": {},
   "outputs": [],
   "source": [
    "#center"
   ]
  },
  {
   "cell_type": "code",
   "execution_count": 77,
   "id": "8e3da15d",
   "metadata": {},
   "outputs": [
    {
     "data": {
      "text/plain": [
       "'&&&data&&&'"
      ]
     },
     "execution_count": 77,
     "metadata": {},
     "output_type": "execute_result"
    }
   ],
   "source": [
    "name = \"data\"\n",
    "\n",
    "name.center(10, \"&\")"
   ]
  },
  {
   "cell_type": "code",
   "execution_count": null,
   "id": "60b935b1",
   "metadata": {},
   "outputs": [],
   "source": []
  },
  {
   "cell_type": "code",
   "execution_count": null,
   "id": "6a5a3670",
   "metadata": {},
   "outputs": [],
   "source": []
  },
  {
   "cell_type": "markdown",
   "id": "20f0178d",
   "metadata": {},
   "source": [
    "# checking string\n",
    "\n",
    "- ISUPPER\n",
    "- ISLOWER\n",
    "- ISSPACE\n",
    "- ISTITLE\n",
    "\n",
    "#THESE ALL WILL RETURN IN BOOLEAN VALUE"
   ]
  },
  {
   "cell_type": "code",
   "execution_count": 74,
   "id": "17f05be4",
   "metadata": {},
   "outputs": [
    {
     "data": {
      "text/plain": [
       "False"
      ]
     },
     "execution_count": 74,
     "metadata": {},
     "output_type": "execute_result"
    }
   ],
   "source": [
    "name = \"KITNE BAAR LIKHU\"\n",
    "name.islower()"
   ]
  },
  {
   "cell_type": "code",
   "execution_count": null,
   "id": "c8e09082",
   "metadata": {},
   "outputs": [],
   "source": []
  },
  {
   "cell_type": "code",
   "execution_count": 54,
   "id": "dadfceb8",
   "metadata": {},
   "outputs": [
    {
     "name": "stdout",
     "output_type": "stream",
     "text": [
      "Enter your name: \n",
      "user input: \n",
      "wrong input we need to autocorrect it\n",
      "Correct output: \n"
     ]
    }
   ],
   "source": [
    "name = input(\"Enter your name: \")\n",
    "\n",
    "print(f\"user input: {name}\")\n",
    "\n",
    "if name.istitle():\n",
    "  print(f\"user has given correct input\")\n",
    "elif name.isspace():\n",
    "  print(f\"Wrong input please try again!!\")\n",
    "else:\n",
    "  print(f\"wrong input we need to autocorrect it\")\n",
    "  name = name.title()\n",
    "  print(f\"Correct output: {name}\")"
   ]
  },
  {
   "cell_type": "code",
   "execution_count": null,
   "id": "90f73755",
   "metadata": {},
   "outputs": [],
   "source": []
  },
  {
   "cell_type": "code",
   "execution_count": null,
   "id": "40d5c8ee",
   "metadata": {},
   "outputs": [],
   "source": []
  },
  {
   "cell_type": "markdown",
   "id": "c36e653b",
   "metadata": {},
   "source": [
    "# is digit"
   ]
  },
  {
   "cell_type": "code",
   "execution_count": 56,
   "id": "210b5170",
   "metadata": {},
   "outputs": [
    {
     "data": {
      "text/plain": [
       "True"
      ]
     },
     "execution_count": 56,
     "metadata": {},
     "output_type": "execute_result"
    }
   ],
   "source": [
    "phone_number = \"1308580135\"\n",
    "phone_number.isdigit()    #5424@678678"
   ]
  },
  {
   "cell_type": "code",
   "execution_count": 75,
   "id": "b66a09a2",
   "metadata": {},
   "outputs": [
    {
     "data": {
      "text/plain": [
       "False"
      ]
     },
     "execution_count": 75,
     "metadata": {},
     "output_type": "execute_result"
    }
   ],
   "source": [
    "phone_number = \"1308580135ggg\"\n",
    "phone_number.isdigit()"
   ]
  },
  {
   "cell_type": "code",
   "execution_count": null,
   "id": "8f3db1cd",
   "metadata": {},
   "outputs": [],
   "source": []
  },
  {
   "cell_type": "markdown",
   "id": "c8d284b9",
   "metadata": {},
   "source": [
    "# startswith  & endwith"
   ]
  },
  {
   "cell_type": "code",
   "execution_count": null,
   "id": "c0a071c7",
   "metadata": {},
   "outputs": [],
   "source": []
  },
  {
   "cell_type": "code",
   "execution_count": 58,
   "id": "9d64fac1",
   "metadata": {},
   "outputs": [
    {
     "data": {
      "text/plain": [
       "False"
      ]
     },
     "execution_count": 58,
     "metadata": {},
     "output_type": "execute_result"
    }
   ],
   "source": [
    "phone_number.startswith(\"9\")"
   ]
  },
  {
   "cell_type": "code",
   "execution_count": 59,
   "id": "652a190b",
   "metadata": {},
   "outputs": [
    {
     "data": {
      "text/plain": [
       "True"
      ]
     },
     "execution_count": 59,
     "metadata": {},
     "output_type": "execute_result"
    }
   ],
   "source": [
    "phone_number = \"+914523452345\"\n",
    "\n",
    "phone_number.startswith(\"+91\")"
   ]
  },
  {
   "cell_type": "code",
   "execution_count": 60,
   "id": "8182ffc5",
   "metadata": {},
   "outputs": [
    {
     "data": {
      "text/plain": [
       "True"
      ]
     },
     "execution_count": 60,
     "metadata": {},
     "output_type": "execute_result"
    }
   ],
   "source": [
    "'my name is ratan'.endswith('an')"
   ]
  },
  {
   "cell_type": "code",
   "execution_count": null,
   "id": "7bc6fe33",
   "metadata": {},
   "outputs": [],
   "source": [
    "'imratankj@gmail.com'.endswith('@gmail.com')"
   ]
  },
  {
   "cell_type": "markdown",
   "id": "831372ee",
   "metadata": {},
   "source": [
    "# isalnum"
   ]
  },
  {
   "cell_type": "code",
   "execution_count": null,
   "id": "0a9fc904",
   "metadata": {},
   "outputs": [],
   "source": []
  },
  {
   "cell_type": "code",
   "execution_count": 79,
   "id": "2b207790",
   "metadata": {},
   "outputs": [
    {
     "data": {
      "text/plain": [
       "True"
      ]
     },
     "execution_count": 79,
     "metadata": {},
     "output_type": "execute_result"
    }
   ],
   "source": [
    "PAN_NUMBERS = \"AYEPC5656X\"\n",
    "PAN_NUMBERS.isalnum() # Check for alpha numeric case"
   ]
  },
  {
   "cell_type": "code",
   "execution_count": 80,
   "id": "bf0abb4f",
   "metadata": {},
   "outputs": [],
   "source": [
    "#isidentifier\n",
    "\n",
    "# this is use to check  whether it is correct identifer or not"
   ]
  },
  {
   "cell_type": "code",
   "execution_count": null,
   "id": "289dde6c",
   "metadata": {},
   "outputs": [],
   "source": []
  },
  {
   "cell_type": "code",
   "execution_count": 81,
   "id": "9f43be2f",
   "metadata": {},
   "outputs": [],
   "source": [
    "# isalpha()"
   ]
  },
  {
   "cell_type": "code",
   "execution_count": 82,
   "id": "55cb5daa",
   "metadata": {},
   "outputs": [
    {
     "data": {
      "text/plain": [
       "True"
      ]
     },
     "execution_count": 82,
     "metadata": {},
     "output_type": "execute_result"
    }
   ],
   "source": [
    "'ratan'.isalpha()"
   ]
  },
  {
   "cell_type": "code",
   "execution_count": null,
   "id": "65fbb634",
   "metadata": {},
   "outputs": [],
   "source": []
  },
  {
   "cell_type": "markdown",
   "id": "c69666d2",
   "metadata": {},
   "source": [
    "## write a program  enter a user input phone phone , start with +91 , total length 13, all should be no. check digit, none of the no. repeat more then 7.\n"
   ]
  },
  {
   "cell_type": "code",
   "execution_count": null,
   "id": "de74813c",
   "metadata": {},
   "outputs": [],
   "source": [
    "+918767898764"
   ]
  },
  {
   "cell_type": "markdown",
   "id": "1fd5de8a",
   "metadata": {},
   "source": [
    "# format\n",
    "\n",
    "#name = 'ratan'\n",
    "gender = 'male'\n",
    "\n",
    "'Hi my name is {1} and I am a {0}'.format(gender,name)"
   ]
  },
  {
   "cell_type": "code",
   "execution_count": 78,
   "id": "d65364f9",
   "metadata": {},
   "outputs": [
    {
     "data": {
      "text/plain": [
       "'Hi my name is ratan and I am a male'"
      ]
     },
     "execution_count": 78,
     "metadata": {},
     "output_type": "execute_result"
    }
   ],
   "source": [
    "name= 'ratan'\n",
    "gender ='male'\n",
    "'Hi my name is {1} and I am a {0}'.format(gender,name)"
   ]
  },
  {
   "cell_type": "code",
   "execution_count": null,
   "id": "87b68d0d",
   "metadata": {},
   "outputs": [],
   "source": []
  },
  {
   "cell_type": "code",
   "execution_count": null,
   "id": "0206040c",
   "metadata": {},
   "outputs": [],
   "source": []
  },
  {
   "cell_type": "code",
   "execution_count": null,
   "id": "f291a7ef",
   "metadata": {},
   "outputs": [],
   "source": []
  },
  {
   "cell_type": "markdown",
   "id": "31600515",
   "metadata": {},
   "source": [
    "# string interview question"
   ]
  },
  {
   "cell_type": "code",
   "execution_count": null,
   "id": "51c828e2",
   "metadata": {},
   "outputs": [],
   "source": []
  },
  {
   "cell_type": "code",
   "execution_count": null,
   "id": "38b9b2c8",
   "metadata": {},
   "outputs": [],
   "source": []
  }
 ],
 "metadata": {
  "kernelspec": {
   "display_name": "Python 3 (ipykernel)",
   "language": "python",
   "name": "python3"
  },
  "language_info": {
   "codemirror_mode": {
    "name": "ipython",
    "version": 3
   },
   "file_extension": ".py",
   "mimetype": "text/x-python",
   "name": "python",
   "nbconvert_exporter": "python",
   "pygments_lexer": "ipython3",
   "version": "3.9.12"
  }
 },
 "nbformat": 4,
 "nbformat_minor": 5
}
