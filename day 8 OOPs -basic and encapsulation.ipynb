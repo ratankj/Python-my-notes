{
 "cells": [
  {
   "cell_type": "code",
   "execution_count": null,
   "id": "b4b0dc55",
   "metadata": {},
   "outputs": [],
   "source": []
  },
  {
   "cell_type": "markdown",
   "id": "3b4dc25f",
   "metadata": {},
   "source": [
    "# OOPs"
   ]
  },
  {
   "cell_type": "code",
   "execution_count": null,
   "id": "5500795c",
   "metadata": {},
   "outputs": [],
   "source": []
  },
  {
   "cell_type": "code",
   "execution_count": null,
   "id": "0f89570a",
   "metadata": {},
   "outputs": [],
   "source": [
    "# basic of function\n",
    "# cover extensively in other session"
   ]
  },
  {
   "cell_type": "code",
   "execution_count": null,
   "id": "cb5c2aee",
   "metadata": {},
   "outputs": [],
   "source": [
    "def fun(a,b):\n",
    "    return(a+b)\n"
   ]
  },
  {
   "cell_type": "code",
   "execution_count": null,
   "id": "b23cef9a",
   "metadata": {},
   "outputs": [],
   "source": [
    "fun(3,4)"
   ]
  },
  {
   "cell_type": "code",
   "execution_count": null,
   "id": "9cfd3f48",
   "metadata": {},
   "outputs": [],
   "source": []
  },
  {
   "cell_type": "code",
   "execution_count": null,
   "id": "defa2960",
   "metadata": {},
   "outputs": [],
   "source": [
    "def fun1(a):\n",
    "    if a%2==0:\n",
    "        print('even')\n",
    "    else:\n",
    "        print('odd')"
   ]
  },
  {
   "cell_type": "code",
   "execution_count": null,
   "id": "73f8808d",
   "metadata": {},
   "outputs": [],
   "source": [
    "fun1(4)"
   ]
  },
  {
   "cell_type": "code",
   "execution_count": null,
   "id": "34f34d6c",
   "metadata": {},
   "outputs": [],
   "source": []
  },
  {
   "cell_type": "code",
   "execution_count": null,
   "id": "df25c8f0",
   "metadata": {},
   "outputs": [],
   "source": [
    "def fun2(a,b):\n",
    "    print(a**b)"
   ]
  },
  {
   "cell_type": "code",
   "execution_count": null,
   "id": "821cb244",
   "metadata": {},
   "outputs": [],
   "source": [
    "fun2(4,5)"
   ]
  },
  {
   "cell_type": "code",
   "execution_count": null,
   "id": "6585044a",
   "metadata": {},
   "outputs": [],
   "source": []
  },
  {
   "cell_type": "code",
   "execution_count": null,
   "id": "127ccd8d",
   "metadata": {},
   "outputs": [],
   "source": [
    "def fun3(s):\n",
    "    for i in range(s):\n",
    "        print(i*2)"
   ]
  },
  {
   "cell_type": "code",
   "execution_count": null,
   "id": "78f45102",
   "metadata": {},
   "outputs": [],
   "source": [
    "fun3(4)"
   ]
  },
  {
   "cell_type": "code",
   "execution_count": null,
   "id": "18b36a01",
   "metadata": {},
   "outputs": [],
   "source": [
    "def fun4(n):\n",
    "    isprime =True\n",
    "    if n==1:\n",
    "        isprime = False\n",
    "    else:\n",
    "        for i in range (2,n):\n",
    "            if n%i ==0:\n",
    "                isprime= False\n",
    "    if isprime == True:\n",
    "        print(n,\"is a prime no.\")\n",
    "    else:\n",
    "        print(n,\"not a prime no.\")"
   ]
  },
  {
   "cell_type": "code",
   "execution_count": null,
   "id": "bd1c2d6c",
   "metadata": {},
   "outputs": [],
   "source": [
    "fun4(4)"
   ]
  },
  {
   "cell_type": "code",
   "execution_count": null,
   "id": "31e825ef",
   "metadata": {},
   "outputs": [],
   "source": [
    "\n",
    "def fun5():\n",
    "    l = [2,3,4,5,6,7,8,9]\n",
    "    sum_1 =0\n",
    "    for i in l:\n",
    "        \n",
    "        sum_1 = sum_1 +i\n",
    "    \n",
    "    return sum_1\n",
    "fun5()\n",
    "\n"
   ]
  },
  {
   "cell_type": "code",
   "execution_count": null,
   "id": "2f63c703",
   "metadata": {},
   "outputs": [],
   "source": [
    "           \n",
    "def table(*args):\n",
    "    for i in args:\n",
    "        print(\" \")\n",
    "        print(f\"the table of: {i}\")\n",
    "        for j in range(1,11):\n",
    "            print(i*j ,end = \" \")"
   ]
  },
  {
   "cell_type": "code",
   "execution_count": null,
   "id": "0d4edfb9",
   "metadata": {},
   "outputs": [],
   "source": [
    "table(2,3,4)"
   ]
  },
  {
   "cell_type": "code",
   "execution_count": null,
   "id": "301383e7",
   "metadata": {},
   "outputs": [],
   "source": []
  },
  {
   "cell_type": "code",
   "execution_count": null,
   "id": "73608e1e",
   "metadata": {},
   "outputs": [],
   "source": []
  },
  {
   "cell_type": "markdown",
   "id": "a16da501",
   "metadata": {},
   "source": [
    "# OOPs"
   ]
  },
  {
   "cell_type": "code",
   "execution_count": null,
   "id": "d785a0ca",
   "metadata": {},
   "outputs": [],
   "source": []
  },
  {
   "cell_type": "markdown",
   "id": "231e30b8",
   "metadata": {},
   "source": [
    "# OOPS (object oriented programming )\n",
    "\n",
    "\n",
    "- CLASS\n",
    "- OBJECT\n",
    "- POLYMORPHISM\n",
    "- ENCAPSULATION\n",
    "- INHERITENCE\n",
    "- INHERITENCE\n",
    "- ABSTRACTION\n"
   ]
  },
  {
   "cell_type": "code",
   "execution_count": null,
   "id": "b60953b5",
   "metadata": {},
   "outputs": [],
   "source": []
  },
  {
   "cell_type": "markdown",
   "id": "34f3d52b",
   "metadata": {},
   "source": [
    "\n",
    "#CLASS  have 2 things:-\n",
    "\n",
    "1. data or property or atribute or variable\n",
    "\n",
    "2. function or behaviour or method\n",
    "\n",
    "- class is a blueprint or a code template for a object creation\n",
    "  - class is a blueprint  it contain the attribute and method\n",
    "- object : object is a instance of class\n",
    "\n",
    "\n",
    "\n",
    "- blueprint contain all these attribute and method"
   ]
  },
  {
   "cell_type": "code",
   "execution_count": null,
   "id": "e3f22799",
   "metadata": {},
   "outputs": [],
   "source": [
    "# The main power of OOPS is that OOPS give the power to programmer to create his own ddatatype"
   ]
  },
  {
   "cell_type": "code",
   "execution_count": null,
   "id": "7c6ef12c",
   "metadata": {},
   "outputs": [],
   "source": [
    "# # class is a blueprint jo ki ye batata hai ki uska object behave kese karenge\n"
   ]
  },
  {
   "cell_type": "code",
   "execution_count": null,
   "id": "25c91400",
   "metadata": {},
   "outputs": [],
   "source": [
    "# list,string,tuple ,dict all are existing class in pyhton\n",
    "# and there are several rules or functin associated with this"
   ]
  },
  {
   "cell_type": "code",
   "execution_count": null,
   "id": "0d30ea0b",
   "metadata": {},
   "outputs": [],
   "source": [
    "a='asb'\n",
    "print(type(a))"
   ]
  },
  {
   "cell_type": "code",
   "execution_count": null,
   "id": "3a42cadd",
   "metadata": {},
   "outputs": [],
   "source": [
    "a.append()"
   ]
  },
  {
   "cell_type": "markdown",
   "id": "3a52aed3",
   "metadata": {},
   "source": [
    "A class is a collection of objects. A class contains the blueprints or the prototype from which the objects are being created. It is a logical entity that contains some attributes and methods. "
   ]
  },
  {
   "cell_type": "code",
   "execution_count": null,
   "id": "f63f2628",
   "metadata": {},
   "outputs": [],
   "source": [
    "# class is a set of rules. and it tells that how the object of this class will behave"
   ]
  },
  {
   "cell_type": "code",
   "execution_count": null,
   "id": "abb1f6e2",
   "metadata": {},
   "outputs": [],
   "source": [
    "# ex :  car is class and bmv,skoda,audi is the object of this class\n",
    "\n",
    "# # animal is class  , then lion is his object\n",
    "\n",
    "#class -- laptop\n",
    "#object -- dell, microsoft loptop"
   ]
  },
  {
   "cell_type": "markdown",
   "id": "caa73730",
   "metadata": {},
   "source": [
    "# type of class in pyhton\n",
    "    1. built in class\n",
    "    2. user defined classes"
   ]
  },
  {
   "cell_type": "code",
   "execution_count": null,
   "id": "0f15e85a",
   "metadata": {},
   "outputs": [],
   "source": [
    "# class car\n",
    "\n",
    "# car se related data --  speed, milage, colour\n",
    "# function  - calculate avg speed  - if we give some input and output will come"
   ]
  },
  {
   "cell_type": "code",
   "execution_count": null,
   "id": "d49ac130",
   "metadata": {},
   "outputs": [],
   "source": []
  },
  {
   "cell_type": "code",
   "execution_count": null,
   "id": "45b53691",
   "metadata": {},
   "outputs": [],
   "source": [
    "# how we create a class\n",
    "\n",
    "class ClasName:\n",
    "    \n",
    "    \n",
    "# the name of class should be in Pascal case\n",
    "#DataScience\n",
    "#GreenPark"
   ]
  },
  {
   "cell_type": "code",
   "execution_count": null,
   "id": "606bf7b8",
   "metadata": {},
   "outputs": [],
   "source": [
    "# how we create an object\n",
    "\n",
    "objectname= classname()"
   ]
  },
  {
   "cell_type": "code",
   "execution_count": null,
   "id": "e1b1a134",
   "metadata": {},
   "outputs": [],
   "source": []
  },
  {
   "cell_type": "code",
   "execution_count": null,
   "id": "d511cb85",
   "metadata": {},
   "outputs": [],
   "source": [
    "class Employee:\n",
    "    pass"
   ]
  },
  {
   "cell_type": "code",
   "execution_count": null,
   "id": "4eb25692",
   "metadata": {},
   "outputs": [],
   "source": [
    "emp=Employee()"
   ]
  },
  {
   "cell_type": "code",
   "execution_count": null,
   "id": "4fb83e2b",
   "metadata": {},
   "outputs": [],
   "source": [
    "print(type(emp))"
   ]
  },
  {
   "cell_type": "code",
   "execution_count": null,
   "id": "0425c8bf",
   "metadata": {},
   "outputs": [],
   "source": [
    "print(id(emp))"
   ]
  },
  {
   "cell_type": "code",
   "execution_count": null,
   "id": "45fc4d02",
   "metadata": {},
   "outputs": [],
   "source": []
  },
  {
   "cell_type": "code",
   "execution_count": null,
   "id": "b71a4c59",
   "metadata": {},
   "outputs": [],
   "source": [
    "# example 1"
   ]
  },
  {
   "cell_type": "code",
   "execution_count": null,
   "id": "d8648859",
   "metadata": {},
   "outputs": [],
   "source": [
    "class introduce:\n",
    "    def introduce_yourself(self):\n",
    "        print(f'introduce yourself {self.name}')\n",
    "        #print(id(self))"
   ]
  },
  {
   "cell_type": "code",
   "execution_count": null,
   "id": "851f60e8",
   "metadata": {},
   "outputs": [],
   "source": [
    "n=introduce()"
   ]
  },
  {
   "cell_type": "code",
   "execution_count": null,
   "id": "2066eb04",
   "metadata": {},
   "outputs": [],
   "source": []
  },
  {
   "cell_type": "code",
   "execution_count": null,
   "id": "a9cf731e",
   "metadata": {},
   "outputs": [],
   "source": [
    "n.name='Ratan'"
   ]
  },
  {
   "cell_type": "code",
   "execution_count": null,
   "id": "cbaeb2ab",
   "metadata": {},
   "outputs": [],
   "source": [
    "n.introduce_yourself()"
   ]
  },
  {
   "cell_type": "code",
   "execution_count": null,
   "id": "a8baff67",
   "metadata": {},
   "outputs": [],
   "source": [
    "n.name"
   ]
  },
  {
   "cell_type": "code",
   "execution_count": null,
   "id": "2218a63b",
   "metadata": {},
   "outputs": [],
   "source": [
    "n.name='xyz'"
   ]
  },
  {
   "cell_type": "code",
   "execution_count": null,
   "id": "a736d6de",
   "metadata": {},
   "outputs": [],
   "source": [
    "n.introduce_yourself()"
   ]
  },
  {
   "cell_type": "code",
   "execution_count": null,
   "id": "b1dd691d",
   "metadata": {},
   "outputs": [],
   "source": [
    "n.name"
   ]
  },
  {
   "cell_type": "code",
   "execution_count": null,
   "id": "913e1a18",
   "metadata": {},
   "outputs": [],
   "source": [
    "\n",
    "# here name is instance/variable  it is referring as property"
   ]
  },
  {
   "cell_type": "code",
   "execution_count": null,
   "id": "7d4b6fe6",
   "metadata": {},
   "outputs": [],
   "source": []
  },
  {
   "cell_type": "markdown",
   "id": "06bb7c63",
   "metadata": {},
   "source": [
    "### Reference Variables\n",
    "\n",
    "- Reference variables hold the objects\n",
    "- We can create objects without reference variable as well\n",
    "- An object can have multiple reference variables\n",
    "- Assigning a new reference variable to an existing object does not create a new object"
   ]
  },
  {
   "cell_type": "code",
   "execution_count": null,
   "id": "1a553e89",
   "metadata": {},
   "outputs": [],
   "source": []
  },
  {
   "cell_type": "markdown",
   "id": "bf1ffc92",
   "metadata": {},
   "source": [
    "# magic method  or dunder method\n",
    "\n",
    "\n",
    "\n",
    "__init__ (constructor) --  it is a also a magic method..  unlike other function we not need to call it everytime \n",
    ". the __init__ is a magic mehod bcz we dont have to call them.  this is automatically call when someone create its object\n"
   ]
  },
  {
   "cell_type": "code",
   "execution_count": null,
   "id": "b1b47041",
   "metadata": {},
   "outputs": [],
   "source": []
  },
  {
   "cell_type": "markdown",
   "id": "4e18f66f",
   "metadata": {},
   "source": [
    "##what is the benfit of constructor.  \n",
    "##why constructor is benefical for programmer\n",
    "\n",
    " - constructor is used to write the config related code.  wo code likhte hai jo automatically trigger ho jata hai.. \n",
    "\n",
    "\n",
    "- jese ki database se connect hona hai. then we use this constructor.  jisme ki user ke upper depaand nahi ho skte"
   ]
  },
  {
   "cell_type": "code",
   "execution_count": null,
   "id": "cfc45eea",
   "metadata": {},
   "outputs": [],
   "source": []
  },
  {
   "cell_type": "code",
   "execution_count": null,
   "id": "e0b734ad",
   "metadata": {},
   "outputs": [],
   "source": [
    "# constructor"
   ]
  },
  {
   "cell_type": "code",
   "execution_count": null,
   "id": "c34a7515",
   "metadata": {},
   "outputs": [],
   "source": [
    "class circle:\n",
    "    def __init__(self,r):\n",
    "        self.radius=r\n",
    "        \n",
    "    \n",
    "    def ac(self):\n",
    "        a=3.14 *self.radius**2\n",
    "        return a\n",
    "    \n",
    "    def circum(self):\n",
    "        b=2*3.14*self.radius\n",
    "        return b\n",
    "        "
   ]
  },
  {
   "cell_type": "code",
   "execution_count": null,
   "id": "2f287e8c",
   "metadata": {},
   "outputs": [],
   "source": [
    "c=circle(5)"
   ]
  },
  {
   "cell_type": "code",
   "execution_count": null,
   "id": "6387fe92",
   "metadata": {},
   "outputs": [],
   "source": [
    "c.radius"
   ]
  },
  {
   "cell_type": "code",
   "execution_count": null,
   "id": "f687a4ec",
   "metadata": {},
   "outputs": [],
   "source": [
    "c.area()"
   ]
  },
  {
   "cell_type": "code",
   "execution_count": null,
   "id": "8bbf8009",
   "metadata": {},
   "outputs": [],
   "source": []
  },
  {
   "cell_type": "code",
   "execution_count": null,
   "id": "9de459d0",
   "metadata": {},
   "outputs": [],
   "source": [
    "c.radius"
   ]
  },
  {
   "cell_type": "code",
   "execution_count": null,
   "id": "f08b2102",
   "metadata": {},
   "outputs": [],
   "source": [
    "c.area()"
   ]
  },
  {
   "cell_type": "code",
   "execution_count": null,
   "id": "9689eec2",
   "metadata": {},
   "outputs": [],
   "source": [
    "c.circum()"
   ]
  },
  {
   "cell_type": "code",
   "execution_count": null,
   "id": "a9252f11",
   "metadata": {},
   "outputs": [],
   "source": [
    "# parametized constructor and non parameterized constructor"
   ]
  },
  {
   "cell_type": "code",
   "execution_count": null,
   "id": "25c583b0",
   "metadata": {},
   "outputs": [],
   "source": []
  },
  {
   "cell_type": "code",
   "execution_count": null,
   "id": "19ffd364",
   "metadata": {},
   "outputs": [],
   "source": [
    "# non parameterized constructor\n",
    "\n",
    "class company:\n",
    "    def __init__(self):\n",
    "        self.name = \"xyz\"\n",
    "        self.address = \"delhi\"\n",
    "        \n",
    "    def show(self):\n",
    "        print('name' , self.name,'address' ,self.address)"
   ]
  },
  {
   "cell_type": "code",
   "execution_count": null,
   "id": "34ba42f8",
   "metadata": {},
   "outputs": [],
   "source": [
    "c=company()"
   ]
  },
  {
   "cell_type": "code",
   "execution_count": null,
   "id": "e6c7cdf0",
   "metadata": {},
   "outputs": [],
   "source": [
    "c.show()"
   ]
  },
  {
   "cell_type": "code",
   "execution_count": null,
   "id": "66963ea0",
   "metadata": {},
   "outputs": [],
   "source": [
    "c.show()"
   ]
  },
  {
   "cell_type": "markdown",
   "id": "64d1a026",
   "metadata": {},
   "source": [
    "# method and function\n",
    "\n",
    " - class ke andar jo function hote hai use method bolte hai\n",
    "\n",
    " - class ke bahar jo function hai jo independently exist krte hai use function nolte hai\n",
    "\n",
    "-  if a function is in the class then it is method.. anf if a function exist indepentenly outside the class then it is function"
   ]
  },
  {
   "cell_type": "code",
   "execution_count": null,
   "id": "5ee44fcd",
   "metadata": {},
   "outputs": [],
   "source": []
  },
  {
   "cell_type": "markdown",
   "id": "656ed31e",
   "metadata": {},
   "source": [
    "# what is self"
   ]
  },
  {
   "cell_type": "markdown",
   "id": "f516e12a",
   "metadata": {},
   "source": [
    "##self is object\n",
    " - if in oops there ae 2 method.  and these 2 method need to connect with one another then  use self.. self and obj  are located at same memory location\n",
    "\n",
    "\n",
    "- golden rule \n",
    "  - says that. jo bhi class ke member hai (jo bhi data  ya method hai) in dono ko sirf us class the object access kr skta hai\n",
    "  \n",
    "  - \n",
    "- object of a class can acess everything that is present inside the class . this is the golden rule of OOPs"
   ]
  },
  {
   "cell_type": "code",
   "execution_count": null,
   "id": "17766853",
   "metadata": {},
   "outputs": [],
   "source": [
    "class alpha:\n",
    "    def __init__(self,name):\n",
    "        self.name=name\n",
    "        print(id(self))"
   ]
  },
  {
   "cell_type": "code",
   "execution_count": null,
   "id": "a31295be",
   "metadata": {},
   "outputs": [],
   "source": [
    "a=alpha('ratan')"
   ]
  },
  {
   "cell_type": "code",
   "execution_count": null,
   "id": "c3c2e360",
   "metadata": {},
   "outputs": [],
   "source": [
    "print(id(a))"
   ]
  },
  {
   "cell_type": "code",
   "execution_count": null,
   "id": "7529605d",
   "metadata": {},
   "outputs": [],
   "source": []
  },
  {
   "cell_type": "code",
   "execution_count": null,
   "id": "bcbda3ed",
   "metadata": {},
   "outputs": [],
   "source": []
  },
  {
   "cell_type": "code",
   "execution_count": null,
   "id": "398fd5d9",
   "metadata": {},
   "outputs": [],
   "source": []
  },
  {
   "cell_type": "code",
   "execution_count": null,
   "id": "fc201ee1",
   "metadata": {},
   "outputs": [],
   "source": [
    "class emp:\n",
    "    def __init__(self,name,idd,address,contact,):\n",
    "        self.name=name\n",
    "        self.idd=idd\n",
    "        self.address=address\n",
    "        self.contact=contact\n",
    "    \n",
    "    def introduction(self):\n",
    "        print('name is '+self.name)\n",
    "        print(f'idd is {self.idd}')\n",
    "        print('address is '+self.address)\n",
    "        print(f'contact is {self.contact}')\n",
    "  \n",
    "        "
   ]
  },
  {
   "cell_type": "code",
   "execution_count": null,
   "id": "516d0db6",
   "metadata": {},
   "outputs": [],
   "source": [
    "c=emp('ratan',234,'delhi',35433)"
   ]
  },
  {
   "cell_type": "code",
   "execution_count": null,
   "id": "92815fbe",
   "metadata": {},
   "outputs": [],
   "source": [
    "c.introduction()"
   ]
  },
  {
   "cell_type": "code",
   "execution_count": null,
   "id": "c30d7e7e",
   "metadata": {},
   "outputs": [],
   "source": [
    "class person:\n",
    "    def __init__(self,name,gender, profession):\n",
    "        self.name= name\n",
    "        self.gender = gender\n",
    "        self.profession =  profession\n",
    "    \n",
    "    \n",
    "    def show(self):\n",
    "        print(\"Name \" ,  self.name ,\" gender \", self.gender , \" profession \", self .profession )\n",
    "    \n",
    "    def work (self):\n",
    "        print(self.name , \"working as a  \" , self.profession)"
   ]
  },
  {
   "cell_type": "code",
   "execution_count": null,
   "id": "c435bce8",
   "metadata": {},
   "outputs": [],
   "source": []
  },
  {
   "cell_type": "code",
   "execution_count": null,
   "id": "7ff23c01",
   "metadata": {},
   "outputs": [],
   "source": [
    "class car:\n",
    "    def __init__(self,mi,yr,m,mdl):\n",
    "        self.millage = mi\n",
    "        self.year =yr\n",
    "        self.make = m\n",
    "        self.model = mdl\n",
    "        \n",
    "    def age(self,current_year):\n",
    "        return current_year -self.year\n",
    "    \n",
    "    def millage1(self):\n",
    "        return (\"print a milage of the call \", self.millage)\n",
    "    \n",
    "    def __str__(self):   # this will  use  when we print the object  .  then this will print\n",
    "        return \"this is from the class i have created ye mene banaya hai\""
   ]
  },
  {
   "cell_type": "code",
   "execution_count": null,
   "id": "b89c3556",
   "metadata": {},
   "outputs": [],
   "source": []
  },
  {
   "cell_type": "code",
   "execution_count": null,
   "id": "addb9cdc",
   "metadata": {},
   "outputs": [],
   "source": [
    "class paper:\n",
    "    def __init__(self):\n",
    "        "
   ]
  },
  {
   "cell_type": "code",
   "execution_count": null,
   "id": "9646cd39",
   "metadata": {},
   "outputs": [],
   "source": []
  },
  {
   "cell_type": "code",
   "execution_count": null,
   "id": "cf8bf735",
   "metadata": {},
   "outputs": [],
   "source": [
    "#### instance variable \n",
    "\n",
    " - ek esa variable jiska value alag alag object ke liye alag alag hota hai\n",
    " - instance variable is special kind of variable jiska value object ke upper depand krta hai"
   ]
  },
  {
   "cell_type": "code",
   "execution_count": null,
   "id": "af5013eb",
   "metadata": {},
   "outputs": [],
   "source": []
  },
  {
   "cell_type": "code",
   "execution_count": null,
   "id": "82cc8c73",
   "metadata": {},
   "outputs": [],
   "source": [
    "# write a class for sum,factorial,even or odd, prime, table"
   ]
  },
  {
   "cell_type": "code",
   "execution_count": null,
   "id": "a59dc7ff",
   "metadata": {},
   "outputs": [],
   "source": [
    "fact=1\n",
    "for i in range(1,5):\n",
    "    fact=fact*i\n",
    "print(fact)"
   ]
  },
  {
   "cell_type": "code",
   "execution_count": null,
   "id": "74eba112",
   "metadata": {},
   "outputs": [],
   "source": [
    "class solution:\n",
    "    def __init__(self,n):\n",
    "        self.num=n\n",
    "        self.menu()\n",
    "        \n",
    "    def menu(self):\n",
    "        user_input=int(input(\"\"\"\n",
    "        1. press 1 for sum\n",
    "        2. press 2 for fact\n",
    "        3. press 3 for even\n",
    "        4. press 4 for prime\n",
    "        5. press 5 for table\n",
    "        \"\"\"))\n",
    "        \n",
    "        if user_input == 1:\n",
    "            self.summ()\n",
    "        elif user_input ==2:\n",
    "            self.fact()\n",
    "        elif user_input ==3:\n",
    "            self.even()\n",
    "        elif user_input ==4:\n",
    "            self.is_prime()\n",
    "        elif user_input ==5:\n",
    "            self.table()\n",
    "        else:\n",
    "            exit()\n",
    "        \n",
    "        \n",
    "    def summ(self):\n",
    "        a=int(input('enter a no'))\n",
    "        b=int(input('enter a no'))\n",
    "        c=a+b\n",
    "        print(c)\n",
    "        self.menu()\n",
    "    \n",
    "    def fact(self):\n",
    "        factt=1\n",
    "        for i in range(self.num):\n",
    "            f=factt*i\n",
    "        return f\n",
    "    \n",
    "    def even(self):\n",
    "        if (self.num) % 2 ==0:\n",
    "            return even\n",
    "        else:\n",
    "            return odd\n",
    "        \n",
    "    def is_prime(self):\n",
    "            isprime =True\n",
    "            if self.num==1:\n",
    "                isprime = False\n",
    "            else:\n",
    "                for i in range (2,self.num):\n",
    "                    if (self.num) % i ==0:\n",
    "                        isprime= False\n",
    "            if isprime == True:\n",
    "                print(self.num,\"is a prime no.\")\n",
    "            else:\n",
    "                print(self.num,\"not a prime no.\") \n",
    "                \n",
    "    def table(self):\n",
    "        for i in range(self.num):\n",
    "            v=i*2\n",
    "            return v\n",
    "        \n",
    " \n",
    "        \n",
    "    \n",
    "        \n",
    "      \n",
    "        "
   ]
  },
  {
   "cell_type": "code",
   "execution_count": null,
   "id": "83b4dfae",
   "metadata": {},
   "outputs": [],
   "source": [
    "s=solution(4)"
   ]
  },
  {
   "cell_type": "code",
   "execution_count": null,
   "id": "342d6a9f",
   "metadata": {},
   "outputs": [],
   "source": []
  },
  {
   "cell_type": "code",
   "execution_count": null,
   "id": "4cb10a6e",
   "metadata": {},
   "outputs": [],
   "source": [
    "# instance var\n",
    "class Person:\n",
    "\n",
    "  def __init__(self,name_input,country_input):\n",
    "    self.name = name_input\n",
    "    self.country = country_input\n",
    "\n",
    "p1 = Person('ratan','delhi')\n"
   ]
  },
  {
   "cell_type": "code",
   "execution_count": null,
   "id": "6b50d983",
   "metadata": {},
   "outputs": [],
   "source": [
    "p1"
   ]
  },
  {
   "cell_type": "markdown",
   "id": "646024d7",
   "metadata": {},
   "source": [
    "# encapsulation"
   ]
  },
  {
   "cell_type": "code",
   "execution_count": null,
   "id": "8b93f656",
   "metadata": {},
   "outputs": [],
   "source": []
  },
  {
   "cell_type": "markdown",
   "id": "2c747278",
   "metadata": {},
   "source": [
    "         \n",
    "                 own calss  | derived class |  object\n",
    "         \n",
    "      private   | yes       | no            | no\n",
    "  \n",
    "      protected | yes       | yes           | no\n",
    "  \n",
    "      public    | yes       | yes           | yes"
   ]
  },
  {
   "cell_type": "markdown",
   "id": "4575a3bf",
   "metadata": {},
   "source": [
    "# __ (dobule underscore is used for )-- private\n",
    "# _  protected"
   ]
  },
  {
   "cell_type": "code",
   "execution_count": null,
   "id": "884e6c45",
   "metadata": {},
   "outputs": [],
   "source": [
    "# in python nothing is truely true"
   ]
  },
  {
   "cell_type": "code",
   "execution_count": null,
   "id": "c8672cf0",
   "metadata": {},
   "outputs": [],
   "source": [
    "__"
   ]
  },
  {
   "cell_type": "code",
   "execution_count": null,
   "id": "42add139",
   "metadata": {},
   "outputs": [],
   "source": []
  },
  {
   "cell_type": "code",
   "execution_count": null,
   "id": "761c308b",
   "metadata": {},
   "outputs": [],
   "source": [
    "# getter and setter\n",
    "\n",
    "\n",
    "# data attribute and 2 method that is getter and getter\n",
    "\n",
    "# data ko private banana hai and dikhana bhi hai"
   ]
  },
  {
   "cell_type": "code",
   "execution_count": null,
   "id": "7704b01a",
   "metadata": {},
   "outputs": [],
   "source": []
  },
  {
   "cell_type": "code",
   "execution_count": 7,
   "id": "bcbc7ff6",
   "metadata": {},
   "outputs": [],
   "source": [
    "class rectangle:\n",
    "   # __length  = 0  # private\n",
    "    #__breadth = 0   # private  --  accessble to the particular class\n",
    "    \n",
    "    def __init__(self):\n",
    "        self.__length = 5\n",
    "        self.breadth = 3\n",
    "        self.alpha=4\n",
    "        self._betaa=6\n",
    "        print(self.__length)\n",
    "        print(self.breadth)\n",
    "    \n",
    "    "
   ]
  },
  {
   "cell_type": "code",
   "execution_count": 8,
   "id": "6e849508",
   "metadata": {},
   "outputs": [
    {
     "name": "stdout",
     "output_type": "stream",
     "text": [
      "5\n",
      "3\n"
     ]
    }
   ],
   "source": [
    "r=rectangle()"
   ]
  },
  {
   "cell_type": "code",
   "execution_count": 11,
   "id": "09e8e448",
   "metadata": {},
   "outputs": [
    {
     "data": {
      "text/plain": [
       "5"
      ]
     },
     "execution_count": 11,
     "metadata": {},
     "output_type": "execute_result"
    }
   ],
   "source": [
    "r._rectangle__length"
   ]
  },
  {
   "cell_type": "code",
   "execution_count": null,
   "id": "28029370",
   "metadata": {},
   "outputs": [],
   "source": [
    "class rectangle:\n",
    "   # __length  = 0  # private\n",
    "    #__breadth = 0   # private  --  accessble to the particular class\n",
    "    \n",
    "    def __init__(self):\n",
    "        self.length = 5\n",
    "        self.__breadth = 3\n",
    "        print(self.length)\n",
    "        print(self.__breadth)\n",
    "    \n",
    "    "
   ]
  },
  {
   "cell_type": "code",
   "execution_count": null,
   "id": "9ee19e7b",
   "metadata": {},
   "outputs": [],
   "source": [
    "a=rectangle()"
   ]
  },
  {
   "cell_type": "code",
   "execution_count": null,
   "id": "d0d0d64d",
   "metadata": {},
   "outputs": [],
   "source": [
    "#syntax to access priavte\n",
    "\n",
    "# this is called the name_manglling -- > through this we can access private and proteted\n",
    "# object name _ class name __ private/protected name\n",
    "# _(classname)__(variable name)   this is know as manglling\n",
    "\n",
    "rect._rectangle__breadth"
   ]
  },
  {
   "cell_type": "code",
   "execution_count": null,
   "id": "df3ab148",
   "metadata": {},
   "outputs": [],
   "source": []
  },
  {
   "cell_type": "code",
   "execution_count": 27,
   "id": "9ebd150f",
   "metadata": {},
   "outputs": [],
   "source": [
    "class rectangle:\n",
    "   # __length  = 0  # private\n",
    "    #__breadth = 0   # private  --  accessble to the particular class\n",
    "    \n",
    "    def __init__(self):\n",
    "        self.length = 54\n",
    "        self.__breadth = 3\n",
    "        def get_bredth(self):   # getter\n",
    "            return self.__breadth\n",
    "        def set_breadth(self,a):  # setter\n",
    "            self.__breadth=a\n",
    "        print(self.length)\n",
    "        print(self.__breadth)\n",
    "    "
   ]
  },
  {
   "cell_type": "code",
   "execution_count": 28,
   "id": "f58ec241",
   "metadata": {},
   "outputs": [
    {
     "name": "stdout",
     "output_type": "stream",
     "text": [
      "54\n",
      "3\n"
     ]
    }
   ],
   "source": [
    "r=rectangle()"
   ]
  },
  {
   "cell_type": "code",
   "execution_count": 29,
   "id": "a899ff58",
   "metadata": {},
   "outputs": [
    {
     "ename": "AttributeError",
     "evalue": "'rectangle' object has no attribute 'set_breadth'",
     "output_type": "error",
     "traceback": [
      "\u001b[1;31m---------------------------------------------------------------------------\u001b[0m",
      "\u001b[1;31mAttributeError\u001b[0m                            Traceback (most recent call last)",
      "Input \u001b[1;32mIn [29]\u001b[0m, in \u001b[0;36m<cell line: 1>\u001b[1;34m()\u001b[0m\n\u001b[1;32m----> 1\u001b[0m \u001b[43mr\u001b[49m\u001b[38;5;241;43m.\u001b[39;49m\u001b[43mset_breadth\u001b[49m(\u001b[38;5;241m23\u001b[39m)\n",
      "\u001b[1;31mAttributeError\u001b[0m: 'rectangle' object has no attribute 'set_breadth'"
     ]
    }
   ],
   "source": [
    "r.set_breadth(23)\n"
   ]
  },
  {
   "cell_type": "code",
   "execution_count": null,
   "id": "8b4dcc31",
   "metadata": {},
   "outputs": [],
   "source": [
    "# Python program showing a use\n",
    "# of get() and set() method in\n",
    "# normal function\n",
    "  \n",
    "class Geek:\n",
    "    def __init__(self, age = 0):\n",
    "         self._age = age\n",
    "      \n",
    "    # getter method\n",
    "    def get_age(self):\n",
    "        return self._age\n",
    "      \n",
    "    # setter method\n",
    "    def set_age(self, x):\n",
    "        self._age = x\n",
    "  \n",
    "raj = Geek()\n",
    "  \n",
    "# setting the age using setter\n",
    "raj.set_age(21)\n",
    "  \n",
    "# retrieving age using getter\n",
    "print(raj.get_age())\n",
    "  \n",
    "print(raj._age)"
   ]
  }
 ],
 "metadata": {
  "kernelspec": {
   "display_name": "Python 3 (ipykernel)",
   "language": "python",
   "name": "python3"
  },
  "language_info": {
   "codemirror_mode": {
    "name": "ipython",
    "version": 3
   },
   "file_extension": ".py",
   "mimetype": "text/x-python",
   "name": "python",
   "nbconvert_exporter": "python",
   "pygments_lexer": "ipython3",
   "version": "3.9.12"
  }
 },
 "nbformat": 4,
 "nbformat_minor": 5
}
