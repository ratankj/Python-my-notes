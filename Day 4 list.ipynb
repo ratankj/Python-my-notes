{
 "cells": [
  {
   "cell_type": "code",
   "execution_count": null,
   "id": "b94ef04b",
   "metadata": {},
   "outputs": [],
   "source": []
  },
  {
   "cell_type": "code",
   "execution_count": null,
   "id": "7f59f8b2",
   "metadata": {},
   "outputs": [],
   "source": []
  },
  {
   "cell_type": "markdown",
   "id": "856f5c2c",
   "metadata": {},
   "source": [
    "### What are Lists\n",
    "\n",
    "List is a data type where you can store multiple items under 1 name. More technically, lists act like dynamic arrays which means you can add more items on the fly.\n",
    "In Python, Lists can be considered as the most general version of a \"sequence\". Unlike strings, they are mutable which means the elements inside a list can be changed!\n"
   ]
  },
  {
   "cell_type": "markdown",
   "id": "9283f259",
   "metadata": {},
   "source": [
    "- list are dynamic size or flexible\n",
    "- list are hetrogenous (can store diff type of data type)\n",
    "- list take more time while execution(slower)\n",
    "- list occupy more space in memory in compared to array\n",
    "- Lists are mutable, i.e., they can be edited\n",
    "- Lists consist of many built-in functions.\n",
    "- "
   ]
  },
  {
   "cell_type": "markdown",
   "id": "ad0d27d2",
   "metadata": {},
   "source": [
    "## Characterstics of a List\n",
    "\n",
    "- Ordered \n",
    "- Changeble/Mutable\n",
    "- Hetrogeneous (diff type of datatype)\n",
    "- Can have duplicates\n",
    "- are dynamic (list can inc the size )\n",
    "- can be nested  (list inside a lsit)\n",
    "- items can be accessed \n",
    "- can contain any kind of objects in python"
   ]
  },
  {
   "cell_type": "code",
   "execution_count": null,
   "id": "e5132777",
   "metadata": {},
   "outputs": [],
   "source": []
  },
  {
   "cell_type": "code",
   "execution_count": 1,
   "id": "e5a415a2",
   "metadata": {},
   "outputs": [],
   "source": [
    "#empty list\n"
   ]
  },
  {
   "cell_type": "code",
   "execution_count": 2,
   "id": "bdc1aa53",
   "metadata": {},
   "outputs": [
    {
     "name": "stdout",
     "output_type": "stream",
     "text": [
      "[]\n"
     ]
    }
   ],
   "source": [
    "print([])"
   ]
  },
  {
   "cell_type": "code",
   "execution_count": 3,
   "id": "167e192b",
   "metadata": {},
   "outputs": [
    {
     "name": "stdout",
     "output_type": "stream",
     "text": [
      "[1, 2, 3]\n"
     ]
    }
   ],
   "source": [
    "print([1,2,3])"
   ]
  },
  {
   "cell_type": "code",
   "execution_count": 5,
   "id": "445217fa",
   "metadata": {},
   "outputs": [
    {
     "name": "stdout",
     "output_type": "stream",
     "text": [
      "[1, 2, 3, [3, 4]]\n"
     ]
    }
   ],
   "source": [
    "print([1,2,3,[3,4]])\n",
    "\n",
    "# this is hetrogenous list (3 interger and 1 list)"
   ]
  },
  {
   "cell_type": "code",
   "execution_count": 6,
   "id": "55e652f3",
   "metadata": {},
   "outputs": [
    {
     "name": "stdout",
     "output_type": "stream",
     "text": [
      "[4, False, 1.6, (5+6j), 'Hello']\n"
     ]
    }
   ],
   "source": [
    "print([4,False,1.6,5+6j,'Hello'])"
   ]
  },
  {
   "cell_type": "code",
   "execution_count": null,
   "id": "737761fb",
   "metadata": {},
   "outputs": [],
   "source": []
  },
  {
   "cell_type": "code",
   "execution_count": 11,
   "id": "b25872fd",
   "metadata": {},
   "outputs": [
    {
     "name": "stdout",
     "output_type": "stream",
     "text": [
      "['d', 'a', 't', 'a']\n"
     ]
    }
   ],
   "source": [
    "print(list('data'))"
   ]
  },
  {
   "cell_type": "code",
   "execution_count": null,
   "id": "ceaaeb8f",
   "metadata": {},
   "outputs": [],
   "source": []
  },
  {
   "cell_type": "code",
   "execution_count": 7,
   "id": "a5bfa634",
   "metadata": {},
   "outputs": [],
   "source": [
    "my_list = ['A string',23,100.232,'o',True]"
   ]
  },
  {
   "cell_type": "code",
   "execution_count": 13,
   "id": "4a114715",
   "metadata": {},
   "outputs": [
    {
     "data": {
      "text/plain": [
       "['A string', 23, 100.232, 'o', True]"
      ]
     },
     "execution_count": 13,
     "metadata": {},
     "output_type": "execute_result"
    }
   ],
   "source": [
    "my_list"
   ]
  },
  {
   "cell_type": "code",
   "execution_count": null,
   "id": "8a013118",
   "metadata": {},
   "outputs": [],
   "source": [
    "# len"
   ]
  },
  {
   "cell_type": "code",
   "execution_count": 10,
   "id": "51598b96",
   "metadata": {},
   "outputs": [
    {
     "data": {
      "text/plain": [
       "5"
      ]
     },
     "execution_count": 10,
     "metadata": {},
     "output_type": "execute_result"
    }
   ],
   "source": [
    "len(my_list)"
   ]
  },
  {
   "cell_type": "code",
   "execution_count": null,
   "id": "04019264",
   "metadata": {},
   "outputs": [],
   "source": [
    "# type"
   ]
  },
  {
   "cell_type": "code",
   "execution_count": 12,
   "id": "501e9975",
   "metadata": {},
   "outputs": [
    {
     "data": {
      "text/plain": [
       "list"
      ]
     },
     "execution_count": 12,
     "metadata": {},
     "output_type": "execute_result"
    }
   ],
   "source": [
    "A = [1,2,3,4,5.0, \"ratan\", 1+2j, True]\n",
    "\n",
    "type(A)"
   ]
  },
  {
   "cell_type": "code",
   "execution_count": null,
   "id": "c7b14146",
   "metadata": {},
   "outputs": [],
   "source": []
  },
  {
   "cell_type": "code",
   "execution_count": null,
   "id": "2c7522e7",
   "metadata": {},
   "outputs": [],
   "source": [
    "#indexing and slicing"
   ]
  },
  {
   "cell_type": "code",
   "execution_count": 14,
   "id": "ad5db953",
   "metadata": {},
   "outputs": [
    {
     "data": {
      "text/plain": [
       "1"
      ]
     },
     "execution_count": 14,
     "metadata": {},
     "output_type": "execute_result"
    }
   ],
   "source": [
    "A[0]"
   ]
  },
  {
   "cell_type": "code",
   "execution_count": 15,
   "id": "e48c461b",
   "metadata": {},
   "outputs": [
    {
     "data": {
      "text/plain": [
       "True"
      ]
     },
     "execution_count": 15,
     "metadata": {},
     "output_type": "execute_result"
    }
   ],
   "source": [
    "A[-1]"
   ]
  },
  {
   "cell_type": "code",
   "execution_count": 17,
   "id": "43474b3a",
   "metadata": {},
   "outputs": [
    {
     "data": {
      "text/plain": [
       "[4, 5.0, 'ratan', (1+2j)]"
      ]
     },
     "execution_count": 17,
     "metadata": {},
     "output_type": "execute_result"
    }
   ],
   "source": [
    "A[-5:-1]"
   ]
  },
  {
   "cell_type": "code",
   "execution_count": null,
   "id": "5ef1b3dd",
   "metadata": {},
   "outputs": [],
   "source": []
  },
  {
   "cell_type": "code",
   "execution_count": 18,
   "id": "7dc8c7c0",
   "metadata": {},
   "outputs": [],
   "source": [
    "# indexing in 2-d list"
   ]
  },
  {
   "cell_type": "code",
   "execution_count": null,
   "id": "d615074e",
   "metadata": {},
   "outputs": [],
   "source": []
  },
  {
   "cell_type": "code",
   "execution_count": 19,
   "id": "cdee4e08",
   "metadata": {},
   "outputs": [
    {
     "data": {
      "text/plain": [
       "[1, 2, 3, 4, [5, 6, 7], 5, 3]"
      ]
     },
     "execution_count": 19,
     "metadata": {},
     "output_type": "execute_result"
    }
   ],
   "source": [
    "s=([1,2,3,4,[5,6,7],5,3])\n",
    "s"
   ]
  },
  {
   "cell_type": "code",
   "execution_count": 23,
   "id": "35a4425f",
   "metadata": {},
   "outputs": [
    {
     "data": {
      "text/plain": [
       "6"
      ]
     },
     "execution_count": 23,
     "metadata": {},
     "output_type": "execute_result"
    }
   ],
   "source": [
    "s[4][1]"
   ]
  },
  {
   "cell_type": "code",
   "execution_count": 24,
   "id": "a03aa545",
   "metadata": {},
   "outputs": [],
   "source": [
    "w=[[[1,2],[3,4]],[[4,5],[6,7]]]"
   ]
  },
  {
   "cell_type": "code",
   "execution_count": 25,
   "id": "1c3d8e11",
   "metadata": {},
   "outputs": [
    {
     "data": {
      "text/plain": [
       "[[[1, 2], [3, 4]], [[4, 5], [6, 7]]]"
      ]
     },
     "execution_count": 25,
     "metadata": {},
     "output_type": "execute_result"
    }
   ],
   "source": [
    "w"
   ]
  },
  {
   "cell_type": "code",
   "execution_count": 29,
   "id": "7c84548c",
   "metadata": {},
   "outputs": [
    {
     "data": {
      "text/plain": [
       "2"
      ]
     },
     "execution_count": 29,
     "metadata": {},
     "output_type": "execute_result"
    }
   ],
   "source": [
    "w[0][0][1]"
   ]
  },
  {
   "cell_type": "code",
   "execution_count": null,
   "id": "d3b38a19",
   "metadata": {},
   "outputs": [],
   "source": [
    "#start, end , step"
   ]
  },
  {
   "cell_type": "code",
   "execution_count": 31,
   "id": "ca63ac2d",
   "metadata": {},
   "outputs": [],
   "source": [
    "a=[1,2,3,4,5,6,7,3,4,6]"
   ]
  },
  {
   "cell_type": "code",
   "execution_count": 34,
   "id": "fc4eb516",
   "metadata": {},
   "outputs": [
    {
     "data": {
      "text/plain": [
       "[1, 3, 5, 7, 4]"
      ]
     },
     "execution_count": 34,
     "metadata": {},
     "output_type": "execute_result"
    }
   ],
   "source": [
    "a[::2]"
   ]
  },
  {
   "cell_type": "code",
   "execution_count": 35,
   "id": "6c8beb43",
   "metadata": {},
   "outputs": [
    {
     "data": {
      "text/plain": [
       "[1, 3, 5.0, (1+2j)]"
      ]
     },
     "execution_count": 35,
     "metadata": {},
     "output_type": "execute_result"
    }
   ],
   "source": [
    "A = [1,2,3,4,5.0, \"ratan\", 1+2j, True]\n",
    "A[::2]"
   ]
  },
  {
   "cell_type": "code",
   "execution_count": 33,
   "id": "b237beea",
   "metadata": {},
   "outputs": [
    {
     "data": {
      "text/plain": [
       "[6, 4, 3, 7, 6, 5, 4, 3, 2, 1]"
      ]
     },
     "execution_count": 33,
     "metadata": {},
     "output_type": "execute_result"
    }
   ],
   "source": [
    "# reverse the list\n",
    "\n",
    "a[::-1]"
   ]
  },
  {
   "cell_type": "code",
   "execution_count": null,
   "id": "0fbdbbd0",
   "metadata": {},
   "outputs": [],
   "source": []
  },
  {
   "cell_type": "code",
   "execution_count": 37,
   "id": "2e0dbfcb",
   "metadata": {},
   "outputs": [
    {
     "name": "stdout",
     "output_type": "stream",
     "text": [
      "0 1\n",
      "1 2\n",
      "2 3\n",
      "3 4\n",
      "4 5.0\n",
      "5 ratan\n",
      "6 (1+2j)\n",
      "7 True\n"
     ]
    }
   ],
   "source": [
    "A = [1,2,3,4,5.0, \"ratan\", 1+2j, True]\n",
    "\n",
    "for i in range(0,8):\n",
    "    print(i,A[i])"
   ]
  },
  {
   "cell_type": "code",
   "execution_count": 38,
   "id": "c31d0e92",
   "metadata": {},
   "outputs": [
    {
     "name": "stdout",
     "output_type": "stream",
     "text": [
      "i=0, value=1, datatype=<class 'int'>\n",
      "i=1, value=2, datatype=<class 'int'>\n",
      "i=2, value=3, datatype=<class 'int'>\n",
      "i=3, value=4, datatype=<class 'int'>\n",
      "i=4, value=5.0, datatype=<class 'float'>\n",
      "i=5, value=ratan, datatype=<class 'str'>\n",
      "i=6, value=(1+2j), datatype=<class 'complex'>\n",
      "i=7, value=True, datatype=<class 'bool'>\n"
     ]
    }
   ],
   "source": [
    "for i in range(len(A)):\n",
    "  print(f\"i={i}, value={A[i]}, datatype={type(A[i])}\")"
   ]
  },
  {
   "cell_type": "code",
   "execution_count": null,
   "id": "84d3e158",
   "metadata": {},
   "outputs": [],
   "source": []
  },
  {
   "cell_type": "code",
   "execution_count": null,
   "id": "5ce5a62d",
   "metadata": {},
   "outputs": [],
   "source": [
    "### Updating list element at specific index"
   ]
  },
  {
   "cell_type": "code",
   "execution_count": 56,
   "id": "33ab5060",
   "metadata": {},
   "outputs": [],
   "source": [
    "my_list= (['alpha',1,2,3.0,True,'name'])"
   ]
  },
  {
   "cell_type": "code",
   "execution_count": 57,
   "id": "06d9bf84",
   "metadata": {},
   "outputs": [
    {
     "data": {
      "text/plain": [
       "['alpha', 1, 2, 3.0, True, 'name']"
      ]
     },
     "execution_count": 57,
     "metadata": {},
     "output_type": "execute_result"
    }
   ],
   "source": [
    "my_list"
   ]
  },
  {
   "cell_type": "code",
   "execution_count": 58,
   "id": "b22e4b24",
   "metadata": {},
   "outputs": [
    {
     "name": "stdout",
     "output_type": "stream",
     "text": [
      "New value at index 3:  6\n"
     ]
    }
   ],
   "source": [
    "my_list[3] = 6\n",
    "print(\"New value at index 3: \", my_list[3])"
   ]
  },
  {
   "cell_type": "code",
   "execution_count": 59,
   "id": "28dd0009",
   "metadata": {},
   "outputs": [
    {
     "data": {
      "text/plain": [
       "['alpha', 1, 2, 6, True, 'name']"
      ]
     },
     "execution_count": 59,
     "metadata": {},
     "output_type": "execute_result"
    }
   ],
   "source": [
    "my_list"
   ]
  },
  {
   "cell_type": "code",
   "execution_count": null,
   "id": "e6a867ea",
   "metadata": {},
   "outputs": [],
   "source": [
    "# we can concate in the list"
   ]
  },
  {
   "cell_type": "code",
   "execution_count": 60,
   "id": "85969bfd",
   "metadata": {},
   "outputs": [
    {
     "data": {
      "text/plain": [
       "['alpha', 1, 2, 6, True, 'name', 'new item', 5]"
      ]
     },
     "execution_count": 60,
     "metadata": {},
     "output_type": "execute_result"
    }
   ],
   "source": [
    "my_list + ['new item',5]"
   ]
  },
  {
   "cell_type": "markdown",
   "id": "c09b1905",
   "metadata": {},
   "source": [
    ">**Note:** This doesn't actually change the original list!"
   ]
  },
  {
   "cell_type": "code",
   "execution_count": 61,
   "id": "7ec3a54f",
   "metadata": {},
   "outputs": [
    {
     "data": {
      "text/plain": [
       "['alpha', 1, 2, 6, True, 'name']"
      ]
     },
     "execution_count": 61,
     "metadata": {},
     "output_type": "execute_result"
    }
   ],
   "source": [
    "my_list"
   ]
  },
  {
   "cell_type": "code",
   "execution_count": 55,
   "id": "d780bc4e",
   "metadata": {},
   "outputs": [],
   "source": [
    "# if we want this as permanent change then we have to assign this in a new variable"
   ]
  },
  {
   "cell_type": "code",
   "execution_count": null,
   "id": "ec784461",
   "metadata": {},
   "outputs": [],
   "source": []
  },
  {
   "cell_type": "code",
   "execution_count": 62,
   "id": "b2f8194d",
   "metadata": {},
   "outputs": [],
   "source": [
    "# Reassign\n",
    "# IN STRING  WE CANT ASSIGN ANY VALUE  BUT IN LIST WE CAN  ASSIGN A NEW VALUE\n",
    "\n",
    "# BCZ STRING IS IMMUTTABLE  BUT A LIST IS MUTTABLE\n",
    "\n",
    "\n",
    "my_list = my_list + ['ratan']"
   ]
  },
  {
   "cell_type": "code",
   "execution_count": 63,
   "id": "321a171b",
   "metadata": {},
   "outputs": [
    {
     "data": {
      "text/plain": [
       "['alpha', 1, 2, 6, True, 'name', 'ratan']"
      ]
     },
     "execution_count": 63,
     "metadata": {},
     "output_type": "execute_result"
    }
   ],
   "source": [
    "my_list"
   ]
  },
  {
   "cell_type": "code",
   "execution_count": null,
   "id": "6c018991",
   "metadata": {},
   "outputs": [],
   "source": []
  },
  {
   "cell_type": "markdown",
   "id": "c12e4120",
   "metadata": {},
   "source": [
    "# operation that can be used in list"
   ]
  },
  {
   "cell_type": "code",
   "execution_count": null,
   "id": "49eb24ab",
   "metadata": {},
   "outputs": [],
   "source": [
    "#arithemetic  ( + , *) (addition  and multiplication can used)\n",
    "# membership operator (  in and not in)"
   ]
  },
  {
   "cell_type": "code",
   "execution_count": 65,
   "id": "ebc2efa6",
   "metadata": {},
   "outputs": [
    {
     "name": "stdout",
     "output_type": "stream",
     "text": [
      "[1, 2, 3]\n",
      "[3, 4, 5, 6]\n"
     ]
    }
   ],
   "source": [
    "a=[1,2,3]\n",
    "b=[3,4,5,6]\n",
    "print(a)\n",
    "print(b)"
   ]
  },
  {
   "cell_type": "code",
   "execution_count": 66,
   "id": "e507dacf",
   "metadata": {},
   "outputs": [
    {
     "data": {
      "text/plain": [
       "[1, 2, 3, 3, 4, 5, 6]"
      ]
     },
     "execution_count": 66,
     "metadata": {},
     "output_type": "execute_result"
    }
   ],
   "source": [
    "a+b\n",
    "# but this is not a permamnet change\n",
    "\n",
    "# we have to assign this into a new variable to permamnently change"
   ]
  },
  {
   "cell_type": "code",
   "execution_count": null,
   "id": "d9236503",
   "metadata": {},
   "outputs": [],
   "source": []
  },
  {
   "cell_type": "code",
   "execution_count": null,
   "id": "e25a3658",
   "metadata": {},
   "outputs": [],
   "source": [
    "# repetation of list"
   ]
  },
  {
   "cell_type": "code",
   "execution_count": 68,
   "id": "b78363be",
   "metadata": {},
   "outputs": [
    {
     "data": {
      "text/plain": [
       "[1, 2, 3, 1, 2, 3, 1, 2, 3]"
      ]
     },
     "execution_count": 68,
     "metadata": {},
     "output_type": "execute_result"
    }
   ],
   "source": [
    "\n",
    "a * 3"
   ]
  },
  {
   "cell_type": "code",
   "execution_count": 69,
   "id": "bf507408",
   "metadata": {},
   "outputs": [
    {
     "ename": "TypeError",
     "evalue": "can't multiply sequence by non-int of type 'list'",
     "output_type": "error",
     "traceback": [
      "\u001b[1;31m---------------------------------------------------------------------------\u001b[0m",
      "\u001b[1;31mTypeError\u001b[0m                                 Traceback (most recent call last)",
      "Input \u001b[1;32mIn [69]\u001b[0m, in \u001b[0;36m<cell line: 1>\u001b[1;34m()\u001b[0m\n\u001b[1;32m----> 1\u001b[0m \u001b[43ma\u001b[49m\u001b[38;5;241;43m*\u001b[39;49m\u001b[43ma\u001b[49m\n",
      "\u001b[1;31mTypeError\u001b[0m: can't multiply sequence by non-int of type 'list'"
     ]
    }
   ],
   "source": [
    "a*a"
   ]
  },
  {
   "cell_type": "code",
   "execution_count": 71,
   "id": "8d63d2e0",
   "metadata": {},
   "outputs": [
    {
     "data": {
      "text/plain": [
       "[1, 2, 3, 1, 2, 3]"
      ]
     },
     "execution_count": 71,
     "metadata": {},
     "output_type": "execute_result"
    }
   ],
   "source": [
    "a+a"
   ]
  },
  {
   "cell_type": "code",
   "execution_count": null,
   "id": "c11d880f",
   "metadata": {},
   "outputs": [],
   "source": [
    "# membership operator"
   ]
  },
  {
   "cell_type": "code",
   "execution_count": 119,
   "id": "25f14bb7",
   "metadata": {},
   "outputs": [],
   "source": [
    "a=[2,3,4,6,7]\n",
    "b=[4,6,2,[4,5,3],2,5]"
   ]
  },
  {
   "cell_type": "code",
   "execution_count": 120,
   "id": "8229f651",
   "metadata": {},
   "outputs": [
    {
     "data": {
      "text/plain": [
       "True"
      ]
     },
     "execution_count": 120,
     "metadata": {},
     "output_type": "execute_result"
    }
   ],
   "source": [
    "4 in a"
   ]
  },
  {
   "cell_type": "code",
   "execution_count": 121,
   "id": "6aa21160",
   "metadata": {},
   "outputs": [
    {
     "data": {
      "text/plain": [
       "False"
      ]
     },
     "execution_count": 121,
     "metadata": {},
     "output_type": "execute_result"
    }
   ],
   "source": [
    "4 not in a"
   ]
  },
  {
   "cell_type": "code",
   "execution_count": 122,
   "id": "86f23a0c",
   "metadata": {},
   "outputs": [
    {
     "data": {
      "text/plain": [
       "True"
      ]
     },
     "execution_count": 122,
     "metadata": {},
     "output_type": "execute_result"
    }
   ],
   "source": [
    "[4,5,3] in b"
   ]
  },
  {
   "cell_type": "code",
   "execution_count": null,
   "id": "e80937be",
   "metadata": {},
   "outputs": [],
   "source": []
  },
  {
   "cell_type": "markdown",
   "id": "9687601a",
   "metadata": {},
   "source": [
    "# adding item in list"
   ]
  },
  {
   "cell_type": "code",
   "execution_count": null,
   "id": "947ab0f6",
   "metadata": {},
   "outputs": [],
   "source": [
    "# append is use to add 1 item in list\n",
    "# extend is used to add multiple item in the list\n",
    "\n",
    "# append and extend add in the last of the list"
   ]
  },
  {
   "cell_type": "code",
   "execution_count": 73,
   "id": "936045e9",
   "metadata": {},
   "outputs": [
    {
     "name": "stdout",
     "output_type": "stream",
     "text": [
      "[1, 2, 3, 4, 5, False]\n"
     ]
    }
   ],
   "source": [
    "# append\n",
    "L = [1,2,3,4,5]\n",
    "L.append(False)\n",
    "print(L)"
   ]
  },
  {
   "cell_type": "code",
   "execution_count": 74,
   "id": "f4b247de",
   "metadata": {},
   "outputs": [
    {
     "data": {
      "text/plain": [
       "[1, 2, 3]"
      ]
     },
     "execution_count": 74,
     "metadata": {},
     "output_type": "execute_result"
    }
   ],
   "source": [
    "a"
   ]
  },
  {
   "cell_type": "code",
   "execution_count": 95,
   "id": "2298ca12",
   "metadata": {},
   "outputs": [],
   "source": [
    "# extend\n"
   ]
  },
  {
   "cell_type": "markdown",
   "id": "0e0100ac",
   "metadata": {},
   "source": [
    "**extend: extends list by appending elements from the iterable. It will append content of list elements to the existing list**"
   ]
  },
  {
   "cell_type": "code",
   "execution_count": 76,
   "id": "092bb209",
   "metadata": {},
   "outputs": [],
   "source": [
    "a.extend([8,3,2])"
   ]
  },
  {
   "cell_type": "code",
   "execution_count": 77,
   "id": "a4ce15a8",
   "metadata": {},
   "outputs": [
    {
     "data": {
      "text/plain": [
       "[1, 2, 3, 8, 3, 2]"
      ]
     },
     "execution_count": 77,
     "metadata": {},
     "output_type": "execute_result"
    }
   ],
   "source": [
    "a"
   ]
  },
  {
   "cell_type": "code",
   "execution_count": null,
   "id": "691cbb80",
   "metadata": {},
   "outputs": [],
   "source": []
  },
  {
   "cell_type": "code",
   "execution_count": 79,
   "id": "79b0a0c7",
   "metadata": {},
   "outputs": [
    {
     "data": {
      "text/plain": [
       "[1, 2, 3, 5, 6, [2, 3, 5]]"
      ]
     },
     "execution_count": 79,
     "metadata": {},
     "output_type": "execute_result"
    }
   ],
   "source": [
    "l=[1,2,3,5,6]\n",
    "l.append([2,3,5])\n",
    "l"
   ]
  },
  {
   "cell_type": "code",
   "execution_count": null,
   "id": "0ff66f74",
   "metadata": {},
   "outputs": [],
   "source": []
  },
  {
   "cell_type": "code",
   "execution_count": 81,
   "id": "cbf5699b",
   "metadata": {},
   "outputs": [
    {
     "name": "stdout",
     "output_type": "stream",
     "text": [
      "[1, 2, 3, 4, 5, 4, 5, 2, 'd', 'a', 't', 'a']\n"
     ]
    }
   ],
   "source": [
    "L = [1,2,3,4,5,4,5,2]\n",
    "L.extend('data')\n",
    "print(L)"
   ]
  },
  {
   "cell_type": "code",
   "execution_count": 96,
   "id": "88936935",
   "metadata": {},
   "outputs": [
    {
     "name": "stdout",
     "output_type": "stream",
     "text": [
      "extended list\n"
     ]
    },
    {
     "data": {
      "text/plain": [
       "['data', 'DS', 'AI', 0, 1, 2, 3, 4]"
      ]
     },
     "execution_count": 96,
     "metadata": {},
     "output_type": "execute_result"
    }
   ],
   "source": [
    "l1 = [\"data\",\"DS\",\"AI\"]\n",
    "l2 = list(range(5))\n",
    "print(\"extended list\")\n",
    "l1.extend(l2)\n",
    "l1"
   ]
  },
  {
   "cell_type": "code",
   "execution_count": 98,
   "id": "0d8b33ff",
   "metadata": {},
   "outputs": [
    {
     "name": "stdout",
     "output_type": "stream",
     "text": [
      "append list\n"
     ]
    },
    {
     "data": {
      "text/plain": [
       "['data', 'DS', 'AI', [0, 1, 2, 3, 4]]"
      ]
     },
     "execution_count": 98,
     "metadata": {},
     "output_type": "execute_result"
    }
   ],
   "source": [
    "l1 = [\"data\",\"DS\",\"AI\"]\n",
    "l2 = list(range(5))\n",
    "print(\"append list\")\n",
    "l1.append(l2)\n",
    "l1"
   ]
  },
  {
   "cell_type": "code",
   "execution_count": null,
   "id": "3c2b60e7",
   "metadata": {},
   "outputs": [],
   "source": [
    "# insert"
   ]
  },
  {
   "cell_type": "code",
   "execution_count": 86,
   "id": "20b2d8bb",
   "metadata": {},
   "outputs": [
    {
     "data": {
      "text/plain": [
       "[2, 3, 30, 4, 6, 6]"
      ]
     },
     "execution_count": 86,
     "metadata": {},
     "output_type": "execute_result"
    }
   ],
   "source": [
    "a=[2,3,4,6,6]\n",
    "a.insert(2,30)\n",
    "a\n",
    "\n",
    "\n",
    "# at which position and what to add"
   ]
  },
  {
   "cell_type": "code",
   "execution_count": null,
   "id": "10bf0baf",
   "metadata": {},
   "outputs": [],
   "source": []
  },
  {
   "cell_type": "markdown",
   "id": "5548eaf5",
   "metadata": {},
   "source": [
    "# list is muttable data type"
   ]
  },
  {
   "cell_type": "code",
   "execution_count": null,
   "id": "c9895af2",
   "metadata": {},
   "outputs": [],
   "source": []
  },
  {
   "cell_type": "code",
   "execution_count": 88,
   "id": "706a1ae7",
   "metadata": {},
   "outputs": [
    {
     "ename": "TypeError",
     "evalue": "'str' object does not support item assignment",
     "output_type": "error",
     "traceback": [
      "\u001b[1;31m---------------------------------------------------------------------------\u001b[0m",
      "\u001b[1;31mTypeError\u001b[0m                                 Traceback (most recent call last)",
      "Input \u001b[1;32mIn [88]\u001b[0m, in \u001b[0;36m<cell line: 2>\u001b[1;34m()\u001b[0m\n\u001b[0;32m      1\u001b[0m s\u001b[38;5;241m=\u001b[39m\u001b[38;5;124m'\u001b[39m\u001b[38;5;124mdata science\u001b[39m\u001b[38;5;124m'\u001b[39m\n\u001b[1;32m----> 2\u001b[0m s[\u001b[38;5;241m0\u001b[39m]\u001b[38;5;241m=\u001b[39m\u001b[38;5;124m'\u001b[39m\u001b[38;5;124mC\u001b[39m\u001b[38;5;124m'\u001b[39m\n",
      "\u001b[1;31mTypeError\u001b[0m: 'str' object does not support item assignment"
     ]
    }
   ],
   "source": [
    "s='data science'\n",
    "s[0]='C'"
   ]
  },
  {
   "cell_type": "code",
   "execution_count": null,
   "id": "3cffad36",
   "metadata": {},
   "outputs": [],
   "source": []
  },
  {
   "cell_type": "code",
   "execution_count": 90,
   "id": "5268cce2",
   "metadata": {},
   "outputs": [],
   "source": [
    "l =[1,2,4,6,2]"
   ]
  },
  {
   "cell_type": "code",
   "execution_count": 91,
   "id": "9bfafd93",
   "metadata": {},
   "outputs": [],
   "source": [
    "l[1]=3"
   ]
  },
  {
   "cell_type": "code",
   "execution_count": 92,
   "id": "cc258faa",
   "metadata": {},
   "outputs": [
    {
     "data": {
      "text/plain": [
       "[1, 3, 4, 6, 2]"
      ]
     },
     "execution_count": 92,
     "metadata": {},
     "output_type": "execute_result"
    }
   ],
   "source": [
    "l"
   ]
  },
  {
   "cell_type": "code",
   "execution_count": null,
   "id": "e00cb5b7",
   "metadata": {},
   "outputs": [],
   "source": []
  },
  {
   "cell_type": "code",
   "execution_count": 93,
   "id": "a0852b82",
   "metadata": {},
   "outputs": [],
   "source": [
    "l[1:4]=[20,30,40]"
   ]
  },
  {
   "cell_type": "code",
   "execution_count": 94,
   "id": "0ee49892",
   "metadata": {},
   "outputs": [
    {
     "data": {
      "text/plain": [
       "[1, 20, 30, 40, 2]"
      ]
     },
     "execution_count": 94,
     "metadata": {},
     "output_type": "execute_result"
    }
   ],
   "source": [
    "l"
   ]
  },
  {
   "cell_type": "code",
   "execution_count": null,
   "id": "f9932170",
   "metadata": {},
   "outputs": [],
   "source": []
  },
  {
   "cell_type": "code",
   "execution_count": null,
   "id": "aa6e7894",
   "metadata": {},
   "outputs": [],
   "source": [
    "# len"
   ]
  },
  {
   "cell_type": "code",
   "execution_count": null,
   "id": "bc5950c8",
   "metadata": {},
   "outputs": [],
   "source": [
    "a=['a',2,3,4.5,True]"
   ]
  },
  {
   "cell_type": "code",
   "execution_count": 99,
   "id": "b6ea58a8",
   "metadata": {},
   "outputs": [
    {
     "data": {
      "text/plain": [
       "6"
      ]
     },
     "execution_count": 99,
     "metadata": {},
     "output_type": "execute_result"
    }
   ],
   "source": [
    "len(a)"
   ]
  },
  {
   "cell_type": "code",
   "execution_count": null,
   "id": "379ee680",
   "metadata": {},
   "outputs": [],
   "source": [
    "# max"
   ]
  },
  {
   "cell_type": "code",
   "execution_count": 100,
   "id": "6ea3cfcb",
   "metadata": {},
   "outputs": [
    {
     "data": {
      "text/plain": [
       "999"
      ]
     },
     "execution_count": 100,
     "metadata": {},
     "output_type": "execute_result"
    }
   ],
   "source": [
    "example = [1,45,999,10]\n",
    "\n",
    "max(example)"
   ]
  },
  {
   "cell_type": "code",
   "execution_count": 128,
   "id": "b20a0c89",
   "metadata": {},
   "outputs": [
    {
     "ename": "TypeError",
     "evalue": "'>' not supported between instances of 'int' and 'str'",
     "output_type": "error",
     "traceback": [
      "\u001b[1;31m---------------------------------------------------------------------------\u001b[0m",
      "\u001b[1;31mTypeError\u001b[0m                                 Traceback (most recent call last)",
      "Input \u001b[1;32mIn [128]\u001b[0m, in \u001b[0;36m<cell line: 2>\u001b[1;34m()\u001b[0m\n\u001b[0;32m      1\u001b[0m a\u001b[38;5;241m=\u001b[39m[\u001b[38;5;124m'\u001b[39m\u001b[38;5;124ma\u001b[39m\u001b[38;5;124m'\u001b[39m,\u001b[38;5;241m2\u001b[39m,\u001b[38;5;241m4\u001b[39m,\u001b[38;5;241m4.5\u001b[39m]\n\u001b[1;32m----> 2\u001b[0m \u001b[38;5;28;43mmax\u001b[39;49m\u001b[43m(\u001b[49m\u001b[43ma\u001b[49m\u001b[43m)\u001b[49m\n",
      "\u001b[1;31mTypeError\u001b[0m: '>' not supported between instances of 'int' and 'str'"
     ]
    }
   ],
   "source": [
    "a=['a',2,4,4.5]\n",
    "max(a)\n",
    "\n",
    "# max &  min only work on homogenous data type"
   ]
  },
  {
   "cell_type": "code",
   "execution_count": null,
   "id": "bf00839f",
   "metadata": {},
   "outputs": [],
   "source": [
    "# min"
   ]
  },
  {
   "cell_type": "code",
   "execution_count": 101,
   "id": "7095290a",
   "metadata": {},
   "outputs": [
    {
     "data": {
      "text/plain": [
       "1"
      ]
     },
     "execution_count": 101,
     "metadata": {},
     "output_type": "execute_result"
    }
   ],
   "source": [
    "min(example)"
   ]
  },
  {
   "cell_type": "code",
   "execution_count": null,
   "id": "dd4270f2",
   "metadata": {},
   "outputs": [],
   "source": []
  },
  {
   "cell_type": "markdown",
   "id": "25ff1974",
   "metadata": {},
   "source": [
    "# deleting item from list"
   ]
  },
  {
   "cell_type": "code",
   "execution_count": null,
   "id": "cbadadcc",
   "metadata": {},
   "outputs": [],
   "source": []
  },
  {
   "cell_type": "code",
   "execution_count": null,
   "id": "fcb7b9bf",
   "metadata": {},
   "outputs": [],
   "source": [
    "# del\n",
    "#remove\n",
    "# pop\n",
    "#clear"
   ]
  },
  {
   "cell_type": "code",
   "execution_count": null,
   "id": "8ae1e508",
   "metadata": {},
   "outputs": [],
   "source": []
  },
  {
   "cell_type": "code",
   "execution_count": null,
   "id": "7e86ffb9",
   "metadata": {},
   "outputs": [],
   "source": [
    "# del"
   ]
  },
  {
   "cell_type": "code",
   "execution_count": 102,
   "id": "d866ec2e",
   "metadata": {},
   "outputs": [
    {
     "data": {
      "text/plain": [
       "[1, 20, 30, 40, 2]"
      ]
     },
     "execution_count": 102,
     "metadata": {},
     "output_type": "execute_result"
    }
   ],
   "source": [
    "l"
   ]
  },
  {
   "cell_type": "code",
   "execution_count": 103,
   "id": "8d8e8c0b",
   "metadata": {},
   "outputs": [],
   "source": [
    "del(l)"
   ]
  },
  {
   "cell_type": "code",
   "execution_count": 105,
   "id": "d2b5dead",
   "metadata": {},
   "outputs": [],
   "source": [
    "# can also del item wise using slicing and indexing\n",
    "\n",
    "a = [1,2,43,4]"
   ]
  },
  {
   "cell_type": "code",
   "execution_count": 106,
   "id": "2f8013ee",
   "metadata": {},
   "outputs": [],
   "source": [
    "del a[-1]"
   ]
  },
  {
   "cell_type": "code",
   "execution_count": 107,
   "id": "747828a8",
   "metadata": {},
   "outputs": [
    {
     "data": {
      "text/plain": [
       "[1, 2, 43]"
      ]
     },
     "execution_count": 107,
     "metadata": {},
     "output_type": "execute_result"
    }
   ],
   "source": [
    "a"
   ]
  },
  {
   "cell_type": "code",
   "execution_count": null,
   "id": "da78a7c6",
   "metadata": {},
   "outputs": [],
   "source": []
  },
  {
   "cell_type": "code",
   "execution_count": null,
   "id": "63d2031b",
   "metadata": {},
   "outputs": [],
   "source": [
    "# remove"
   ]
  },
  {
   "cell_type": "code",
   "execution_count": 109,
   "id": "36f427c4",
   "metadata": {},
   "outputs": [],
   "source": [
    "b=[2,3,5,6,2,6,7,8]\n",
    "\n",
    "# with using remove  , we can remove element using value"
   ]
  },
  {
   "cell_type": "code",
   "execution_count": 110,
   "id": "3a600f71",
   "metadata": {},
   "outputs": [
    {
     "data": {
      "text/plain": [
       "[2, 3, 5, 2, 6, 7, 8]"
      ]
     },
     "execution_count": 110,
     "metadata": {},
     "output_type": "execute_result"
    }
   ],
   "source": [
    "b.remove(6)\n",
    "b"
   ]
  },
  {
   "cell_type": "code",
   "execution_count": null,
   "id": "82f8391a",
   "metadata": {},
   "outputs": [],
   "source": []
  },
  {
   "cell_type": "code",
   "execution_count": 116,
   "id": "d34b981d",
   "metadata": {},
   "outputs": [],
   "source": [
    "# pop"
   ]
  },
  {
   "cell_type": "markdown",
   "id": "38bab80d",
   "metadata": {},
   "source": [
    "Use **pop** to \"pop off\" an item from the list. By default pop takes off the last index, but you can also specify which index to pop off."
   ]
  },
  {
   "cell_type": "code",
   "execution_count": null,
   "id": "8cfb2d0d",
   "metadata": {},
   "outputs": [],
   "source": [
    "# pop can be used by giving index\n",
    "# pop can be used to del the last function-- the default behaviour is to del the last item"
   ]
  },
  {
   "cell_type": "code",
   "execution_count": 113,
   "id": "ce132556",
   "metadata": {},
   "outputs": [],
   "source": [
    "c=[3,3,52,5,7,3,7,2]\n"
   ]
  },
  {
   "cell_type": "code",
   "execution_count": 114,
   "id": "7ff40935",
   "metadata": {},
   "outputs": [
    {
     "data": {
      "text/plain": [
       "52"
      ]
     },
     "execution_count": 114,
     "metadata": {},
     "output_type": "execute_result"
    }
   ],
   "source": [
    "c.pop(2)"
   ]
  },
  {
   "cell_type": "code",
   "execution_count": 115,
   "id": "a7afa8e7",
   "metadata": {},
   "outputs": [
    {
     "data": {
      "text/plain": [
       "2"
      ]
     },
     "execution_count": 115,
     "metadata": {},
     "output_type": "execute_result"
    }
   ],
   "source": [
    "c.pop()"
   ]
  },
  {
   "cell_type": "code",
   "execution_count": null,
   "id": "e280eaac",
   "metadata": {},
   "outputs": [],
   "source": []
  },
  {
   "cell_type": "code",
   "execution_count": null,
   "id": "0b72b9d8",
   "metadata": {},
   "outputs": [],
   "source": [
    "# clear"
   ]
  },
  {
   "cell_type": "code",
   "execution_count": null,
   "id": "1a75de62",
   "metadata": {},
   "outputs": [],
   "source": [
    "# clear is used to del all the element in the list.. and it return the empty string"
   ]
  },
  {
   "cell_type": "code",
   "execution_count": 117,
   "id": "94e23ee2",
   "metadata": {},
   "outputs": [
    {
     "name": "stdout",
     "output_type": "stream",
     "text": [
      "[]\n"
     ]
    }
   ],
   "source": [
    "# clear\n",
    "L = [1,2,3,4,5]\n",
    "\n",
    "L.clear()\n",
    "\n",
    "print(L)"
   ]
  },
  {
   "cell_type": "code",
   "execution_count": null,
   "id": "cb0ec286",
   "metadata": {},
   "outputs": [],
   "source": []
  },
  {
   "cell_type": "markdown",
   "id": "47f3321a",
   "metadata": {},
   "source": [
    "# len,sort , sorted and reverse"
   ]
  },
  {
   "cell_type": "code",
   "execution_count": null,
   "id": "5b05a506",
   "metadata": {},
   "outputs": [],
   "source": []
  },
  {
   "cell_type": "code",
   "execution_count": 127,
   "id": "3716988f",
   "metadata": {},
   "outputs": [
    {
     "data": {
      "text/plain": [
       "3"
      ]
     },
     "execution_count": 127,
     "metadata": {},
     "output_type": "execute_result"
    }
   ],
   "source": [
    "a=[1,2,4]\n",
    "len(a)"
   ]
  },
  {
   "cell_type": "code",
   "execution_count": null,
   "id": "235600d1",
   "metadata": {},
   "outputs": [],
   "source": []
  },
  {
   "cell_type": "code",
   "execution_count": null,
   "id": "fa9e60b6",
   "metadata": {},
   "outputs": [],
   "source": [
    "# sorted temprory change\n",
    "# sort permanent change"
   ]
  },
  {
   "cell_type": "code",
   "execution_count": 129,
   "id": "d04675d6",
   "metadata": {},
   "outputs": [
    {
     "data": {
      "text/plain": [
       "[-34, 1, 45, 67, 98]"
      ]
     },
     "execution_count": 129,
     "metadata": {},
     "output_type": "execute_result"
    }
   ],
   "source": [
    "\n",
    "A = [1,45, 67, 98, -34]\n",
    "\n",
    "sorted(A)\n",
    "\n",
    "# by default ascending order"
   ]
  },
  {
   "cell_type": "code",
   "execution_count": 124,
   "id": "a080c87b",
   "metadata": {},
   "outputs": [
    {
     "data": {
      "text/plain": [
       "[1, 45, 67, 98, -34]"
      ]
     },
     "execution_count": 124,
     "metadata": {},
     "output_type": "execute_result"
    }
   ],
   "source": [
    "A"
   ]
  },
  {
   "cell_type": "code",
   "execution_count": 131,
   "id": "bb13ce7e",
   "metadata": {},
   "outputs": [
    {
     "name": "stdout",
     "output_type": "stream",
     "text": [
      "[98, 67, 45, 1, -34]\n"
     ]
    }
   ],
   "source": [
    "\n",
    "A = [1,45, 67, 98, -34]\n",
    "\n",
    "print(sorted(A,reverse=True))\n",
    "\n",
    "\n",
    "# by using reverse it change to descending order"
   ]
  },
  {
   "cell_type": "code",
   "execution_count": null,
   "id": "6bf3331d",
   "metadata": {},
   "outputs": [],
   "source": []
  },
  {
   "cell_type": "code",
   "execution_count": null,
   "id": "11986eeb",
   "metadata": {},
   "outputs": [],
   "source": [
    "# sort - permanent change"
   ]
  },
  {
   "cell_type": "code",
   "execution_count": 125,
   "id": "c773540c",
   "metadata": {},
   "outputs": [],
   "source": [
    "A = [1,45, 67, 98, -34]\n",
    "\n",
    "A.sort() # permanent change"
   ]
  },
  {
   "cell_type": "code",
   "execution_count": 126,
   "id": "6011dd7e",
   "metadata": {},
   "outputs": [
    {
     "data": {
      "text/plain": [
       "[-34, 1, 45, 67, 98]"
      ]
     },
     "execution_count": 126,
     "metadata": {},
     "output_type": "execute_result"
    }
   ],
   "source": [
    "A"
   ]
  },
  {
   "cell_type": "code",
   "execution_count": null,
   "id": "8dad222f",
   "metadata": {},
   "outputs": [],
   "source": []
  },
  {
   "cell_type": "code",
   "execution_count": null,
   "id": "070d6470",
   "metadata": {},
   "outputs": [],
   "source": [
    "# count"
   ]
  },
  {
   "cell_type": "code",
   "execution_count": 133,
   "id": "4ccb6460",
   "metadata": {},
   "outputs": [],
   "source": [
    "a=[2,3,4,52,2,3,6,2,7,8,3,2]"
   ]
  },
  {
   "cell_type": "code",
   "execution_count": 134,
   "id": "80d4caa5",
   "metadata": {},
   "outputs": [
    {
     "data": {
      "text/plain": [
       "4"
      ]
     },
     "execution_count": 134,
     "metadata": {},
     "output_type": "execute_result"
    }
   ],
   "source": [
    "a.count(2)"
   ]
  },
  {
   "cell_type": "code",
   "execution_count": null,
   "id": "bc414381",
   "metadata": {},
   "outputs": [],
   "source": [
    "# index"
   ]
  },
  {
   "cell_type": "code",
   "execution_count": 136,
   "id": "4c05707d",
   "metadata": {},
   "outputs": [],
   "source": [
    "# it talk about the index\n"
   ]
  },
  {
   "cell_type": "code",
   "execution_count": 137,
   "id": "27f72674",
   "metadata": {},
   "outputs": [
    {
     "data": {
      "text/plain": [
       "[2, 3, 4, 52, 2, 3, 6, 2, 7, 8, 3, 2]"
      ]
     },
     "execution_count": 137,
     "metadata": {},
     "output_type": "execute_result"
    }
   ],
   "source": [
    "a"
   ]
  },
  {
   "cell_type": "code",
   "execution_count": 135,
   "id": "4aca4a7a",
   "metadata": {},
   "outputs": [
    {
     "data": {
      "text/plain": [
       "1"
      ]
     },
     "execution_count": 135,
     "metadata": {},
     "output_type": "execute_result"
    }
   ],
   "source": [
    "a.index(3)"
   ]
  },
  {
   "cell_type": "code",
   "execution_count": null,
   "id": "2ac26737",
   "metadata": {},
   "outputs": [],
   "source": [
    "# reverse\n",
    "\n",
    "# pemamnently change the list"
   ]
  },
  {
   "cell_type": "code",
   "execution_count": null,
   "id": "9ca0aaa8",
   "metadata": {},
   "outputs": [],
   "source": [
    "a=[2,3,4,5,2,32,6,23,6,32]"
   ]
  },
  {
   "cell_type": "code",
   "execution_count": 138,
   "id": "d9861bc9",
   "metadata": {},
   "outputs": [],
   "source": [
    "a.reverse()"
   ]
  },
  {
   "cell_type": "code",
   "execution_count": 139,
   "id": "48fee928",
   "metadata": {},
   "outputs": [
    {
     "data": {
      "text/plain": [
       "[2, 3, 8, 7, 2, 6, 3, 2, 52, 4, 3, 2]"
      ]
     },
     "execution_count": 139,
     "metadata": {},
     "output_type": "execute_result"
    }
   ],
   "source": [
    "a"
   ]
  },
  {
   "cell_type": "code",
   "execution_count": null,
   "id": "3f0097a2",
   "metadata": {},
   "outputs": [],
   "source": []
  },
  {
   "cell_type": "code",
   "execution_count": 141,
   "id": "d78996d3",
   "metadata": {},
   "outputs": [],
   "source": [
    "new_list = ['a','e','x','b','c']"
   ]
  },
  {
   "cell_type": "code",
   "execution_count": 142,
   "id": "0f38f7fb",
   "metadata": {},
   "outputs": [],
   "source": [
    "new_list.reverse()"
   ]
  },
  {
   "cell_type": "code",
   "execution_count": 143,
   "id": "6199789e",
   "metadata": {},
   "outputs": [
    {
     "data": {
      "text/plain": [
       "['c', 'b', 'x', 'e', 'a']"
      ]
     },
     "execution_count": 143,
     "metadata": {},
     "output_type": "execute_result"
    }
   ],
   "source": [
    "new_list"
   ]
  },
  {
   "cell_type": "code",
   "execution_count": null,
   "id": "cddf7e82",
   "metadata": {},
   "outputs": [],
   "source": []
  },
  {
   "cell_type": "code",
   "execution_count": null,
   "id": "24e270a4",
   "metadata": {},
   "outputs": [],
   "source": [
    "# copy"
   ]
  },
  {
   "cell_type": "code",
   "execution_count": 144,
   "id": "a07ef601",
   "metadata": {},
   "outputs": [],
   "source": [
    "l=[2,3,4,5,2,3]\n",
    "a=l.copy()"
   ]
  },
  {
   "cell_type": "code",
   "execution_count": 145,
   "id": "1e6c4873",
   "metadata": {},
   "outputs": [
    {
     "data": {
      "text/plain": [
       "[2, 3, 4, 5, 2, 3]"
      ]
     },
     "execution_count": 145,
     "metadata": {},
     "output_type": "execute_result"
    }
   ],
   "source": [
    "a"
   ]
  },
  {
   "cell_type": "code",
   "execution_count": null,
   "id": "cf1264f1",
   "metadata": {},
   "outputs": [],
   "source": []
  },
  {
   "cell_type": "markdown",
   "id": "0d15955a",
   "metadata": {},
   "source": [
    "# Nesting Lists\n",
    "\n",
    "Nesting Lists is one of the great features in Python data structures. Nesting Lists means we can have data structures within data structures. "
   ]
  },
  {
   "cell_type": "code",
   "execution_count": null,
   "id": "bd333a17",
   "metadata": {},
   "outputs": [],
   "source": []
  },
  {
   "cell_type": "code",
   "execution_count": 146,
   "id": "55abecdc",
   "metadata": {},
   "outputs": [],
   "source": [
    "a=[1,2,3]\n",
    "b=[3,4,5]\n",
    "c=[4,5,6]\n",
    "d=[a,b,c]"
   ]
  },
  {
   "cell_type": "code",
   "execution_count": 147,
   "id": "b6e1026c",
   "metadata": {},
   "outputs": [
    {
     "data": {
      "text/plain": [
       "[[1, 2, 3], [3, 4, 5], [4, 5, 6]]"
      ]
     },
     "execution_count": 147,
     "metadata": {},
     "output_type": "execute_result"
    }
   ],
   "source": [
    "d"
   ]
  },
  {
   "cell_type": "code",
   "execution_count": 148,
   "id": "4455eb66",
   "metadata": {},
   "outputs": [
    {
     "data": {
      "text/plain": [
       "[1, 2, 3]"
      ]
     },
     "execution_count": 148,
     "metadata": {},
     "output_type": "execute_result"
    }
   ],
   "source": [
    "d[0]"
   ]
  },
  {
   "cell_type": "code",
   "execution_count": 149,
   "id": "730ddfa8",
   "metadata": {},
   "outputs": [
    {
     "data": {
      "text/plain": [
       "3"
      ]
     },
     "execution_count": 149,
     "metadata": {},
     "output_type": "execute_result"
    }
   ],
   "source": [
    "d[1][0]"
   ]
  },
  {
   "cell_type": "code",
   "execution_count": null,
   "id": "b3d5555a",
   "metadata": {},
   "outputs": [],
   "source": []
  },
  {
   "cell_type": "markdown",
   "id": "6b0750a1",
   "metadata": {},
   "source": [
    "# list comprehension"
   ]
  },
  {
   "cell_type": "code",
   "execution_count": null,
   "id": "9c74686f",
   "metadata": {},
   "outputs": [],
   "source": []
  },
  {
   "cell_type": "markdown",
   "id": "0d81d23b",
   "metadata": {},
   "source": [
    "newlist=[expression for item in iterable if condition = True]"
   ]
  },
  {
   "cell_type": "code",
   "execution_count": null,
   "id": "ad33d992",
   "metadata": {},
   "outputs": [],
   "source": []
  },
  {
   "cell_type": "code",
   "execution_count": 151,
   "id": "ba34be22",
   "metadata": {},
   "outputs": [
    {
     "data": {
      "text/plain": [
       "[0, 2, 4, 6, 8, 10, 12, 14, 16, 18]"
      ]
     },
     "execution_count": 151,
     "metadata": {},
     "output_type": "execute_result"
    }
   ],
   "source": [
    "#Without list comprehension\n",
    "l=[]\n",
    "for i in range(20):\n",
    "    if i%2 == 0:\n",
    "        l.append(i)\n",
    "l"
   ]
  },
  {
   "cell_type": "code",
   "execution_count": 153,
   "id": "b94fd107",
   "metadata": {},
   "outputs": [
    {
     "data": {
      "text/plain": [
       "[0, 2, 4, 6, 8, 10, 12, 14, 16, 18]"
      ]
     },
     "execution_count": 153,
     "metadata": {},
     "output_type": "execute_result"
    }
   ],
   "source": [
    "letter=[i for i in range(20) if i%2==0]\n",
    "letter"
   ]
  },
  {
   "cell_type": "code",
   "execution_count": null,
   "id": "8b8dbfc6",
   "metadata": {},
   "outputs": [],
   "source": []
  },
  {
   "cell_type": "code",
   "execution_count": 160,
   "id": "2fa63bca",
   "metadata": {},
   "outputs": [
    {
     "data": {
      "text/plain": [
       "[2, 3, 4, 2, 3, 4, 2, 3, 4]"
      ]
     },
     "execution_count": 160,
     "metadata": {},
     "output_type": "execute_result"
    }
   ],
   "source": [
    "v=[2,3,4]\n",
    "s=3\n",
    "v*3"
   ]
  },
  {
   "cell_type": "code",
   "execution_count": 159,
   "id": "01f7692c",
   "metadata": {},
   "outputs": [
    {
     "name": "stdout",
     "output_type": "stream",
     "text": [
      "[6, 9, 12]\n"
     ]
    }
   ],
   "source": [
    "x=[]\n",
    "for i in v:\n",
    "    x.append(i*s)\n",
    "print(x)"
   ]
  },
  {
   "cell_type": "code",
   "execution_count": 161,
   "id": "952f7632",
   "metadata": {},
   "outputs": [
    {
     "data": {
      "text/plain": [
       "[6, 9, 12]"
      ]
     },
     "execution_count": 161,
     "metadata": {},
     "output_type": "execute_result"
    }
   ],
   "source": [
    "[s*i for i in v]"
   ]
  },
  {
   "cell_type": "code",
   "execution_count": null,
   "id": "967d4ed4",
   "metadata": {},
   "outputs": [],
   "source": []
  },
  {
   "cell_type": "code",
   "execution_count": null,
   "id": "a08009a1",
   "metadata": {},
   "outputs": [],
   "source": [
    "# square of a list"
   ]
  },
  {
   "cell_type": "code",
   "execution_count": 164,
   "id": "145cbc9d",
   "metadata": {},
   "outputs": [],
   "source": [
    "a=[1,2,3,4,2]"
   ]
  },
  {
   "cell_type": "code",
   "execution_count": 165,
   "id": "51065ef4",
   "metadata": {},
   "outputs": [
    {
     "data": {
      "text/plain": [
       "[1, 4, 9, 16, 4]"
      ]
     },
     "execution_count": 165,
     "metadata": {},
     "output_type": "execute_result"
    }
   ],
   "source": [
    "[i**2 for i in a]"
   ]
  },
  {
   "cell_type": "code",
   "execution_count": null,
   "id": "6e615095",
   "metadata": {},
   "outputs": [],
   "source": []
  },
  {
   "cell_type": "code",
   "execution_count": 166,
   "id": "e0392373",
   "metadata": {},
   "outputs": [
    {
     "data": {
      "text/plain": [
       "['Even',\n",
       " 'Odd',\n",
       " 'Even',\n",
       " 'Odd',\n",
       " 'Even',\n",
       " 'Odd',\n",
       " 'Even',\n",
       " 'Odd',\n",
       " 'Even',\n",
       " 'Odd',\n",
       " 'Even',\n",
       " 'Odd',\n",
       " 'Even',\n",
       " 'Odd',\n",
       " 'Even',\n",
       " 'Odd',\n",
       " 'Even',\n",
       " 'Odd',\n",
       " 'Even',\n",
       " 'Odd']"
      ]
     },
     "execution_count": 166,
     "metadata": {},
     "output_type": "execute_result"
    }
   ],
   "source": [
    "l = []\n",
    "for i in range(20):\n",
    "    if i%2 != 0:\n",
    "        l.append(\"Odd\")\n",
    "    else:\n",
    "        l.append(\"Even\")\n",
    "l"
   ]
  },
  {
   "cell_type": "code",
   "execution_count": 171,
   "id": "07fb7096",
   "metadata": {},
   "outputs": [
    {
     "data": {
      "text/plain": [
       "['even',\n",
       " 'odd',\n",
       " 'even',\n",
       " 'odd',\n",
       " 'even',\n",
       " 'odd',\n",
       " 'even',\n",
       " 'odd',\n",
       " 'even',\n",
       " 'odd',\n",
       " 'even',\n",
       " 'odd',\n",
       " 'even',\n",
       " 'odd',\n",
       " 'even',\n",
       " 'odd',\n",
       " 'even',\n",
       " 'odd',\n",
       " 'even',\n",
       " 'odd']"
      ]
     },
     "execution_count": 171,
     "metadata": {},
     "output_type": "execute_result"
    }
   ],
   "source": [
    "['even' if i%2==0 else 'odd' for i in range(20) ]"
   ]
  },
  {
   "cell_type": "code",
   "execution_count": 168,
   "id": "deee5446",
   "metadata": {},
   "outputs": [
    {
     "data": {
      "text/plain": [
       "[0, 3, 6, 9, 12, 15, 18, 21, 24, 27, 30, 33, 36, 39]"
      ]
     },
     "execution_count": 168,
     "metadata": {},
     "output_type": "execute_result"
    }
   ],
   "source": [
    "# print all no. divisible by 3 in range of(1,40)\n",
    "[i for i in range(40) if i%3==0]"
   ]
  },
  {
   "cell_type": "code",
   "execution_count": 167,
   "id": "e1ab99f1",
   "metadata": {},
   "outputs": [
    {
     "name": "stdout",
     "output_type": "stream",
     "text": [
      "0\n",
      "3\n",
      "6\n",
      "9\n",
      "12\n",
      "15\n",
      "18\n",
      "21\n",
      "24\n",
      "27\n",
      "30\n",
      "33\n",
      "36\n",
      "39\n"
     ]
    }
   ],
   "source": [
    "for i in range(40):\n",
    "    if i %3==0:\n",
    "        print(i)"
   ]
  },
  {
   "cell_type": "code",
   "execution_count": null,
   "id": "6f5c2cfb",
   "metadata": {},
   "outputs": [],
   "source": []
  },
  {
   "cell_type": "code",
   "execution_count": 176,
   "id": "d5af3311",
   "metadata": {},
   "outputs": [
    {
     "data": {
      "text/plain": [
       "['marathi', 'mathili']"
      ]
     },
     "execution_count": 176,
     "metadata": {},
     "output_type": "execute_result"
    }
   ],
   "source": [
    "# find languages which start with letter p\n",
    "languages = ['hindi','english','marathi','mathili','kannad']\n",
    "\n",
    "[i for i in languages if i.startswith('m')]"
   ]
  },
  {
   "cell_type": "code",
   "execution_count": null,
   "id": "e50edf7a",
   "metadata": {},
   "outputs": [],
   "source": []
  },
  {
   "cell_type": "code",
   "execution_count": 173,
   "id": "21756d59",
   "metadata": {},
   "outputs": [
    {
     "data": {
      "text/plain": [
       "[5, 6, 7, 8, 10, 12, 14, 16, 15, 18, 21, 24, 20, 24, 28, 32]"
      ]
     },
     "execution_count": 173,
     "metadata": {},
     "output_type": "execute_result"
    }
   ],
   "source": [
    "L1 = [1,2,3,4]\n",
    "L2 = [5,6,7,8]\n",
    "\n",
    "[i*j for i in L1 for j in L2]"
   ]
  },
  {
   "cell_type": "code",
   "execution_count": 175,
   "id": "a2184ecd",
   "metadata": {},
   "outputs": [
    {
     "name": "stdout",
     "output_type": "stream",
     "text": [
      "5\n",
      "6\n",
      "7\n",
      "8\n",
      "10\n",
      "12\n",
      "14\n",
      "16\n",
      "15\n",
      "18\n",
      "21\n",
      "24\n",
      "20\n",
      "24\n",
      "28\n",
      "32\n"
     ]
    }
   ],
   "source": [
    "for i in L1:\n",
    "    for j in L2:\n",
    "        print(i*j)"
   ]
  },
  {
   "cell_type": "code",
   "execution_count": null,
   "id": "cb76bdb5",
   "metadata": {},
   "outputs": [],
   "source": []
  }
 ],
 "metadata": {
  "kernelspec": {
   "display_name": "Python 3 (ipykernel)",
   "language": "python",
   "name": "python3"
  },
  "language_info": {
   "codemirror_mode": {
    "name": "ipython",
    "version": 3
   },
   "file_extension": ".py",
   "mimetype": "text/x-python",
   "name": "python",
   "nbconvert_exporter": "python",
   "pygments_lexer": "ipython3",
   "version": "3.9.12"
  }
 },
 "nbformat": 4,
 "nbformat_minor": 5
}
