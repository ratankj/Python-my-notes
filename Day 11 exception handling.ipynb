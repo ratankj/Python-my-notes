{
 "cells": [
  {
   "cell_type": "code",
   "execution_count": null,
   "id": "2f36d2ef",
   "metadata": {},
   "outputs": [],
   "source": []
  },
  {
   "cell_type": "markdown",
   "id": "563d2795",
   "metadata": {},
   "source": [
    "# exception handling"
   ]
  },
  {
   "cell_type": "code",
   "execution_count": null,
   "id": "e39e3021",
   "metadata": {},
   "outputs": [],
   "source": []
  },
  {
   "cell_type": "markdown",
   "id": "586470d3",
   "metadata": {},
   "source": [
    "There are 2 stages where error may happen in a program\n",
    "\n",
    "- During compilation -> Syntax Error\n",
    "- During execution -> Exceptions"
   ]
  },
  {
   "cell_type": "code",
   "execution_count": null,
   "id": "f6138f4d",
   "metadata": {},
   "outputs": [],
   "source": []
  },
  {
   "cell_type": "markdown",
   "id": "8902887c",
   "metadata": {},
   "source": [
    "### Syntax Error\n",
    "\n",
    "- Something in the program is not written according to the program grammar.\n",
    "- Error is raised by the interpreter/compiler\n",
    "- You can solve it by rectifying the program\n",
    "- Leaving symbols like colon,brackets\n",
    "- Misspelling a keyword\n",
    "- Incorrect indentation\n",
    "- empty if/else/loops/class/functions"
   ]
  },
  {
   "cell_type": "code",
   "execution_count": 1,
   "id": "23d479f8",
   "metadata": {},
   "outputs": [
    {
     "ename": "IndentationError",
     "evalue": "unexpected indent (3690463987.py, line 2)",
     "output_type": "error",
     "traceback": [
      "\u001b[1;36m  Input \u001b[1;32mIn [1]\u001b[1;36m\u001b[0m\n\u001b[1;33m    print(\"dfklajk\")\u001b[0m\n\u001b[1;37m    ^\u001b[0m\n\u001b[1;31mIndentationError\u001b[0m\u001b[1;31m:\u001b[0m unexpected indent\n"
     ]
    }
   ],
   "source": [
    "print(\"i write code\")\n",
    "    print(\"dfklajk\")"
   ]
  },
  {
   "cell_type": "code",
   "execution_count": 3,
   "id": "56891ebe",
   "metadata": {},
   "outputs": [
    {
     "ename": "SyntaxError",
     "evalue": "invalid syntax (2634011732.py, line 2)",
     "output_type": "error",
     "traceback": [
      "\u001b[1;36m  Input \u001b[1;32mIn [3]\u001b[1;36m\u001b[0m\n\u001b[1;33m    if a==3\u001b[0m\n\u001b[1;37m           ^\u001b[0m\n\u001b[1;31mSyntaxError\u001b[0m\u001b[1;31m:\u001b[0m invalid syntax\n"
     ]
    }
   ],
   "source": [
    "a = 5\n",
    "if a==3\n",
    "  print('num')"
   ]
  },
  {
   "cell_type": "code",
   "execution_count": 4,
   "id": "80ad6c5c",
   "metadata": {},
   "outputs": [
    {
     "name": "stdout",
     "output_type": "stream",
     "text": [
      "['ArithmeticError', 'AssertionError', 'AttributeError', 'BaseException', 'BlockingIOError', 'BrokenPipeError', 'BufferError', 'BytesWarning', 'ChildProcessError', 'ConnectionAbortedError', 'ConnectionError', 'ConnectionRefusedError', 'ConnectionResetError', 'DeprecationWarning', 'EOFError', 'Ellipsis', 'EnvironmentError', 'Exception', 'False', 'FileExistsError', 'FileNotFoundError', 'FloatingPointError', 'FutureWarning', 'GeneratorExit', 'IOError', 'ImportError', 'ImportWarning', 'IndentationError', 'IndexError', 'InterruptedError', 'IsADirectoryError', 'KeyError', 'KeyboardInterrupt', 'LookupError', 'MemoryError', 'ModuleNotFoundError', 'NameError', 'None', 'NotADirectoryError', 'NotImplemented', 'NotImplementedError', 'OSError', 'OverflowError', 'PendingDeprecationWarning', 'PermissionError', 'ProcessLookupError', 'RecursionError', 'ReferenceError', 'ResourceWarning', 'RuntimeError', 'RuntimeWarning', 'StopAsyncIteration', 'StopIteration', 'SyntaxError', 'SyntaxWarning', 'SystemError', 'SystemExit', 'TabError', 'TimeoutError', 'True', 'TypeError', 'UnboundLocalError', 'UnicodeDecodeError', 'UnicodeEncodeError', 'UnicodeError', 'UnicodeTranslateError', 'UnicodeWarning', 'UserWarning', 'ValueError', 'Warning', 'WindowsError', 'ZeroDivisionError', '__IPYTHON__', '__build_class__', '__debug__', '__doc__', '__import__', '__loader__', '__name__', '__package__', '__spec__', 'abs', 'all', 'any', 'ascii', 'bin', 'bool', 'breakpoint', 'bytearray', 'bytes', 'callable', 'chr', 'classmethod', 'compile', 'complex', 'copyright', 'credits', 'delattr', 'dict', 'dir', 'display', 'divmod', 'enumerate', 'eval', 'exec', 'execfile', 'filter', 'float', 'format', 'frozenset', 'get_ipython', 'getattr', 'globals', 'hasattr', 'hash', 'help', 'hex', 'id', 'input', 'int', 'isinstance', 'issubclass', 'iter', 'len', 'license', 'list', 'locals', 'map', 'max', 'memoryview', 'min', 'next', 'object', 'oct', 'open', 'ord', 'pow', 'print', 'property', 'range', 'repr', 'reversed', 'round', 'runfile', 'set', 'setattr', 'slice', 'sorted', 'staticmethod', 'str', 'sum', 'super', 'tuple', 'type', 'vars', 'zip']\n"
     ]
    }
   ],
   "source": [
    "print(dir(locals()['__builtins__']))\n",
    "\n",
    "# these are built in exception error in python"
   ]
  },
  {
   "cell_type": "code",
   "execution_count": null,
   "id": "e27ee92c",
   "metadata": {},
   "outputs": [],
   "source": []
  },
  {
   "cell_type": "code",
   "execution_count": null,
   "id": "b156366e",
   "metadata": {},
   "outputs": [],
   "source": []
  },
  {
   "cell_type": "markdown",
   "id": "89645817",
   "metadata": {},
   "source": [
    "# asseration error"
   ]
  },
  {
   "cell_type": "code",
   "execution_count": 5,
   "id": "1dfd2185",
   "metadata": {},
   "outputs": [
    {
     "ename": "AssertionError",
     "evalue": "invalid operation",
     "output_type": "error",
     "traceback": [
      "\u001b[1;31m---------------------------------------------------------------------------\u001b[0m",
      "\u001b[1;31mAssertionError\u001b[0m                            Traceback (most recent call last)",
      "Input \u001b[1;32mIn [5]\u001b[0m, in \u001b[0;36m<cell line: 7>\u001b[1;34m()\u001b[0m\n\u001b[0;32m      5\u001b[0m z\u001b[38;5;241m=\u001b[39m\u001b[38;5;241m1\u001b[39m\n\u001b[0;32m      6\u001b[0m y\u001b[38;5;241m=\u001b[39m\u001b[38;5;241m0\u001b[39m\n\u001b[1;32m----> 7\u001b[0m \u001b[38;5;28;01massert\u001b[39;00m y\u001b[38;5;241m!=\u001b[39m\u001b[38;5;241m0\u001b[39m,\u001b[38;5;124m\"\u001b[39m\u001b[38;5;124minvalid operation\u001b[39m\u001b[38;5;124m\"\u001b[39m\n\u001b[0;32m      8\u001b[0m \u001b[38;5;28mprint\u001b[39m(x\u001b[38;5;241m/\u001b[39my)\n",
      "\u001b[1;31mAssertionError\u001b[0m: invalid operation"
     ]
    }
   ],
   "source": [
    "# we have an assert keyword used during debuging the code\n",
    "#it retun true if the condition is true.\n",
    "#it return error when condition is false\n",
    "\n",
    "z=1\n",
    "y=0\n",
    "assert y!=0,\"invalid operation\"\n",
    "print(x/y)\n",
    "\n",
    "# when assert is return false  then it give asseration error\n",
    "# in above condition here  0 != 0   so it retun false\n",
    "# and when we use assert keyword , and if it return false. then give error"
   ]
  },
  {
   "cell_type": "code",
   "execution_count": null,
   "id": "cd5cf442",
   "metadata": {},
   "outputs": [],
   "source": []
  },
  {
   "cell_type": "markdown",
   "id": "085a6fb5",
   "metadata": {},
   "source": [
    "# attribute error"
   ]
  },
  {
   "cell_type": "code",
   "execution_count": null,
   "id": "4aaee0fe",
   "metadata": {},
   "outputs": [],
   "source": []
  },
  {
   "cell_type": "code",
   "execution_count": 6,
   "id": "367ffd70",
   "metadata": {},
   "outputs": [
    {
     "ename": "AttributeError",
     "evalue": "'int' object has no attribute 'append'",
     "output_type": "error",
     "traceback": [
      "\u001b[1;31m---------------------------------------------------------------------------\u001b[0m",
      "\u001b[1;31mAttributeError\u001b[0m                            Traceback (most recent call last)",
      "Input \u001b[1;32mIn [6]\u001b[0m, in \u001b[0;36m<cell line: 2>\u001b[1;34m()\u001b[0m\n\u001b[0;32m      1\u001b[0m a\u001b[38;5;241m=\u001b[39m\u001b[38;5;241m7\u001b[39m\n\u001b[1;32m----> 2\u001b[0m \u001b[43ma\u001b[49m\u001b[38;5;241;43m.\u001b[39;49m\u001b[43mappend\u001b[49m(\u001b[38;5;241m9\u001b[39m)\n",
      "\u001b[1;31mAttributeError\u001b[0m: 'int' object has no attribute 'append'"
     ]
    }
   ],
   "source": [
    "a=7\n",
    "a.append(9)"
   ]
  },
  {
   "cell_type": "markdown",
   "id": "b8ef8fd1",
   "metadata": {},
   "source": [
    "# index error"
   ]
  },
  {
   "cell_type": "code",
   "execution_count": 7,
   "id": "82c2c296",
   "metadata": {},
   "outputs": [
    {
     "ename": "IndexError",
     "evalue": "list index out of range",
     "output_type": "error",
     "traceback": [
      "\u001b[1;31m---------------------------------------------------------------------------\u001b[0m",
      "\u001b[1;31mIndexError\u001b[0m                                Traceback (most recent call last)",
      "Input \u001b[1;32mIn [7]\u001b[0m, in \u001b[0;36m<cell line: 2>\u001b[1;34m()\u001b[0m\n\u001b[0;32m      1\u001b[0m b\u001b[38;5;241m=\u001b[39m[\u001b[38;5;241m3\u001b[39m,\u001b[38;5;241m4\u001b[39m,\u001b[38;5;241m5\u001b[39m,\u001b[38;5;241m2\u001b[39m,\u001b[38;5;241m1\u001b[39m,\u001b[38;5;241m5\u001b[39m,\u001b[38;5;241m2\u001b[39m]\n\u001b[1;32m----> 2\u001b[0m \u001b[43mb\u001b[49m\u001b[43m[\u001b[49m\u001b[38;5;241;43m100\u001b[39;49m\u001b[43m]\u001b[49m\n",
      "\u001b[1;31mIndexError\u001b[0m: list index out of range"
     ]
    }
   ],
   "source": [
    "b=[3,4,5,2,1,5,2]\n",
    "b[100]"
   ]
  },
  {
   "cell_type": "code",
   "execution_count": null,
   "id": "8a7fbfaf",
   "metadata": {},
   "outputs": [],
   "source": []
  },
  {
   "cell_type": "markdown",
   "id": "6b06a951",
   "metadata": {},
   "source": [
    "# key error"
   ]
  },
  {
   "cell_type": "code",
   "execution_count": 9,
   "id": "1a71bd13",
   "metadata": {},
   "outputs": [],
   "source": [
    "mydict= {\n",
    "    \"name\":\"rtan\",\n",
    "    \"course\" : \"python\"\n",
    "    \n",
    "}"
   ]
  },
  {
   "cell_type": "code",
   "execution_count": 10,
   "id": "553386ef",
   "metadata": {},
   "outputs": [
    {
     "ename": "KeyError",
     "evalue": "'age'",
     "output_type": "error",
     "traceback": [
      "\u001b[1;31m---------------------------------------------------------------------------\u001b[0m",
      "\u001b[1;31mKeyError\u001b[0m                                  Traceback (most recent call last)",
      "Input \u001b[1;32mIn [10]\u001b[0m, in \u001b[0;36m<cell line: 1>\u001b[1;34m()\u001b[0m\n\u001b[1;32m----> 1\u001b[0m \u001b[43mmydict\u001b[49m\u001b[43m[\u001b[49m\u001b[38;5;124;43m'\u001b[39;49m\u001b[38;5;124;43mage\u001b[39;49m\u001b[38;5;124;43m'\u001b[39;49m\u001b[43m]\u001b[49m\n",
      "\u001b[1;31mKeyError\u001b[0m: 'age'"
     ]
    }
   ],
   "source": [
    "mydict['age']"
   ]
  },
  {
   "cell_type": "code",
   "execution_count": null,
   "id": "19c87058",
   "metadata": {},
   "outputs": [],
   "source": []
  },
  {
   "cell_type": "markdown",
   "id": "3abce031",
   "metadata": {},
   "source": [
    "# name error"
   ]
  },
  {
   "cell_type": "code",
   "execution_count": 11,
   "id": "afa40e59",
   "metadata": {},
   "outputs": [
    {
     "ename": "NameError",
     "evalue": "name 'r' is not defined",
     "output_type": "error",
     "traceback": [
      "\u001b[1;31m---------------------------------------------------------------------------\u001b[0m",
      "\u001b[1;31mNameError\u001b[0m                                 Traceback (most recent call last)",
      "Input \u001b[1;32mIn [11]\u001b[0m, in \u001b[0;36m<cell line: 1>\u001b[1;34m()\u001b[0m\n\u001b[1;32m----> 1\u001b[0m \u001b[38;5;28mprint\u001b[39m(\u001b[43mr\u001b[49m)\n",
      "\u001b[1;31mNameError\u001b[0m: name 'r' is not defined"
     ]
    }
   ],
   "source": [
    "print(r)"
   ]
  },
  {
   "cell_type": "code",
   "execution_count": null,
   "id": "11bf6af8",
   "metadata": {},
   "outputs": [],
   "source": []
  },
  {
   "cell_type": "markdown",
   "id": "4447df02",
   "metadata": {},
   "source": [
    "### ModuleNotFoundError"
   ]
  },
  {
   "cell_type": "code",
   "execution_count": 12,
   "id": "3580eed2",
   "metadata": {},
   "outputs": [
    {
     "ename": "ModuleNotFoundError",
     "evalue": "No module named 'mathi'",
     "output_type": "error",
     "traceback": [
      "\u001b[1;31m---------------------------------------------------------------------------\u001b[0m",
      "\u001b[1;31mModuleNotFoundError\u001b[0m                       Traceback (most recent call last)",
      "Input \u001b[1;32mIn [12]\u001b[0m, in \u001b[0;36m<cell line: 3>\u001b[1;34m()\u001b[0m\n\u001b[0;32m      1\u001b[0m \u001b[38;5;66;03m# ModuleNotFoundError\u001b[39;00m\n\u001b[0;32m      2\u001b[0m \u001b[38;5;66;03m# The ModuleNotFoundError is thrown when a module could not be found.\u001b[39;00m\n\u001b[1;32m----> 3\u001b[0m \u001b[38;5;28;01mimport\u001b[39;00m \u001b[38;5;21;01mmathi\u001b[39;00m\n\u001b[0;32m      4\u001b[0m math\u001b[38;5;241m.\u001b[39mfloor(\u001b[38;5;241m5.3\u001b[39m)\n",
      "\u001b[1;31mModuleNotFoundError\u001b[0m: No module named 'mathi'"
     ]
    }
   ],
   "source": [
    "# ModuleNotFoundError\n",
    "# The ModuleNotFoundError is thrown when a module could not be found.\n",
    "import mathi\n",
    "math.floor(5.3)"
   ]
  },
  {
   "cell_type": "code",
   "execution_count": null,
   "id": "ef2aeb8c",
   "metadata": {},
   "outputs": [],
   "source": []
  },
  {
   "cell_type": "markdown",
   "id": "21174290",
   "metadata": {},
   "source": [
    "# type error"
   ]
  },
  {
   "cell_type": "code",
   "execution_count": 13,
   "id": "c62cb34e",
   "metadata": {},
   "outputs": [
    {
     "ename": "TypeError",
     "evalue": "unsupported operand type(s) for +: 'int' and 'str'",
     "output_type": "error",
     "traceback": [
      "\u001b[1;31m---------------------------------------------------------------------------\u001b[0m",
      "\u001b[1;31mTypeError\u001b[0m                                 Traceback (most recent call last)",
      "Input \u001b[1;32mIn [13]\u001b[0m, in \u001b[0;36m<cell line: 1>\u001b[1;34m()\u001b[0m\n\u001b[1;32m----> 1\u001b[0m \u001b[38;5;28mprint\u001b[39m(\u001b[38;5;241;43m1\u001b[39;49m\u001b[38;5;241;43m+\u001b[39;49m\u001b[38;5;124;43m'\u001b[39;49m\u001b[38;5;124;43mf\u001b[39;49m\u001b[38;5;124;43m'\u001b[39;49m)\n",
      "\u001b[1;31mTypeError\u001b[0m: unsupported operand type(s) for +: 'int' and 'str'"
     ]
    }
   ],
   "source": [
    "print(1+'f')"
   ]
  },
  {
   "cell_type": "code",
   "execution_count": null,
   "id": "6940feb0",
   "metadata": {},
   "outputs": [],
   "source": []
  },
  {
   "cell_type": "markdown",
   "id": "dd33d407",
   "metadata": {},
   "source": [
    "### Exceptions\n",
    "\n",
    "If things go wrong during the execution of the program(runtime). It generally happens when something unforeseen has happened.\n",
    "\n",
    "- Exceptions are raised by python runtime\n",
    "- You have to takle is on the fly\n",
    "\n",
    "#### **Examples**\n",
    "\n",
    "- Memory overflow\n",
    "- Divide by 0 -> logical error\n",
    "- Database error"
   ]
  },
  {
   "cell_type": "markdown",
   "id": "de2e481e",
   "metadata": {},
   "source": [
    " - Exception error means ki code sahi likha hua hai, lekin jab execution ke time me , wrong input de diya and uski wajeh se error aaa rah ahai"
   ]
  },
  {
   "cell_type": "code",
   "execution_count": null,
   "id": "d9967cac",
   "metadata": {},
   "outputs": [],
   "source": []
  },
  {
   "cell_type": "markdown",
   "id": "98e34e41",
   "metadata": {},
   "source": [
    "# try\n",
    "\n",
    "# except\n",
    "\n",
    "# exception\n",
    "\n",
    "# else\n",
    "\n",
    "# finally\n",
    "\n",
    "# raise\n",
    "\n",
    "# creating custom exceptions\n",
    "\n",
    "\n",
    "\n",
    "\n",
    "\n",
    "                        try\n",
    "                      /     \\\n",
    "                     /       \\\n",
    "                    /         \\\n",
    "                   /           \\\n",
    "                error           no error\n",
    "                  |              | \n",
    "                  |              |\n",
    "                  |              |\n",
    "                except          else\n",
    "                   \\             / \n",
    "                    \\           /\n",
    "                     \\         /\n",
    "                      \\       /\n",
    "                       finally"
   ]
  },
  {
   "cell_type": "code",
   "execution_count": null,
   "id": "84b3cfbb",
   "metadata": {},
   "outputs": [],
   "source": []
  },
  {
   "cell_type": "code",
   "execution_count": null,
   "id": "a2c73ed8",
   "metadata": {},
   "outputs": [],
   "source": [
    "# Why is it important to handle exceptions\n",
    "\n",
    "#1.  user experience\n",
    "#2.  security reason"
   ]
  },
  {
   "cell_type": "markdown",
   "id": "e26106e2",
   "metadata": {},
   "source": [
    "#error msg\n",
    "\n",
    "### STACK TRACE  \n",
    "\n",
    " - PEHELE batate hai ki kiss type ka error hai\n",
    " - ek msg hota hai jo describe krta hai about the error\n",
    " - jis line me aaya hai wo line bhi dikhayaa jata hai\n",
    " - file ka naam bataya jata hai\n",
    " - kiss line me problem hai woo bhi bataya jata hai"
   ]
  },
  {
   "cell_type": "code",
   "execution_count": null,
   "id": "c086c554",
   "metadata": {},
   "outputs": [],
   "source": []
  },
  {
   "cell_type": "markdown",
   "id": "c3de52dd",
   "metadata": {},
   "source": [
    "    Try block hold the imp aspect of the program. that is imp code use in program and     EXCEPT block hold the condition that if the above program is not correct then what    the msg will print. BCZ of this error is not coming while running the program"
   ]
  },
  {
   "cell_type": "code",
   "execution_count": null,
   "id": "9cae77ff",
   "metadata": {},
   "outputs": [],
   "source": []
  },
  {
   "cell_type": "code",
   "execution_count": 14,
   "id": "b71c87ad",
   "metadata": {},
   "outputs": [
    {
     "ename": "ZeroDivisionError",
     "evalue": "division by zero",
     "output_type": "error",
     "traceback": [
      "\u001b[1;31m---------------------------------------------------------------------------\u001b[0m",
      "\u001b[1;31mZeroDivisionError\u001b[0m                         Traceback (most recent call last)",
      "Input \u001b[1;32mIn [14]\u001b[0m, in \u001b[0;36m<cell line: 3>\u001b[1;34m()\u001b[0m\n\u001b[0;32m      1\u001b[0m a\u001b[38;5;241m=\u001b[39m\u001b[38;5;241m10\u001b[39m\n\u001b[0;32m      2\u001b[0m b\u001b[38;5;241m=\u001b[39m\u001b[38;5;241m0\u001b[39m\n\u001b[1;32m----> 3\u001b[0m \u001b[43ma\u001b[49m\u001b[38;5;241;43m/\u001b[39;49m\u001b[43mb\u001b[49m\n\u001b[0;32m      4\u001b[0m \u001b[38;5;28mprint\u001b[39m(\u001b[38;5;124m'\u001b[39m\u001b[38;5;124mdivision \u001b[39m\u001b[38;5;124m'\u001b[39m)\n",
      "\u001b[1;31mZeroDivisionError\u001b[0m: division by zero"
     ]
    }
   ],
   "source": [
    "a=10\n",
    "b=0\n",
    "a/b\n",
    "print('random msg ')"
   ]
  },
  {
   "cell_type": "code",
   "execution_count": 15,
   "id": "8636071f",
   "metadata": {},
   "outputs": [
    {
     "name": "stdout",
     "output_type": "stream",
     "text": [
      "there is some error in code\n"
     ]
    }
   ],
   "source": [
    "try:\n",
    "    a=10\n",
    "    b=0\n",
    "    print(a/b)\n",
    "    print('random msg')\n",
    "    \n",
    "except:\n",
    "    print('there is some error in code')"
   ]
  },
  {
   "cell_type": "code",
   "execution_count": null,
   "id": "ed735c66",
   "metadata": {},
   "outputs": [],
   "source": []
  },
  {
   "cell_type": "code",
   "execution_count": 16,
   "id": "ffa72908",
   "metadata": {},
   "outputs": [],
   "source": [
    "# a file is creating with ratan.txt\n",
    "\n",
    "with open('ratan.txt','w') as f:\n",
    "  f.write('hello world')"
   ]
  },
  {
   "cell_type": "code",
   "execution_count": 18,
   "id": "07f533a2",
   "metadata": {},
   "outputs": [
    {
     "name": "stdout",
     "output_type": "stream",
     "text": [
      "file is not found\n"
     ]
    }
   ],
   "source": [
    "try:\n",
    "    with open('ratan1.txt','r') as f:\n",
    "        print(f.read())\n",
    "except:\n",
    "    print('file is not found')"
   ]
  },
  {
   "cell_type": "code",
   "execution_count": null,
   "id": "46addb39",
   "metadata": {},
   "outputs": [],
   "source": []
  },
  {
   "cell_type": "code",
   "execution_count": 19,
   "id": "f1c70362",
   "metadata": {},
   "outputs": [
    {
     "name": "stdout",
     "output_type": "stream",
     "text": [
      "there was error\n",
      "this is outer block\n"
     ]
    }
   ],
   "source": [
    "try:\n",
    "    f=open(\"test.txt\",\"r\")\n",
    "    f.write(\"my name\")\n",
    "except:\n",
    "    print(\"there was error\")\n",
    "print(\"this is outer block\")"
   ]
  },
  {
   "cell_type": "code",
   "execution_count": null,
   "id": "781206d3",
   "metadata": {},
   "outputs": [],
   "source": []
  },
  {
   "cell_type": "code",
   "execution_count": 25,
   "id": "9a7320b7",
   "metadata": {},
   "outputs": [
    {
     "ename": "TypeError",
     "evalue": "can only concatenate list (not \"int\") to list",
     "output_type": "error",
     "traceback": [
      "\u001b[1;31m---------------------------------------------------------------------------\u001b[0m",
      "\u001b[1;31mTypeError\u001b[0m                                 Traceback (most recent call last)",
      "Input \u001b[1;32mIn [25]\u001b[0m, in \u001b[0;36m<cell line: 2>\u001b[1;34m()\u001b[0m\n\u001b[0;32m      1\u001b[0m l\u001b[38;5;241m=\u001b[39m[\u001b[38;5;241m1\u001b[39m,\u001b[38;5;241m2\u001b[39m,\u001b[38;5;241m3\u001b[39m,\u001b[38;5;241m5\u001b[39m,\u001b[38;5;241m3\u001b[39m,\u001b[38;5;241m7\u001b[39m,\u001b[38;5;241m65\u001b[39m,\u001b[38;5;241m7\u001b[39m]\n\u001b[1;32m----> 2\u001b[0m \u001b[38;5;28;01mfor\u001b[39;00m i \u001b[38;5;129;01min\u001b[39;00m \u001b[38;5;28mrange\u001b[39m(\u001b[38;5;28mlen\u001b[39m(l),\u001b[43ml\u001b[49m\u001b[38;5;241;43m+\u001b[39;49m\u001b[38;5;241;43m1\u001b[39;49m):\n\u001b[0;32m      3\u001b[0m         \u001b[38;5;28mprint\u001b[39m(l[i])\n",
      "\u001b[1;31mTypeError\u001b[0m: can only concatenate list (not \"int\") to list"
     ]
    }
   ],
   "source": [
    "l=[1,2,3,5,3,7,65,7]\n",
    "for i in range(len(l),l+1):\n",
    "        print(l[i])"
   ]
  },
  {
   "cell_type": "code",
   "execution_count": 26,
   "id": "7384ecb3",
   "metadata": {},
   "outputs": [
    {
     "name": "stdout",
     "output_type": "stream",
     "text": [
      "4\n",
      "5\n",
      "6\n",
      "7\n",
      "8\n",
      "9\n",
      "9\n"
     ]
    },
    {
     "ename": "IndexError",
     "evalue": "list index out of range",
     "output_type": "error",
     "traceback": [
      "\u001b[1;31m---------------------------------------------------------------------------\u001b[0m",
      "\u001b[1;31mIndexError\u001b[0m                                Traceback (most recent call last)",
      "Input \u001b[1;32mIn [26]\u001b[0m, in \u001b[0;36m<cell line: 2>\u001b[1;34m()\u001b[0m\n\u001b[0;32m      1\u001b[0m l \u001b[38;5;241m=\u001b[39m [\u001b[38;5;241m4\u001b[39m,\u001b[38;5;241m5\u001b[39m,\u001b[38;5;241m6\u001b[39m,\u001b[38;5;241m7\u001b[39m,\u001b[38;5;241m8\u001b[39m,\u001b[38;5;241m9\u001b[39m,\u001b[38;5;241m9\u001b[39m]\n\u001b[0;32m      2\u001b[0m \u001b[38;5;28;01mfor\u001b[39;00m i \u001b[38;5;129;01min\u001b[39;00m \u001b[38;5;28mrange\u001b[39m(\u001b[38;5;28mlen\u001b[39m(l)\u001b[38;5;241m+\u001b[39m\u001b[38;5;241m1\u001b[39m):\n\u001b[1;32m----> 3\u001b[0m         \u001b[38;5;28mprint\u001b[39m(\u001b[43ml\u001b[49m\u001b[43m[\u001b[49m\u001b[43mi\u001b[49m\u001b[43m]\u001b[49m)\n",
      "\u001b[1;31mIndexError\u001b[0m: list index out of range"
     ]
    }
   ],
   "source": [
    "l = [4,5,6,7,8,9,9]\n",
    "for i in range(len(l)+1):\n",
    "        print(l[i])"
   ]
  },
  {
   "cell_type": "code",
   "execution_count": 27,
   "id": "84e357eb",
   "metadata": {},
   "outputs": [
    {
     "name": "stdout",
     "output_type": "stream",
     "text": [
      "4\n",
      "5\n",
      "6\n",
      "7\n",
      "8\n",
      "9\n",
      "9\n",
      "list index is out of range\n"
     ]
    }
   ],
   "source": [
    "l = [4,5,6,7,8,9,9]\n",
    "try:\n",
    "    for i in range(len(l)+1):\n",
    "        print(l[i])\n",
    "except:\n",
    "    print(\"list index is out of range\")"
   ]
  },
  {
   "cell_type": "code",
   "execution_count": 28,
   "id": "1ba4d6ff",
   "metadata": {},
   "outputs": [
    {
     "name": "stdout",
     "output_type": "stream",
     "text": [
      "hello world\n"
     ]
    }
   ],
   "source": [
    "try:\n",
    "    f=open('ratan.txt','r')\n",
    "    print(f.read())\n",
    "except:\n",
    "    print('some errror occured')"
   ]
  },
  {
   "cell_type": "code",
   "execution_count": null,
   "id": "a1316e8c",
   "metadata": {},
   "outputs": [],
   "source": []
  },
  {
   "cell_type": "code",
   "execution_count": null,
   "id": "edb9429a",
   "metadata": {},
   "outputs": [],
   "source": [
    "# exception"
   ]
  },
  {
   "cell_type": "code",
   "execution_count": null,
   "id": "b8e3f650",
   "metadata": {},
   "outputs": [],
   "source": []
  },
  {
   "cell_type": "code",
   "execution_count": 29,
   "id": "dcc2b524",
   "metadata": {},
   "outputs": [
    {
     "name": "stdout",
     "output_type": "stream",
     "text": [
      "hello world\n",
      "name 'm' is not defined\n"
     ]
    }
   ],
   "source": [
    "try:\n",
    "    f=open('ratan.txt','r')\n",
    "    print(f.read())\n",
    "    print(m)    # 'm' name se koi bhi varible nahi hai.  so that except block me gaya and error show hua\n",
    "except Exception as e:\n",
    "    print(e)\n",
    "    \n",
    "    \n",
    "    "
   ]
  },
  {
   "cell_type": "code",
   "execution_count": null,
   "id": "5fc1339c",
   "metadata": {},
   "outputs": [],
   "source": []
  },
  {
   "cell_type": "code",
   "execution_count": 31,
   "id": "4fed8d40",
   "metadata": {},
   "outputs": [
    {
     "name": "stdout",
     "output_type": "stream",
     "text": [
      "[Errno 2] No such file or directory: 'ratan2.txt'\n"
     ]
    }
   ],
   "source": [
    "try:\n",
    "    f=open('ratan2.txt','r')\n",
    "    print(f.read())\n",
    "    print(m)    # 'm' name se koi bhi varible nahi hai.  so that except block me gaya and error show hua\n",
    "except Exception as e:\n",
    "    print(e)\n",
    "    "
   ]
  },
  {
   "cell_type": "code",
   "execution_count": null,
   "id": "7171471b",
   "metadata": {},
   "outputs": [],
   "source": []
  },
  {
   "cell_type": "code",
   "execution_count": 32,
   "id": "d42de48a",
   "metadata": {},
   "outputs": [
    {
     "name": "stdout",
     "output_type": "stream",
     "text": [
      "4\n",
      "5\n",
      "6\n",
      "7\n",
      "8\n",
      "9\n",
      "9\n",
      "list index out of range\n",
      "this si not working\n"
     ]
    }
   ],
   "source": [
    "l = [4,5,6,7,8,9,9]\n",
    "try:\n",
    "    for i in range(len(l)+1):\n",
    "        print(l[i])\n",
    "except Exception as e:\n",
    "    print(e)\n",
    "    print(\"this si not working\")"
   ]
  },
  {
   "cell_type": "code",
   "execution_count": null,
   "id": "d3aec622",
   "metadata": {},
   "outputs": [],
   "source": []
  },
  {
   "cell_type": "code",
   "execution_count": null,
   "id": "0d31e626",
   "metadata": {},
   "outputs": [],
   "source": [
    "# if we already know that which kind of error can be occur then we handle the error acc. to this\n",
    "\n",
    "# here we are using the single single error by ownself"
   ]
  },
  {
   "cell_type": "code",
   "execution_count": null,
   "id": "c0675433",
   "metadata": {},
   "outputs": [],
   "source": []
  },
  {
   "cell_type": "code",
   "execution_count": 36,
   "id": "d482cc97",
   "metadata": {},
   "outputs": [
    {
     "name": "stdout",
     "output_type": "stream",
     "text": [
      "enter a value of a: fds\n",
      "entered value is wrong\n"
     ]
    }
   ],
   "source": [
    "try:\n",
    "    a=int(input(\"enter a value of a: \"))\n",
    "    b=int(input(\"enter a value of b: \"))\n",
    "    c=a/b\n",
    "    print(\"answer :\" ,c)\n",
    "except ValueError:\n",
    "    print(\"entered value is wrong\")\n",
    "except ZeroDivisionError:\n",
    "    print(\"cant divide by zero\")"
   ]
  },
  {
   "cell_type": "code",
   "execution_count": null,
   "id": "ce5957de",
   "metadata": {},
   "outputs": [],
   "source": []
  },
  {
   "cell_type": "code",
   "execution_count": 37,
   "id": "022fb056",
   "metadata": {},
   "outputs": [
    {
     "name": "stdout",
     "output_type": "stream",
     "text": [
      "file not found\n"
     ]
    }
   ],
   "source": [
    "try:\n",
    "    f=open('ratan2.txt','r')\n",
    "    print(f.read())\n",
    "    print(g)  \n",
    "\n",
    "except FileNotFoundError :\n",
    "    print('file not found')\n",
    "    \n",
    "except NameError:\n",
    "    print('variable not found')\n",
    "    \n",
    "except Exception as e:\n",
    "    print(e.with_traceback)\n",
    "    \n",
    "    "
   ]
  },
  {
   "cell_type": "code",
   "execution_count": null,
   "id": "b97d0adc",
   "metadata": {},
   "outputs": [],
   "source": [
    "# write riksy peice of code in try \n",
    "\n",
    "# error with name is in except block\n",
    "\n",
    "# for general error there should be a exception block"
   ]
  },
  {
   "cell_type": "code",
   "execution_count": null,
   "id": "92a085ca",
   "metadata": {},
   "outputs": [],
   "source": []
  },
  {
   "cell_type": "code",
   "execution_count": null,
   "id": "ac5173e8",
   "metadata": {},
   "outputs": [],
   "source": []
  },
  {
   "cell_type": "markdown",
   "id": "cf13aa65",
   "metadata": {},
   "source": [
    "# try - except -else"
   ]
  },
  {
   "cell_type": "code",
   "execution_count": null,
   "id": "b5e1b142",
   "metadata": {},
   "outputs": [],
   "source": [
    "try:\n",
    "    # block of code\n",
    "except Exception:\n",
    "    #block of code\n",
    "else:\n",
    "    # this code execute when exception not occured\n",
    "    \n",
    "    \n",
    "# ELSE WILL EXECUTE ONLY WHEN  EXCEPTION IS NOT RASIED\n",
    "# IF ANY ISSUE AND EXECUTE EXCEPTION  THEN ELSE WILL NOT EXECUTE"
   ]
  },
  {
   "cell_type": "code",
   "execution_count": null,
   "id": "475b1b74",
   "metadata": {},
   "outputs": [],
   "source": []
  },
  {
   "cell_type": "code",
   "execution_count": 42,
   "id": "14275b9e",
   "metadata": {},
   "outputs": [
    {
     "name": "stdout",
     "output_type": "stream",
     "text": [
      "enter a number: 4\n",
      "0.25\n"
     ]
    }
   ],
   "source": [
    "try:\n",
    "    num=int(input(\"enter a number: \"))\n",
    "    assert num % 2 ==0\n",
    "except:\n",
    "    print(\"not a even number\")\n",
    "else:\n",
    "    reciprocal=1/num\n",
    "    print(reciprocal)\n",
    "    "
   ]
  },
  {
   "cell_type": "code",
   "execution_count": null,
   "id": "30d7018e",
   "metadata": {},
   "outputs": [],
   "source": []
  },
  {
   "cell_type": "code",
   "execution_count": 41,
   "id": "adfa1f54",
   "metadata": {},
   "outputs": [
    {
     "ename": "SyntaxError",
     "evalue": "default 'except:' must be last (3129402639.py, line 3)",
     "output_type": "error",
     "traceback": [
      "\u001b[1;36m  Input \u001b[1;32mIn [41]\u001b[1;36m\u001b[0m\n\u001b[1;33m    assert num % 2 ==0\u001b[0m\n\u001b[1;37m    ^\u001b[0m\n\u001b[1;31mSyntaxError\u001b[0m\u001b[1;31m:\u001b[0m default 'except:' must be last\n"
     ]
    }
   ],
   "source": [
    "try:\n",
    "    num=int(input(\"enter a number: \"))\n",
    "    assert num % 2 ==0\n",
    "except:\n",
    "    print(\"not a even number\")\n",
    "except ZeroDivisionError:\n",
    "    print('division by zero error')\n",
    "else:\n",
    "    reciprocal=1/num\n",
    "    print(reciprocal)\n",
    "    \n",
    "    \n",
    "# read about assert keyword\n",
    "    "
   ]
  },
  {
   "cell_type": "code",
   "execution_count": 44,
   "id": "d2f04685",
   "metadata": {},
   "outputs": [
    {
     "name": "stdout",
     "output_type": "stream",
     "text": [
      "enter value of a:5\n",
      "enter value of b:2\n",
      "answer 2.5\n",
      "else block\n"
     ]
    }
   ],
   "source": [
    "try:\n",
    "    a=int(input(\"enter value of a:\"))\n",
    "    b=int(input(\"enter value of b:\"))\n",
    "    c=a/b\n",
    "    print(\"answer\",c)\n",
    "except ZeroDivisionError:\n",
    "    print(\"cannt divide by zero\")\n",
    "else:\n",
    "    print(\"else block\")\n",
    "    "
   ]
  },
  {
   "cell_type": "code",
   "execution_count": null,
   "id": "d0dcb996",
   "metadata": {},
   "outputs": [],
   "source": []
  },
  {
   "cell_type": "code",
   "execution_count": null,
   "id": "2b906ece",
   "metadata": {},
   "outputs": [],
   "source": [
    "# finally\n",
    "\n",
    "## try -except - finally\n",
    "\n",
    "this code FINALLY will always run always \n",
    "\n",
    "FINALLY WILL EXECUTE ALWAYS"
   ]
  },
  {
   "cell_type": "code",
   "execution_count": null,
   "id": "1673fb6d",
   "metadata": {},
   "outputs": [],
   "source": []
  },
  {
   "cell_type": "code",
   "execution_count": 46,
   "id": "b6f22b80",
   "metadata": {},
   "outputs": [
    {
     "name": "stdout",
     "output_type": "stream",
     "text": [
      "enter value of a:4\n",
      "enter value of b:0\n",
      "cannt divide by zero\n",
      "from finally block block\n"
     ]
    }
   ],
   "source": [
    "try:\n",
    "    a=int(input(\"enter value of a:\"))\n",
    "    b=int(input(\"enter value of b:\"))\n",
    "    c=a/b\n",
    "    print(\"answer\",c)\n",
    "except ZeroDivisionError:\n",
    "    print(\"cannt divide by zero\")\n",
    "finally:\n",
    "    print(\"from finally block block\")"
   ]
  },
  {
   "cell_type": "code",
   "execution_count": null,
   "id": "c5e15c02",
   "metadata": {},
   "outputs": [],
   "source": []
  },
  {
   "cell_type": "code",
   "execution_count": 49,
   "id": "6efa1dde",
   "metadata": {},
   "outputs": [
    {
     "name": "stdout",
     "output_type": "stream",
     "text": [
      "hello world\n",
      "this will print in any case\n"
     ]
    }
   ],
   "source": [
    "try:\n",
    "  f = open('ratan.txt','r')\n",
    "except FileNotFoundError:\n",
    "  print('file not found')\n",
    "except Exception as e:\n",
    "  print(e)\n",
    "else:\n",
    "  print(f.read())\n",
    "finally:\n",
    "  print('this will print in any case')"
   ]
  },
  {
   "cell_type": "code",
   "execution_count": null,
   "id": "50e7a7f4",
   "metadata": {},
   "outputs": [],
   "source": []
  },
  {
   "cell_type": "markdown",
   "id": "2632f435",
   "metadata": {},
   "source": [
    "- TRY -  if code is error free then it is execute\n",
    "- EXCEPT -  if error in code this will display the error\n",
    "- ELSE -  if there is not error in code in try block  then the else code execute\n",
    "- FINALLY - EXECUTE INDEPENDENTLY OF TRY/EXPECT BLOCK. finally will always execute\n",
    "\n",
    "\n",
    "- only one will be executed in case of exception occur\n",
    "ex -  if will add many error in except block.  for zero value, logical error etc\n",
    "- out of all of the error in except block  during the execution only one exception error will show"
   ]
  },
  {
   "cell_type": "code",
   "execution_count": null,
   "id": "d83e4129",
   "metadata": {},
   "outputs": [],
   "source": []
  },
  {
   "cell_type": "markdown",
   "id": "99516a03",
   "metadata": {},
   "source": [
    "# RAISE\n",
    "\n",
    "- kisi bhi point pe we can through an error\n",
    "\n",
    "\n",
    " - code likhte time ,  hm kisi bhi time koi sa bhi error through kr skte hai\n",
    "\n",
    " - benefit:\n",
    "    - Python raise Keyword is used to raise exceptions or errors. The raise keyword raises an error and stops the control flow of the program."
   ]
  },
  {
   "cell_type": "code",
   "execution_count": null,
   "id": "96231fb9",
   "metadata": {},
   "outputs": [],
   "source": []
  },
  {
   "cell_type": "code",
   "execution_count": null,
   "id": "afae279d",
   "metadata": {},
   "outputs": [],
   "source": [
    "# raise Exception\n",
    "# In Python programming, exceptions are raised when errors occur at runtime. \n",
    "# We can also manually raise exceptions using the raise keyword.\n",
    "\n",
    "# We can optionally pass values to the exception to clarify why that exception was raised"
   ]
  },
  {
   "cell_type": "code",
   "execution_count": null,
   "id": "4dd824cb",
   "metadata": {},
   "outputs": [],
   "source": []
  },
  {
   "cell_type": "markdown",
   "id": "91574f72",
   "metadata": {},
   "source": [
    "Advantages of the raise keyword:\n",
    "It helps us raise exceptions when we may run into situations where execution can’t proceed.\n",
    "It helps us reraise an exception that is caught.\n",
    "Raise allows us to throw one exception at any time.\n",
    "It is useful when we want to work with input validations."
   ]
  },
  {
   "cell_type": "code",
   "execution_count": null,
   "id": "91b71d2f",
   "metadata": {},
   "outputs": [],
   "source": []
  },
  {
   "cell_type": "code",
   "execution_count": 53,
   "id": "e15b8d31",
   "metadata": {},
   "outputs": [
    {
     "name": "stdout",
     "output_type": "stream",
     "text": [
      "value error\n"
     ]
    }
   ],
   "source": [
    "\n",
    "s = 'apple'\n",
    "  \n",
    "try:\n",
    "    num = int(s)\n",
    "except ValueError:\n",
    "    print('value error')\n",
    "    #raise ValueError(\"String can't be changed into integer\")"
   ]
  },
  {
   "cell_type": "code",
   "execution_count": null,
   "id": "70e79c16",
   "metadata": {},
   "outputs": [],
   "source": []
  },
  {
   "cell_type": "code",
   "execution_count": null,
   "id": "5ef1c7a5",
   "metadata": {},
   "outputs": [],
   "source": []
  },
  {
   "cell_type": "code",
   "execution_count": 52,
   "id": "ecb88d90",
   "metadata": {},
   "outputs": [
    {
     "name": "stdout",
     "output_type": "stream",
     "text": [
      "amount cannot be -ve\n"
     ]
    }
   ],
   "source": [
    "class Bank:\n",
    "\n",
    "  def __init__(self,balance):\n",
    "    self.balance = balance\n",
    "\n",
    "  def withdraw(self,amount):\n",
    "    if amount < 0:\n",
    "      raise Exception('amount cannot be -ve')\n",
    "    if self.balance < amount:\n",
    "      raise Exception('paise nai hai tere paas')\n",
    "    self.balance = self.balance - amount\n",
    "\n",
    "obj = Bank(10000)\n",
    "try:\n",
    "  obj.withdraw(-5000)\n",
    "except Exception as e:\n",
    "  print(e)\n",
    "else:\n",
    "  print(obj.balance)"
   ]
  },
  {
   "cell_type": "code",
   "execution_count": null,
   "id": "0eb9c1d8",
   "metadata": {},
   "outputs": [],
   "source": []
  },
  {
   "cell_type": "code",
   "execution_count": null,
   "id": "77fc27f2",
   "metadata": {},
   "outputs": [],
   "source": [
    "class MyException(Exception):\n",
    "  def __init__(self,message):\n",
    "    print(message)\n",
    "\n",
    "class Bank:\n",
    "\n",
    "  def __init__(self,balance):\n",
    "    self.balance = balance\n",
    "\n",
    "  def withdraw(self,amount):\n",
    "    if amount < 0:\n",
    "      raise MyException('amount cannot be -ve')\n",
    "    if self.balance < amount:\n",
    "      raise MyException('paise nai hai tere paas')\n",
    "    self.balance = self.balance - amount\n",
    "\n",
    "obj = Bank(10000)\n",
    "try:\n",
    "  obj.withdraw(15000)\n",
    "except MyException as e:\n",
    "  pass\n",
    "else:\n",
    "  print(obj.balance)"
   ]
  },
  {
   "cell_type": "code",
   "execution_count": null,
   "id": "07b98be6",
   "metadata": {},
   "outputs": [],
   "source": []
  },
  {
   "cell_type": "code",
   "execution_count": null,
   "id": "f72ab54d",
   "metadata": {},
   "outputs": [],
   "source": []
  },
  {
   "cell_type": "code",
   "execution_count": null,
   "id": "39afe886",
   "metadata": {},
   "outputs": [],
   "source": [
    "class SecurityError(Exception):\n",
    "\n",
    "  def __init__(self,message):\n",
    "    print(message)\n",
    "\n",
    "  def logout(self):\n",
    "    print('logout')\n",
    "\n",
    "class google:\n",
    "    \n",
    "    def __init__(self,name,email,password,device):\n",
    "        self.name=name\n",
    "        self.email=email\n",
    "        self.password=password\n",
    "        self.device=device\n",
    "    \n",
    "    def login(self,email,password,device):\n",
    "        if device != self.device:\n",
    "            raise SecurityError('bhai teri to lag gayi')\n",
    "        if email == self.email and password == self.password:\n",
    "            print('welcome')\n",
    "        else:\n",
    "            print('login error')\n",
    "        \n",
    "    \n",
    "    \n",
    "obj=google('ratan','imratankj@gmail.com','1234','android')\n",
    "\n",
    "try:\n",
    "    obj.login('imratankj@gmail.com','1234','windows')\n",
    "    \n",
    "except SecurityError as e:\n",
    "    e.logout()\n",
    "    \n",
    "else:\n",
    "    print(obj.name)\n",
    "\n",
    "\n",
    "\n",
    "finally:\n",
    "  print('database connection closed')\n"
   ]
  },
  {
   "cell_type": "code",
   "execution_count": null,
   "id": "d0bf6d05",
   "metadata": {},
   "outputs": [],
   "source": []
  },
  {
   "cell_type": "code",
   "execution_count": null,
   "id": "be5b3be8",
   "metadata": {},
   "outputs": [],
   "source": []
  },
  {
   "cell_type": "code",
   "execution_count": null,
   "id": "0e668d6a",
   "metadata": {},
   "outputs": [],
   "source": []
  },
  {
   "cell_type": "code",
   "execution_count": null,
   "id": "67af9ba3",
   "metadata": {},
   "outputs": [],
   "source": []
  }
 ],
 "metadata": {
  "kernelspec": {
   "display_name": "Python 3 (ipykernel)",
   "language": "python",
   "name": "python3"
  },
  "language_info": {
   "codemirror_mode": {
    "name": "ipython",
    "version": 3
   },
   "file_extension": ".py",
   "mimetype": "text/x-python",
   "name": "python",
   "nbconvert_exporter": "python",
   "pygments_lexer": "ipython3",
   "version": "3.9.12"
  }
 },
 "nbformat": 4,
 "nbformat_minor": 5
}
