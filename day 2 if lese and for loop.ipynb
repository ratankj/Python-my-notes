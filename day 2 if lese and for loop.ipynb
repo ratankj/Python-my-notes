{
 "cells": [
  {
   "cell_type": "code",
   "execution_count": null,
   "id": "c2f6070a",
   "metadata": {},
   "outputs": [],
   "source": []
  },
  {
   "cell_type": "markdown",
   "id": "e7e38d44",
   "metadata": {},
   "source": [
    "# if - else & for loop"
   ]
  },
  {
   "cell_type": "code",
   "execution_count": null,
   "id": "9b3fa217",
   "metadata": {},
   "outputs": [],
   "source": []
  },
  {
   "cell_type": "markdown",
   "id": "d80c6e36",
   "metadata": {},
   "source": [
    "## Loops\n",
    "1. While loop\n",
    "2. For loop\n",
    "3. Loop control\n",
    "  - break\n",
    "  - continue\n",
    "  - pass\n",
    "4. Nested loop"
   ]
  },
  {
   "cell_type": "code",
   "execution_count": 21,
   "id": "ebd88ac4",
   "metadata": {},
   "outputs": [
    {
     "name": "stdout",
     "output_type": "stream",
     "text": [
      "0\n",
      "1\n",
      "2\n",
      "3\n",
      "4\n",
      "5\n",
      "6\n",
      "7\n",
      "8\n",
      "9\n"
     ]
    }
   ],
   "source": [
    "for i in range(0,10):\n",
    "    print(i)"
   ]
  },
  {
   "cell_type": "markdown",
   "id": "c8de859c",
   "metadata": {},
   "source": [
    "A for loop is used for iterating over a sequence (that is either a list, a tuple, a dictionary, a set, or a string).\n",
    "and also use in range"
   ]
  },
  {
   "cell_type": "code",
   "execution_count": null,
   "id": "4e5acf65",
   "metadata": {},
   "outputs": [],
   "source": []
  },
  {
   "cell_type": "code",
   "execution_count": 48,
   "id": "1861764a",
   "metadata": {},
   "outputs": [
    {
     "name": "stdout",
     "output_type": "stream",
     "text": [
      "12\n",
      "75\n",
      "150\n",
      "180\n",
      "145\n",
      "525\n",
      "50\n"
     ]
    }
   ],
   "source": [
    "numbers = [12, 75, 150, 180, 145, 525, 50]\n",
    "for i in numbers:\n",
    "    print(i)"
   ]
  },
  {
   "cell_type": "code",
   "execution_count": null,
   "id": "3f7752f5",
   "metadata": {},
   "outputs": [],
   "source": []
  },
  {
   "cell_type": "code",
   "execution_count": 33,
   "id": "c252d28f",
   "metadata": {},
   "outputs": [
    {
     "name": "stdout",
     "output_type": "stream",
     "text": [
      "0\n",
      "1\n",
      "2\n",
      "3\n",
      "4\n",
      "5\n",
      "6\n",
      "7\n",
      "8\n",
      "9\n"
     ]
    }
   ],
   "source": [
    "for i in range(0, 10):\n",
    "  print(i)"
   ]
  },
  {
   "cell_type": "code",
   "execution_count": 34,
   "id": "f9b4bf7e",
   "metadata": {},
   "outputs": [
    {
     "name": "stdout",
     "output_type": "stream",
     "text": [
      "2\n",
      "4\n",
      "6\n",
      "8\n",
      "10\n",
      "12\n",
      "14\n",
      "16\n",
      "18\n",
      "20\n"
     ]
    }
   ],
   "source": [
    "for i in range(1,11):\n",
    "    print(i*2)"
   ]
  },
  {
   "cell_type": "code",
   "execution_count": 38,
   "id": "37854c31",
   "metadata": {},
   "outputs": [
    {
     "name": "stdout",
     "output_type": "stream",
     "text": [
      "10 X 1 = 10\n",
      "10 X 2 = 20\n",
      "10 X 3 = 30\n",
      "10 X 4 = 40\n",
      "10 X 5 = 50\n",
      "10 X 6 = 60\n",
      "10 X 7 = 70\n",
      "10 X 8 = 80\n",
      "10 X 9 = 90\n",
      "10 X 10 = 100\n"
     ]
    }
   ],
   "source": [
    "for i in range(1, 11):\n",
    "    print(f\"10 X {i} = {10*i}\")\n"
   ]
  },
  {
   "cell_type": "code",
   "execution_count": null,
   "id": "1fd2b8e9",
   "metadata": {},
   "outputs": [],
   "source": []
  },
  {
   "cell_type": "code",
   "execution_count": null,
   "id": "2016f25b",
   "metadata": {},
   "outputs": [],
   "source": []
  },
  {
   "cell_type": "markdown",
   "id": "b123443a",
   "metadata": {},
   "source": [
    "Q1. Find the largest number from the given list, use for loop.\n",
    "\n",
    "numbers = [12, 75, 150, 180, 145, 525, 50]"
   ]
  },
  {
   "cell_type": "code",
   "execution_count": 29,
   "id": "1fcfd268",
   "metadata": {},
   "outputs": [
    {
     "name": "stdout",
     "output_type": "stream",
     "text": [
      "525\n"
     ]
    }
   ],
   "source": [
    "n = [12, 75, 150, 180, 145, 525, 50]\n",
    "\n",
    "lar = n[0]\n",
    "for i in n:\n",
    "    if i > lar:\n",
    "        lar = i\n",
    "        \n",
    "print(lar)\n",
    "        \n",
    "\n",
    "    \n"
   ]
  },
  {
   "cell_type": "code",
   "execution_count": null,
   "id": "03eb48c5",
   "metadata": {},
   "outputs": [],
   "source": [
    "Q2. Print all the even number between (1, 12)."
   ]
  },
  {
   "cell_type": "code",
   "execution_count": 22,
   "id": "8634f9b3",
   "metadata": {},
   "outputs": [
    {
     "name": "stdout",
     "output_type": "stream",
     "text": [
      "2\n",
      "4\n",
      "6\n",
      "8\n",
      "10\n",
      "12\n"
     ]
    }
   ],
   "source": [
    "for i in range(1,13):\n",
    "    if i%2==0:\n",
    "        print(i)"
   ]
  },
  {
   "cell_type": "code",
   "execution_count": null,
   "id": "e4316349",
   "metadata": {},
   "outputs": [],
   "source": []
  },
  {
   "cell_type": "code",
   "execution_count": 23,
   "id": "48377325",
   "metadata": {},
   "outputs": [
    {
     "name": "stdout",
     "output_type": "stream",
     "text": [
      "enter a no. for factorial5\n",
      "1\n",
      "2\n",
      "6\n",
      "24\n",
      "120\n",
      "factorial is120\n"
     ]
    }
   ],
   "source": [
    "a= int(input('enter a no. for factorial'))\n",
    "fact=1\n",
    "for  i in range(1,a+1):\n",
    "    fact=fact*i\n",
    "    print(fact)\n",
    "print(f'factorial is{fact}')"
   ]
  },
  {
   "cell_type": "code",
   "execution_count": 25,
   "id": "47ac24a8",
   "metadata": {},
   "outputs": [
    {
     "name": "stdout",
     "output_type": "stream",
     "text": [
      "enter a no5\n",
      "0 1 1 2 3 5 8 "
     ]
    }
   ],
   "source": [
    "a= int(input('enter a no'))\n",
    "b=0\n",
    "c=1\n",
    "print(b, end =' ')\n",
    "print(c, end= ' ')\n",
    "    \n",
    "for i in range(a):\n",
    "    d=b+c\n",
    "    b=c\n",
    "    c=d\n",
    "    print(d,end=' ')"
   ]
  },
  {
   "cell_type": "code",
   "execution_count": null,
   "id": "5174a625",
   "metadata": {},
   "outputs": [],
   "source": []
  },
  {
   "cell_type": "code",
   "execution_count": 31,
   "id": "d95e02e2",
   "metadata": {},
   "outputs": [
    {
     "name": "stdout",
     "output_type": "stream",
     "text": [
      "1\n",
      "2\n",
      "3\n",
      "4\n",
      "5\n",
      "6\n",
      "7\n",
      "8\n",
      "9\n",
      "10\n",
      "11\n",
      "11\n"
     ]
    }
   ],
   "source": [
    "a= 'datascience'\n",
    "count=0\n",
    "for i in a:\n",
    "    \n",
    "    count=count + 1\n",
    "    print(count)\n",
    "   \n",
    "print(count)\n"
   ]
  },
  {
   "cell_type": "code",
   "execution_count": null,
   "id": "1aff2fc0",
   "metadata": {},
   "outputs": [],
   "source": []
  },
  {
   "cell_type": "code",
   "execution_count": null,
   "id": "7cf0da67",
   "metadata": {},
   "outputs": [],
   "source": []
  },
  {
   "cell_type": "code",
   "execution_count": null,
   "id": "d5790fe4",
   "metadata": {},
   "outputs": [],
   "source": [
    "Q3. Calculate the sum of all numbers from 1 to a given number\n",
    "\n",
    "Expected Output:\n",
    "\n",
    "Enter number 10\n",
    "\n",
    "Sum is:  55"
   ]
  },
  {
   "cell_type": "code",
   "execution_count": 32,
   "id": "5ff4a818",
   "metadata": {},
   "outputs": [
    {
     "name": "stdout",
     "output_type": "stream",
     "text": [
      "enter a num5\n",
      "15\n"
     ]
    }
   ],
   "source": [
    "a= int(input('enter a num'))\n",
    "sum=0\n",
    "for i in range(a+1):\n",
    "    sum=sum+i\n",
    "print(sum)\n",
    "\n",
    "1+2+3+4+5"
   ]
  },
  {
   "cell_type": "code",
   "execution_count": null,
   "id": "c9172eed",
   "metadata": {},
   "outputs": [],
   "source": [
    "Q4. Write a program to display only those numbers from a list that satisfy the following conditions\n",
    "\n",
    "The number must be divisible by five\n",
    "\n",
    "If the number is greater than 150, then skip it and move to the next number\n",
    "\n",
    "If the number is greater than 500, then stop the loop"
   ]
  },
  {
   "cell_type": "code",
   "execution_count": 13,
   "id": "1178b7f6",
   "metadata": {},
   "outputs": [
    {
     "name": "stdout",
     "output_type": "stream",
     "text": [
      "no. is not divisible by 5\n",
      "75\n",
      "150\n",
      "145\n",
      "50\n"
     ]
    }
   ],
   "source": [
    "# Given:\n",
    "\n",
    "num = [12, 75, 150, 180, 145, 525, 50]\n",
    "for i in num:\n",
    "    if i%5==0:\n",
    "        if i > 150:\n",
    "            continue\n",
    "        elif i >500:\n",
    "            break\n",
    "        else:\n",
    "            print(i)\n",
    "    \n",
    "    else:\n",
    "        print('no. is not divisible by 5')"
   ]
  },
  {
   "cell_type": "code",
   "execution_count": null,
   "id": "7d53208a",
   "metadata": {},
   "outputs": [],
   "source": []
  },
  {
   "cell_type": "code",
   "execution_count": null,
   "id": "0041a1b4",
   "metadata": {},
   "outputs": [],
   "source": []
  },
  {
   "cell_type": "code",
   "execution_count": null,
   "id": "c84db0d0",
   "metadata": {},
   "outputs": [],
   "source": [
    "Q5. Print the given list in reverse order.\n",
    "\n",
    "list1 = [10, 20, 30, 40, 50]"
   ]
  },
  {
   "cell_type": "code",
   "execution_count": 30,
   "id": "1966ef59",
   "metadata": {},
   "outputs": [
    {
     "data": {
      "text/plain": [
       "[50, 40, 30, 20, 10]"
      ]
     },
     "execution_count": 30,
     "metadata": {},
     "output_type": "execute_result"
    }
   ],
   "source": [
    "list1 = [10, 20, 30, 40, 50]\n",
    "list1[::-1]"
   ]
  },
  {
   "cell_type": "code",
   "execution_count": null,
   "id": "30813e35",
   "metadata": {},
   "outputs": [],
   "source": []
  },
  {
   "cell_type": "markdown",
   "id": "e3a66ad3",
   "metadata": {},
   "source": [
    "## IndexError: list index out of range error for the following reasons:\n",
    "\n",
    " - Trying to access an index that doesn't exist in a list.\n",
    " - Using invalid indexes in your loops.\n",
    " - Specifying a range that exceeds the indexes in a list when using the range() function."
   ]
  },
  {
   "cell_type": "markdown",
   "id": "ea36d493",
   "metadata": {},
   "source": [
    "## Why the \"TypeError: 'int' object is not subscriptable Error\" Occurs\n",
    "\n",
    " - You can iterate over a string, list, tuple, or even dictionary. But it is not possible to iterate over an integer or set of numbers.\n",
    "\n",
    " - So, if you get this error, it means you’re trying to iterate over an integer or you’re treating an integer as an array."
   ]
  },
  {
   "cell_type": "code",
   "execution_count": null,
   "id": "8430a408",
   "metadata": {},
   "outputs": [],
   "source": []
  },
  {
   "cell_type": "markdown",
   "id": "ec421127",
   "metadata": {},
   "source": [
    "##  “TypeError: ‘list’ object cannot be interpreted as an integer” error\n",
    "\n",
    "Many built-in functions, like range(), expect integer values as an input. If you try to use a list as an input to a function that expects an integer."
   ]
  },
  {
   "cell_type": "markdown",
   "id": "cf297fdf",
   "metadata": {},
   "source": [
    "## SyntaxError \n",
    "\n",
    "occurs when the interpreter encounters invalid syntax in code"
   ]
  },
  {
   "cell_type": "code",
   "execution_count": null,
   "id": "65298b6c",
   "metadata": {},
   "outputs": [],
   "source": []
  },
  {
   "cell_type": "code",
   "execution_count": null,
   "id": "df53247c",
   "metadata": {},
   "outputs": [],
   "source": []
  },
  {
   "cell_type": "markdown",
   "id": "f7bc9a60",
   "metadata": {},
   "source": []
  },
  {
   "cell_type": "code",
   "execution_count": null,
   "id": "42f4035f",
   "metadata": {},
   "outputs": [],
   "source": []
  },
  {
   "cell_type": "code",
   "execution_count": null,
   "id": "1f79fc35",
   "metadata": {},
   "outputs": [],
   "source": []
  },
  {
   "cell_type": "markdown",
   "id": "0e811de9",
   "metadata": {},
   "source": [
    "Online Food orders - Zomato App, Swiggy, Uber Eats\n",
    "\n",
    "- if you order more than Rs.499\n",
    "  - discount = 20%\n",
    "- if you order more than Rs.999\n",
    "  - discount = 30%\n",
    "- if you order more than 1499\n",
    "  - discount = 40%"
   ]
  },
  {
   "cell_type": "code",
   "execution_count": null,
   "id": "c2e9d598",
   "metadata": {},
   "outputs": [],
   "source": []
  },
  {
   "cell_type": "code",
   "execution_count": null,
   "id": "105a645e",
   "metadata": {},
   "outputs": [],
   "source": []
  },
  {
   "cell_type": "markdown",
   "id": "9a7152cf",
   "metadata": {},
   "source": [
    "# print if the no is negative or positive"
   ]
  },
  {
   "cell_type": "code",
   "execution_count": null,
   "id": "e2e61363",
   "metadata": {},
   "outputs": [],
   "source": []
  },
  {
   "cell_type": "code",
   "execution_count": null,
   "id": "65871af2",
   "metadata": {},
   "outputs": [],
   "source": []
  },
  {
   "cell_type": "markdown",
   "id": "0d31bd7c",
   "metadata": {},
   "source": [
    "# write a program for bank "
   ]
  },
  {
   "cell_type": "code",
   "execution_count": null,
   "id": "9d250cbf",
   "metadata": {},
   "outputs": [],
   "source": [
    "# bank \n",
    "pin = 'password'\n",
    "balance = 10000\n",
    "\n",
    "menu = input(\"\"\"\n",
    "Hi! how can I help you.\n",
    "1. Enter 1 for pin change\n",
    "2. Enter 2 for balance check\n",
    "3. Enter 3 for withdrawl\n",
    "4. Enter 4 for exit\n",
    "\"\"\")\n",
    "\n",
    "if menu == '1':\n",
    "    current_pin= input('enter your current pin')\n",
    "    if current_pin == pin:\n",
    "        print('pin is match')\n",
    "        new_pin=input('enter a new pin')\n",
    "        new_pin = pin\n",
    "        print('pin has been changed')\n",
    "    else:\n",
    "        print('pin is not match so that u cant change your pin')\n",
    "\n",
    "elif menu == '2':\n",
    "    print('balance')\n",
    "\n",
    "elif menu == '3':\n",
    "    pass\n",
    "\n",
    "elif menu == '4':\n",
    "    print('exit from bank')"
   ]
  },
  {
   "cell_type": "code",
   "execution_count": null,
   "id": "716d4a69",
   "metadata": {},
   "outputs": [],
   "source": []
  },
  {
   "cell_type": "code",
   "execution_count": null,
   "id": "cd85271e",
   "metadata": {},
   "outputs": [],
   "source": []
  },
  {
   "cell_type": "code",
   "execution_count": 39,
   "id": "abc593be",
   "metadata": {},
   "outputs": [
    {
     "name": "stdout",
     "output_type": "stream",
     "text": [
      "*\n",
      "**\n",
      "***\n",
      "****\n",
      "*****\n",
      "******\n",
      "*******\n",
      "********\n",
      "*********\n",
      "**********\n"
     ]
    }
   ],
   "source": [
    "for i in range(1, 11):\n",
    "  print(\"*\"*i)"
   ]
  },
  {
   "cell_type": "code",
   "execution_count": null,
   "id": "74e0df57",
   "metadata": {},
   "outputs": [],
   "source": []
  },
  {
   "cell_type": "code",
   "execution_count": null,
   "id": "2c48a3ff",
   "metadata": {},
   "outputs": [],
   "source": []
  },
  {
   "cell_type": "code",
   "execution_count": null,
   "id": "204d266a",
   "metadata": {},
   "outputs": [],
   "source": []
  },
  {
   "cell_type": "code",
   "execution_count": null,
   "id": "b6d8c156",
   "metadata": {},
   "outputs": [],
   "source": [
    "# break\n",
    "\n",
    "# searching is an example of break"
   ]
  },
  {
   "cell_type": "code",
   "execution_count": 42,
   "id": "f5732d62",
   "metadata": {},
   "outputs": [
    {
     "name": "stdout",
     "output_type": "stream",
     "text": [
      "1\n",
      "2\n",
      "3\n",
      "4\n",
      "5\n",
      "6\n",
      "7\n",
      "8\n",
      "9\n",
      "10\n",
      "11\n"
     ]
    }
   ],
   "source": [
    "for i in range(1, 100):\n",
    "  print(i)\n",
    "  if i > 10:\n",
    "    break"
   ]
  },
  {
   "cell_type": "markdown",
   "id": "15b72004",
   "metadata": {},
   "source": [
    "### continue\n",
    "\n",
    "The continue keyword is used to end the current iteration in a for loop (or a while loop), and continues to the next iteration.\n",
    "\n",
    "continue is used for skip \n",
    "ex.. in e-commerce if any product is not available"
   ]
  },
  {
   "cell_type": "code",
   "execution_count": 46,
   "id": "4dc42cf1",
   "metadata": {},
   "outputs": [
    {
     "name": "stdout",
     "output_type": "stream",
     "text": [
      "G\n",
      "k\n",
      "s\n",
      "f\n",
      "o\n",
      "r\n",
      "g\n",
      "k\n",
      "s\n"
     ]
    }
   ],
   "source": [
    "for var in \"Geeksforgeeks\":\n",
    "    if var == \"e\":\n",
    "        continue\n",
    "    print(var)"
   ]
  },
  {
   "cell_type": "code",
   "execution_count": 47,
   "id": "8d6c010d",
   "metadata": {},
   "outputs": [
    {
     "name": "stdout",
     "output_type": "stream",
     "text": [
      "G\n"
     ]
    }
   ],
   "source": [
    "for var in \"Geeksforgeeks\":\n",
    "    if var == \"e\":\n",
    "        break\n",
    "    print(var)"
   ]
  },
  {
   "cell_type": "code",
   "execution_count": 44,
   "id": "0dc3cebf",
   "metadata": {},
   "outputs": [
    {
     "name": "stdout",
     "output_type": "stream",
     "text": [
      "1\n",
      "3\n",
      "5\n",
      "7\n",
      "9\n",
      "11\n",
      "13\n",
      "15\n",
      "17\n",
      "19\n"
     ]
    }
   ],
   "source": [
    "for i in range(1, 20):\n",
    "  if i%2==0: # if no is even then start the loop again\n",
    "    continue\n",
    "  print(i)"
   ]
  },
  {
   "cell_type": "code",
   "execution_count": null,
   "id": "580ca187",
   "metadata": {},
   "outputs": [],
   "source": []
  },
  {
   "cell_type": "code",
   "execution_count": null,
   "id": "7db6c49e",
   "metadata": {},
   "outputs": [],
   "source": [
    "## nested if - else"
   ]
  },
  {
   "cell_type": "code",
   "execution_count": null,
   "id": "5f24cc2c",
   "metadata": {},
   "outputs": [],
   "source": [
    "a, b, c = 120, 13, 15\n",
    "\n",
    "if a > b:\n",
    "  if a > c:\n",
    "    print(f\"a is greater than all 3 nos: {a}\")"
   ]
  },
  {
   "cell_type": "code",
   "execution_count": null,
   "id": "85f59375",
   "metadata": {},
   "outputs": [],
   "source": []
  },
  {
   "cell_type": "markdown",
   "id": "433b89f4",
   "metadata": {},
   "source": [
    "# nested for loop"
   ]
  },
  {
   "cell_type": "code",
   "execution_count": null,
   "id": "4811e7fd",
   "metadata": {},
   "outputs": [],
   "source": [
    "\n",
    "\n"
   ]
  },
  {
   "cell_type": "code",
   "execution_count": 68,
   "id": "df81f07e",
   "metadata": {},
   "outputs": [
    {
     "name": "stdout",
     "output_type": "stream",
     "text": [
      "0\n",
      "0\n",
      "2\n",
      "0\n",
      "3\n",
      "6\n"
     ]
    }
   ],
   "source": [
    "a= 4\n",
    "for i in range(a):\n",
    "    for j in range(i):\n",
    "        #print(\"i = \" + str(i) + \", j = \" + str(j))\n",
    "        print(i*j)"
   ]
  },
  {
   "cell_type": "code",
   "execution_count": 69,
   "id": "6d7cdf34",
   "metadata": {},
   "outputs": [
    {
     "name": "stdout",
     "output_type": "stream",
     "text": [
      "\n",
      "1\n",
      "22\n",
      "333\n"
     ]
    }
   ],
   "source": [
    "a= 4\n",
    "for i in range(a):\n",
    "    #print(i)\n",
    "    for j in str(i):\n",
    "        #print(j)\n",
    "        print(j*i)"
   ]
  },
  {
   "cell_type": "code",
   "execution_count": null,
   "id": "d3ede0c9",
   "metadata": {},
   "outputs": [],
   "source": []
  },
  {
   "cell_type": "markdown",
   "id": "c6fab803",
   "metadata": {},
   "source": [
    "###  Write a program that will give you in hand monthly salary after deduction on CTC - HRA(10%), DA(5%), PF(3%) and taxes deduction as below:\n",
    "\n",
    "> Salary(Lakhs) : Tax(%)\n",
    "\n",
    "*   Below 5 : 0%\n",
    "*   5-10 : 10%\n",
    "*   10-20 : 20%\n",
    "*   aboove 20 : 30%"
   ]
  },
  {
   "cell_type": "code",
   "execution_count": null,
   "id": "c37f9b2d",
   "metadata": {},
   "outputs": [],
   "source": []
  },
  {
   "cell_type": "code",
   "execution_count": null,
   "id": "dec94a56",
   "metadata": {},
   "outputs": [],
   "source": []
  },
  {
   "cell_type": "markdown",
   "id": "ed19c05b",
   "metadata": {},
   "source": [
    "### Write a program that take a user input of three angles and will find out whether it can form a triangle or not."
   ]
  },
  {
   "cell_type": "code",
   "execution_count": null,
   "id": "9f5d4f17",
   "metadata": {},
   "outputs": [],
   "source": []
  },
  {
   "cell_type": "markdown",
   "id": "d9d38fb5",
   "metadata": {},
   "source": [
    "### - Exercise 12: Display Fibonacci series up to 10 terms.\n",
    "\n",
    "*Note: The Fibonacci Sequence is a series of numbers. The next number is found by adding up the two numbers before it. The first two numbers are 0 and 1. For example, 0, 1, 1, 2, 3, 5, 8, 13, 21. The next number in this series above is 13+21 = 34*"
   ]
  },
  {
   "cell_type": "code",
   "execution_count": 19,
   "id": "f1a8d125",
   "metadata": {},
   "outputs": [
    {
     "name": "stdout",
     "output_type": "stream",
     "text": [
      "enter a no5\n",
      "0 1 1 2 3 5 8 "
     ]
    }
   ],
   "source": [
    "b=0\n",
    "c=1\n",
    "a=int(input('enter a no'))\n",
    "print(b,end=' ')\n",
    "print(c,end=' ')\n",
    "for i in range(a):\n",
    "    d=b+c\n",
    "    print(d,end=' ')\n",
    "    b=c\n",
    "    c=d\n",
    "    \n",
    "    "
   ]
  },
  {
   "cell_type": "code",
   "execution_count": null,
   "id": "031e0a8e",
   "metadata": {},
   "outputs": [],
   "source": []
  },
  {
   "cell_type": "code",
   "execution_count": null,
   "id": "800aad20",
   "metadata": {},
   "outputs": [],
   "source": []
  },
  {
   "cell_type": "markdown",
   "id": "416b9fc5",
   "metadata": {},
   "source": [
    "# find the factorial"
   ]
  },
  {
   "cell_type": "code",
   "execution_count": null,
   "id": "3bee74a8",
   "metadata": {},
   "outputs": [],
   "source": []
  },
  {
   "cell_type": "code",
   "execution_count": null,
   "id": "8a405d2f",
   "metadata": {},
   "outputs": [],
   "source": []
  },
  {
   "cell_type": "markdown",
   "id": "4e86317d",
   "metadata": {},
   "source": [
    "### `Problem 7` - Reverse a given integer number.\n",
    "\n",
    "Example:\n",
    "\n",
    "`Input:`\n",
    "\n",
    "```bash\n",
    "76542\n",
    "```\n",
    "\n",
    "`Output:`\n",
    "\n",
    "```bash\n",
    "24567\n",
    "```"
   ]
  },
  {
   "cell_type": "code",
   "execution_count": 6,
   "id": "3e129b20",
   "metadata": {},
   "outputs": [
    {
     "name": "stdout",
     "output_type": "stream",
     "text": [
      "digit is 2\n",
      "the reversed_num is 2\n",
      "7654\n",
      "digit is 4\n",
      "the reversed_num is 24\n",
      "765\n",
      "digit is 5\n",
      "the reversed_num is 245\n",
      "76\n",
      "digit is 6\n",
      "the reversed_num is 2456\n",
      "7\n",
      "digit is 7\n",
      "the reversed_num is 24567\n",
      "0\n",
      "Reversed Number: 24567\n"
     ]
    }
   ],
   "source": [
    "num = 76542\n",
    "reversed_num = 0\n",
    "\n",
    "while num != 0:\n",
    "    digit = num % 10\n",
    "    print(f'digit is {digit}')\n",
    "    reversed_num = reversed_num * 10 + digit\n",
    "    print(f'the reversed_num is {reversed_num}')\n",
    "    num =num// 10\n",
    "    print(num)\n",
    "\n",
    "print(\"Reversed Number: \" + str(reversed_num))"
   ]
  },
  {
   "cell_type": "code",
   "execution_count": null,
   "id": "cedabf78",
   "metadata": {},
   "outputs": [],
   "source": []
  },
  {
   "cell_type": "markdown",
   "id": "32f8cdaa",
   "metadata": {},
   "source": [
    "### : Take a user input as integer N. Find out the sum from 1 to N. If any number if divisible by 5, then skip that number. And if the sum is greater than 300, don't need to calculate the sum further more. Print the final result. \n",
    "\n",
    "**Example 1:**\n",
    "\n",
    "`Input:`\n",
    "\n",
    "```bash\n",
    "30\n",
    "```\n",
    "\n",
    "`Output:`\n",
    "\n",
    "```bash\n",
    "276\n",
    "```"
   ]
  },
  {
   "cell_type": "code",
   "execution_count": 71,
   "id": "914b4cab",
   "metadata": {},
   "outputs": [],
   "source": []
  },
  {
   "cell_type": "code",
   "execution_count": null,
   "id": "b2dd491e",
   "metadata": {},
   "outputs": [],
   "source": []
  },
  {
   "cell_type": "code",
   "execution_count": null,
   "id": "e8d74175",
   "metadata": {},
   "outputs": [],
   "source": [
    "#Prime numbers are natural numbers that are divisible by only 1 and the number itself"
   ]
  },
  {
   "cell_type": "code",
   "execution_count": null,
   "id": "5a907f65",
   "metadata": {},
   "outputs": [],
   "source": []
  },
  {
   "cell_type": "markdown",
   "id": "cde192df",
   "metadata": {},
   "source": [
    "# no. is prime or not"
   ]
  },
  {
   "cell_type": "code",
   "execution_count": 72,
   "id": "4b83528a",
   "metadata": {},
   "outputs": [
    {
     "name": "stdout",
     "output_type": "stream",
     "text": [
      "11\n",
      "11 is a prime no.\n"
     ]
    }
   ],
   "source": [
    "n=int(input())\n",
    "isprime =True\n",
    "if n==1:\n",
    "    isprime = False\n",
    "else:\n",
    "    for i in range (2,n):\n",
    "        if n%i ==0:\n",
    "            isprime= False\n",
    "if isprime == True:\n",
    "    print(n,\"is a prime no.\")\n",
    "else:\n",
    "    print(n,\"not a prime no.\")"
   ]
  },
  {
   "cell_type": "code",
   "execution_count": null,
   "id": "af115c19",
   "metadata": {},
   "outputs": [],
   "source": []
  },
  {
   "cell_type": "code",
   "execution_count": 35,
   "id": "17a7ed7d",
   "metadata": {},
   "outputs": [
    {
     "name": "stdout",
     "output_type": "stream",
     "text": [
      "1 1\n",
      "1 2\n",
      "1 3\n",
      "**********\n",
      "2 1\n",
      "2 2\n",
      "2 3\n",
      "**********\n",
      "3 1\n",
      "3 2\n",
      "3 3\n",
      "**********\n"
     ]
    }
   ],
   "source": [
    "\n",
    "for i in range(1,4):\n",
    "    for j in range(1,4):\n",
    "        print(i,j)\n",
    "    print('*'*10)"
   ]
  },
  {
   "cell_type": "code",
   "execution_count": 36,
   "id": "f3594ffb",
   "metadata": {},
   "outputs": [
    {
     "ename": "SyntaxError",
     "evalue": "invalid syntax (1235331270.py, line 1)",
     "output_type": "error",
     "traceback": [
      "\u001b[1;36m  Input \u001b[1;32mIn [36]\u001b[1;36m\u001b[0m\n\u001b[1;33m    for\u001b[0m\n\u001b[1;37m        ^\u001b[0m\n\u001b[1;31mSyntaxError\u001b[0m\u001b[1;31m:\u001b[0m invalid syntax\n"
     ]
    }
   ],
   "source": [
    "for "
   ]
  },
  {
   "cell_type": "code",
   "execution_count": 43,
   "id": "423010f6",
   "metadata": {},
   "outputs": [
    {
     "name": "stdout",
     "output_type": "stream",
     "text": [
      "\n",
      "1 \n",
      "1 2 \n",
      "1 2 3 \n",
      "1 2 3 4 \n"
     ]
    }
   ],
   "source": [
    "for i in range(1,6):\n",
    "    for j in range(1,i):\n",
    "        print(j,end= ' ')\n",
    "    print()"
   ]
  },
  {
   "cell_type": "code",
   "execution_count": null,
   "id": "6e28d10a",
   "metadata": {},
   "outputs": [],
   "source": []
  },
  {
   "cell_type": "code",
   "execution_count": null,
   "id": "2c493654",
   "metadata": {},
   "outputs": [],
   "source": []
  },
  {
   "cell_type": "code",
   "execution_count": null,
   "id": "4e2d0a03",
   "metadata": {},
   "outputs": [],
   "source": []
  },
  {
   "cell_type": "code",
   "execution_count": 1,
   "id": "cdf52fe1",
   "metadata": {},
   "outputs": [
    {
     "name": "stdout",
     "output_type": "stream",
     "text": [
      "1 1\n",
      "1 2\n",
      "1 3\n",
      "1 4\n",
      "2 1\n",
      "2 2\n",
      "2 3\n",
      "2 4\n",
      "3 1\n",
      "3 2\n",
      "3 3\n",
      "3 4\n",
      "4 1\n",
      "4 2\n",
      "4 3\n",
      "4 4\n"
     ]
    }
   ],
   "source": [
    "for i in range(1,5):\n",
    "  for j in range(1,5):\n",
    "    print(i,j)"
   ]
  },
  {
   "cell_type": "code",
   "execution_count": null,
   "id": "136a3fd3",
   "metadata": {},
   "outputs": [],
   "source": []
  },
  {
   "cell_type": "code",
   "execution_count": 2,
   "id": "d47fa5f2",
   "metadata": {},
   "outputs": [
    {
     "name": "stdout",
     "output_type": "stream",
     "text": [
      "* \n",
      "* * \n",
      "* * * \n"
     ]
    }
   ],
   "source": [
    "for i in range(1,4):\n",
    "    for j in range(1,i+1):\n",
    "        print('*',end=' ')\n",
    "    print()"
   ]
  },
  {
   "cell_type": "code",
   "execution_count": null,
   "id": "ec8b569d",
   "metadata": {},
   "outputs": [],
   "source": []
  },
  {
   "cell_type": "code",
   "execution_count": 3,
   "id": "481e3233",
   "metadata": {},
   "outputs": [
    {
     "name": "stdout",
     "output_type": "stream",
     "text": [
      "enter number of rows5\n",
      "1 \n",
      "1 2 1 \n",
      "1 2 3 2 1 \n",
      "1 2 3 4 3 2 1 \n",
      "1 2 3 4 5 4 3 2 1 \n"
     ]
    }
   ],
   "source": [
    "row = int(input('enter number of rows'))\n",
    "\n",
    "for i in range(1,row+1):\n",
    "    \n",
    "    for j in range(1,i+1):\n",
    "        print(j,end=' ')\n",
    "    for k in range(i-1,0,-1):\n",
    "        print(k,end=' ')\n",
    "        \n",
    "    print()"
   ]
  },
  {
   "cell_type": "code",
   "execution_count": null,
   "id": "a87bfaf5",
   "metadata": {},
   "outputs": [],
   "source": []
  },
  {
   "cell_type": "code",
   "execution_count": 15,
   "id": "2f62d939",
   "metadata": {},
   "outputs": [
    {
     "name": "stdout",
     "output_type": "stream",
     "text": [
      "2\n",
      "3\n",
      "5\n",
      "7\n",
      "11\n",
      "13\n",
      "17\n",
      "19\n",
      "23\n",
      "29\n",
      "31\n",
      "37\n",
      "41\n",
      "43\n",
      "47\n",
      "53\n",
      "59\n",
      "61\n",
      "67\n",
      "71\n",
      "73\n",
      "79\n",
      "83\n",
      "89\n",
      "97\n"
     ]
    }
   ],
   "source": [
    "#prime of not\n",
    "\n",
    "for i in range(2,100):\n",
    "    for j in range(2,i):\n",
    "        if i%j==0:\n",
    "            break\n",
    "    else:\n",
    "        print(i)"
   ]
  },
  {
   "cell_type": "code",
   "execution_count": null,
   "id": "fa9069ea",
   "metadata": {},
   "outputs": [],
   "source": [
    "# find the length of string"
   ]
  },
  {
   "cell_type": "code",
   "execution_count": 20,
   "id": "6c599def",
   "metadata": {},
   "outputs": [
    {
     "name": "stdout",
     "output_type": "stream",
     "text": [
      "enter a series of no. to find the length2345\n",
      "4\n"
     ]
    }
   ],
   "source": [
    "# write a program take a user input and calculate the length of that . without using len function \n",
    "\n",
    "a= input(\"enter a series of no. to find the length\")\n",
    "count= 0\n",
    "for i in a:\n",
    "    count = count+1  #1+1   2+1 3  3+2 = 5   5\n",
    "    \n",
    "    \n",
    "    #print(count)\n",
    "print(count)"
   ]
  },
  {
   "cell_type": "code",
   "execution_count": null,
   "id": "a60e237b",
   "metadata": {},
   "outputs": [],
   "source": []
  }
 ],
 "metadata": {
  "kernelspec": {
   "display_name": "Python 3 (ipykernel)",
   "language": "python",
   "name": "python3"
  },
  "language_info": {
   "codemirror_mode": {
    "name": "ipython",
    "version": 3
   },
   "file_extension": ".py",
   "mimetype": "text/x-python",
   "name": "python",
   "nbconvert_exporter": "python",
   "pygments_lexer": "ipython3",
   "version": "3.9.12"
  }
 },
 "nbformat": 4,
 "nbformat_minor": 5
}
