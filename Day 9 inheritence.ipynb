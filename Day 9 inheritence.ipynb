{
 "cells": [
  {
   "cell_type": "code",
   "execution_count": null,
   "id": "85fefca6",
   "metadata": {},
   "outputs": [],
   "source": []
  },
  {
   "cell_type": "markdown",
   "id": "fd1da9fe",
   "metadata": {},
   "source": [
    "#  Inheritence"
   ]
  },
  {
   "cell_type": "code",
   "execution_count": null,
   "id": "e1125f4a",
   "metadata": {},
   "outputs": [],
   "source": []
  },
  {
   "cell_type": "code",
   "execution_count": null,
   "id": "4b1fe6af",
   "metadata": {},
   "outputs": [],
   "source": [
    "class Parent:\n",
    "    def __init__(self):\n",
    "        self.__da=23\n",
    "        "
   ]
  },
  {
   "cell_type": "code",
   "execution_count": null,
   "id": "3b81ab64",
   "metadata": {},
   "outputs": [],
   "source": [
    "p_parent__da"
   ]
  },
  {
   "cell_type": "code",
   "execution_count": 1,
   "id": "e38c9408",
   "metadata": {},
   "outputs": [],
   "source": [
    "class rectangle:\n",
    "  \n",
    "    \n",
    "    def __init__(self):\n",
    "        self.length = 54\n",
    "        self.__breadth = 3\n",
    "        \n",
    "    \n",
    "    # getter method\n",
    "    def get_bredth(self):   \n",
    "        return self.__breadth\n",
    "    \n",
    "    # setter method\n",
    "    def set_breadth(self,a): \n",
    "        self.__breadth=a\n",
    "      "
   ]
  },
  {
   "cell_type": "code",
   "execution_count": 2,
   "id": "6f562646",
   "metadata": {},
   "outputs": [],
   "source": [
    "r1=rectangle()"
   ]
  },
  {
   "cell_type": "code",
   "execution_count": 3,
   "id": "19bba663",
   "metadata": {},
   "outputs": [
    {
     "name": "stdout",
     "output_type": "stream",
     "text": [
      "3\n"
     ]
    }
   ],
   "source": [
    "print(r1.get_bredth())"
   ]
  },
  {
   "cell_type": "code",
   "execution_count": 4,
   "id": "5fa8e00b",
   "metadata": {},
   "outputs": [],
   "source": [
    "r1.set_breadth(20)"
   ]
  },
  {
   "cell_type": "code",
   "execution_count": 6,
   "id": "f1834aad",
   "metadata": {},
   "outputs": [
    {
     "name": "stdout",
     "output_type": "stream",
     "text": [
      "20\n"
     ]
    }
   ],
   "source": [
    "print(r1.get_bredth())"
   ]
  },
  {
   "cell_type": "code",
   "execution_count": null,
   "id": "425b2728",
   "metadata": {},
   "outputs": [],
   "source": []
  },
  {
   "cell_type": "code",
   "execution_count": null,
   "id": "a5d28d97",
   "metadata": {},
   "outputs": [],
   "source": [
    "# multiple object"
   ]
  },
  {
   "cell_type": "code",
   "execution_count": 10,
   "id": "3520f7cd",
   "metadata": {},
   "outputs": [],
   "source": [
    "class person:\n",
    "    def __init__(self,name,idd):\n",
    "        self.name= name\n",
    "        self.idd=idd\n",
    "    \n",
    "    def __str__(self):\n",
    "        return 'your name is  ' + self.name"
   ]
  },
  {
   "cell_type": "code",
   "execution_count": 13,
   "id": "d161dd77",
   "metadata": {},
   "outputs": [],
   "source": [
    "p1=person('ratan',345)\n",
    "p2=person('scv',32)\n",
    "p3=person('dsf',324)"
   ]
  },
  {
   "cell_type": "code",
   "execution_count": 12,
   "id": "5627f302",
   "metadata": {},
   "outputs": [
    {
     "name": "stdout",
     "output_type": "stream",
     "text": [
      "your name isratan\n"
     ]
    }
   ],
   "source": [
    "print(p1)"
   ]
  },
  {
   "cell_type": "code",
   "execution_count": 14,
   "id": "22bfa802",
   "metadata": {},
   "outputs": [
    {
     "data": {
      "text/plain": [
       "'scv'"
      ]
     },
     "execution_count": 14,
     "metadata": {},
     "output_type": "execute_result"
    }
   ],
   "source": [
    "p2.name"
   ]
  },
  {
   "cell_type": "code",
   "execution_count": 15,
   "id": "e8f2f92b",
   "metadata": {},
   "outputs": [
    {
     "data": {
      "text/plain": [
       "'dsf'"
      ]
     },
     "execution_count": 15,
     "metadata": {},
     "output_type": "execute_result"
    }
   ],
   "source": [
    "p3.name"
   ]
  },
  {
   "cell_type": "code",
   "execution_count": 16,
   "id": "537c772c",
   "metadata": {},
   "outputs": [
    {
     "name": "stdout",
     "output_type": "stream",
     "text": [
      "your name isscv\n"
     ]
    }
   ],
   "source": [
    "print(p2)"
   ]
  },
  {
   "cell_type": "code",
   "execution_count": null,
   "id": "2cda5536",
   "metadata": {},
   "outputs": [],
   "source": []
  },
  {
   "cell_type": "code",
   "execution_count": null,
   "id": "bace755f",
   "metadata": {},
   "outputs": [],
   "source": [
    "# how to count how many object are made"
   ]
  },
  {
   "cell_type": "code",
   "execution_count": 12,
   "id": "9a182ca3",
   "metadata": {},
   "outputs": [],
   "source": [
    "class person:\n",
    "    count=0\n",
    "    def __init__(self,name,idd):\n",
    "        self.name=name\n",
    "        self.idd=idd\n",
    "       \n",
    "        person.count=person.count+1\n",
    "    \n",
    "    "
   ]
  },
  {
   "cell_type": "code",
   "execution_count": 13,
   "id": "87b69710",
   "metadata": {},
   "outputs": [
    {
     "name": "stdout",
     "output_type": "stream",
     "text": [
      "2\n"
     ]
    }
   ],
   "source": [
    "q=person('rata',324)\n",
    "q1=person('dasf',3243)\n",
    "#q3=person('dsafsd',34235)\n",
    "print(person.count)"
   ]
  },
  {
   "cell_type": "code",
   "execution_count": 25,
   "id": "9d23a676",
   "metadata": {},
   "outputs": [
    {
     "name": "stdout",
     "output_type": "stream",
     "text": [
      "2\n"
     ]
    }
   ],
   "source": [
    "class car:\n",
    "    count=0\n",
    "    def __init__(Self):\n",
    "        car.count = car.count+1\n",
    "\n",
    "a1=car()\n",
    "a2=car()\n",
    "print(car.count)"
   ]
  },
  {
   "cell_type": "code",
   "execution_count": null,
   "id": "524c1963",
   "metadata": {},
   "outputs": [],
   "source": []
  },
  {
   "cell_type": "code",
   "execution_count": null,
   "id": "e56f252b",
   "metadata": {},
   "outputs": [],
   "source": []
  },
  {
   "cell_type": "code",
   "execution_count": 32,
   "id": "e508ff85",
   "metadata": {},
   "outputs": [],
   "source": [
    "#conscept of self and other"
   ]
  },
  {
   "cell_type": "code",
   "execution_count": null,
   "id": "37e4b7e1",
   "metadata": {},
   "outputs": [],
   "source": [
    "\n"
   ]
  },
  {
   "cell_type": "markdown",
   "id": "303762fd",
   "metadata": {},
   "source": [
    "# (q1-p1)**2  + (q2-p2)**2"
   ]
  },
  {
   "cell_type": "code",
   "execution_count": 41,
   "id": "6cf87e65",
   "metadata": {},
   "outputs": [],
   "source": [
    "class Point:\n",
    "\n",
    "  def __init__(self,x,y):\n",
    "    self.x_cod = x\n",
    "    self.y_cod = y\n",
    "\n",
    "  def __str__(self):\n",
    "    return '<{},{}>'.format(self.x_cod,self.y_cod)\n",
    "\n",
    "  def euclidean_distance(self,other):\n",
    "    return ((self.x_cod - other.x_cod)**2 + (self.y_cod - other.y_cod)**2)**0.5"
   ]
  },
  {
   "cell_type": "code",
   "execution_count": 42,
   "id": "b1c78877",
   "metadata": {},
   "outputs": [],
   "source": [
    "q=Point(2,3)\n",
    "p=Point(3,5)\n",
    "#r=Point(4,6)"
   ]
  },
  {
   "cell_type": "code",
   "execution_count": 43,
   "id": "00947065",
   "metadata": {},
   "outputs": [
    {
     "data": {
      "text/plain": [
       "2.23606797749979"
      ]
     },
     "execution_count": 43,
     "metadata": {},
     "output_type": "execute_result"
    }
   ],
   "source": [
    "q.euclidean_distance(p)"
   ]
  },
  {
   "cell_type": "code",
   "execution_count": null,
   "id": "9ce51b77",
   "metadata": {},
   "outputs": [],
   "source": []
  },
  {
   "cell_type": "code",
   "execution_count": null,
   "id": "f0d99834",
   "metadata": {},
   "outputs": [],
   "source": []
  },
  {
   "cell_type": "code",
   "execution_count": null,
   "id": "e6335f0f",
   "metadata": {},
   "outputs": [],
   "source": [
    "# aggregation\n",
    "\n",
    "# class employee(name,id,,sallary)\n",
    "# class sallary(ctc,tax,bonus)\n"
   ]
  },
  {
   "cell_type": "code",
   "execution_count": null,
   "id": "5a0ac807",
   "metadata": {},
   "outputs": [],
   "source": []
  },
  {
   "cell_type": "markdown",
   "id": "5e92fa78",
   "metadata": {},
   "source": [
    "# Inheritence\n",
    "\n"
   ]
  },
  {
   "cell_type": "code",
   "execution_count": null,
   "id": "9ab1f121",
   "metadata": {},
   "outputs": [],
   "source": []
  },
  {
   "cell_type": "code",
   "execution_count": null,
   "id": "0354be8c",
   "metadata": {},
   "outputs": [],
   "source": []
  },
  {
   "cell_type": "code",
   "execution_count": null,
   "id": "8496c089",
   "metadata": {},
   "outputs": [],
   "source": []
  },
  {
   "cell_type": "code",
   "execution_count": null,
   "id": "af9d79d8",
   "metadata": {},
   "outputs": [],
   "source": []
  },
  {
   "cell_type": "code",
   "execution_count": 44,
   "id": "b3070748",
   "metadata": {},
   "outputs": [],
   "source": [
    "\n",
    "# type of inheritence\n",
    "# single inheritence\n",
    "# multiple inheritence\n",
    "# multilevel inheritence\n",
    "# hybrid inheritence\n",
    "# hierarichal inheritence"
   ]
  },
  {
   "cell_type": "code",
   "execution_count": null,
   "id": "87c4cba1",
   "metadata": {},
   "outputs": [],
   "source": [
    "# class diagram"
   ]
  },
  {
   "attachments": {
    "typesofinheritance.jpg": {
     "image/jpeg": "[encoded data removed]"
    }
   },
   "cell_type": "markdown",
   "id": "cb42236d",
   "metadata": {},
   "source": [
    "![typesofinheritance.jpg](attachment:typesofinheritance.jpg)"
   ]
  },
  {
   "cell_type": "code",
   "execution_count": null,
   "id": "7c170552",
   "metadata": {},
   "outputs": [],
   "source": []
  },
  {
   "cell_type": "code",
   "execution_count": 40,
   "id": "d50f377c",
   "metadata": {},
   "outputs": [],
   "source": [
    "class company:\n",
    "    def __init__(self,work):\n",
    "        self.name='asd'\n",
    "        self.__email_id='dfjakjdfad'\n",
    "        self.location='delhi'\n",
    "        self.work=work\n",
    "        \n",
    "    def MNC(self):   # getter\n",
    "        return self.__email_id\n",
    "        print('u r in MNC class')\n",
    "\n",
    "\n",
    "class employee(company):\n",
    "    def sallary(self,tax,ctc):\n",
    "        print('tax is',tax)\n",
    "        print('ctc is',ctc)"
   ]
  },
  {
   "cell_type": "code",
   "execution_count": 41,
   "id": "c6f6914a",
   "metadata": {},
   "outputs": [],
   "source": [
    "e=employee('yes')"
   ]
  },
  {
   "cell_type": "code",
   "execution_count": 26,
   "id": "80f9deaf",
   "metadata": {},
   "outputs": [
    {
     "name": "stdout",
     "output_type": "stream",
     "text": [
      "tax is 2400000\n",
      "ctc is 3412\n"
     ]
    }
   ],
   "source": [
    "e.sallary(2400000,3412)"
   ]
  },
  {
   "cell_type": "code",
   "execution_count": 42,
   "id": "6978520d",
   "metadata": {},
   "outputs": [
    {
     "data": {
      "text/plain": [
       "'dfjakjdfad'"
      ]
     },
     "execution_count": 42,
     "metadata": {},
     "output_type": "execute_result"
    }
   ],
   "source": [
    "e.MNC()"
   ]
  },
  {
   "cell_type": "code",
   "execution_count": 35,
   "id": "f1075821",
   "metadata": {},
   "outputs": [],
   "source": [
    "class company:\n",
    "    def __init__(self):\n",
    "        self.name='asd'\n",
    "        self.email_id='dfjakjdfad'\n",
    "        self.location='delhi'\n",
    "        \n",
    "    def __MNC(self):\n",
    "        print('u r in MNC class')\n",
    "\n",
    "class employee(company):\n",
    "    def __init__(Self,tax,ctc):\n",
    "        print('u r in child class')\n",
    "        \n",
    "    def sallary(self):\n",
    "        print('tax is',self.tax)\n",
    "        print('ctc is',self.ctc)"
   ]
  },
  {
   "cell_type": "code",
   "execution_count": 36,
   "id": "267fed96",
   "metadata": {},
   "outputs": [
    {
     "name": "stdout",
     "output_type": "stream",
     "text": [
      "u r in child class\n"
     ]
    }
   ],
   "source": [
    "e=employee(34000,31434)"
   ]
  },
  {
   "cell_type": "code",
   "execution_count": 37,
   "id": "7540c19b",
   "metadata": {},
   "outputs": [
    {
     "ename": "AttributeError",
     "evalue": "'employee' object has no attribute '__MNC'",
     "output_type": "error",
     "traceback": [
      "\u001b[1;31m---------------------------------------------------------------------------\u001b[0m",
      "\u001b[1;31mAttributeError\u001b[0m                            Traceback (most recent call last)",
      "Input \u001b[1;32mIn [37]\u001b[0m, in \u001b[0;36m<cell line: 1>\u001b[1;34m()\u001b[0m\n\u001b[1;32m----> 1\u001b[0m \u001b[43me\u001b[49m\u001b[38;5;241;43m.\u001b[39;49m\u001b[43m__MNC\u001b[49m()\n",
      "\u001b[1;31mAttributeError\u001b[0m: 'employee' object has no attribute '__MNC'"
     ]
    }
   ],
   "source": [
    "e.__MNC()"
   ]
  },
  {
   "cell_type": "markdown",
   "id": "a5e44e38",
   "metadata": {},
   "source": [
    "##### What gets inherited?\n",
    "\n",
    "- Constructor\n",
    "- Non Private Attributes\n",
    "- Non Private Methods"
   ]
  },
  {
   "cell_type": "markdown",
   "id": "6554623c",
   "metadata": {},
   "source": []
  },
  {
   "cell_type": "markdown",
   "id": "b6719bf2",
   "metadata": {},
   "source": [
    "# SINGLE INHERITENCE\n",
    "```\n",
    "1 .  parent class\n",
    "\n",
    "  and\n",
    "    \n",
    "1. derived class\n",
    "```"
   ]
  },
  {
   "cell_type": "code",
   "execution_count": 43,
   "id": "eb9adfa4",
   "metadata": {},
   "outputs": [],
   "source": [
    "class parent:\n",
    "    def func1(self):\n",
    "        print(\"hello from pareent calss\")\n",
    "class child(parent):\n",
    "    def func2(self):\n",
    "        print(\"hello child\")\n",
    "        \n",
    "# property of parent class also acess by child class ( inherit the finction and method from parent class)"
   ]
  },
  {
   "cell_type": "code",
   "execution_count": 44,
   "id": "d465e434",
   "metadata": {},
   "outputs": [],
   "source": [
    "#p=parent()\n",
    "c=child()"
   ]
  },
  {
   "cell_type": "code",
   "execution_count": 45,
   "id": "2f451ee8",
   "metadata": {},
   "outputs": [
    {
     "name": "stdout",
     "output_type": "stream",
     "text": [
      "hello from pareent calss\n"
     ]
    }
   ],
   "source": [
    "c.func1()"
   ]
  },
  {
   "cell_type": "markdown",
   "id": "13ae0878",
   "metadata": {},
   "source": []
  },
  {
   "cell_type": "code",
   "execution_count": 54,
   "id": "66774afd",
   "metadata": {},
   "outputs": [],
   "source": [
    "class PiSphere:\n",
    "    def __init__(self):\n",
    "        self.company_website = \"alpha.com\"\n",
    "        self.name =\"pishere\"\n",
    "    \n",
    "    def contact_details(self):\n",
    "        print(\"contact us at\",self.company_website)\n",
    "        \n",
    "class DataScience(PiSphere):\n",
    "    def __init__(self):\n",
    "        self.year_of_establishment =2018\n",
    "        \n",
    "    def est_details(self):\n",
    "       # print(\"est_details\",self.name,self.year_of_establishment)\n",
    "        print(\"est_details\",self.year_of_establishment)\n",
    "        \n",
    "        \n",
    "# there is constructor in this child class. so that when we make a object of  datascience\n",
    "# it goes to his own construtor. \n",
    "# and so that the datascience class can't access the attributes ok pishpere class"
   ]
  },
  {
   "cell_type": "code",
   "execution_count": null,
   "id": "811bfa02",
   "metadata": {},
   "outputs": [],
   "source": []
  },
  {
   "cell_type": "code",
   "execution_count": 55,
   "id": "0e719309",
   "metadata": {},
   "outputs": [],
   "source": [
    "d=DataScience()"
   ]
  },
  {
   "cell_type": "code",
   "execution_count": 56,
   "id": "2b7339db",
   "metadata": {},
   "outputs": [
    {
     "name": "stdout",
     "output_type": "stream",
     "text": [
      "est_details 2018\n"
     ]
    }
   ],
   "source": [
    "d.est_details()"
   ]
  },
  {
   "cell_type": "code",
   "execution_count": 44,
   "id": "839aa0f9",
   "metadata": {},
   "outputs": [],
   "source": [
    "p=PiSphere()\n",
    "d=DataScience()"
   ]
  },
  {
   "cell_type": "code",
   "execution_count": 45,
   "id": "5d2f80f9",
   "metadata": {},
   "outputs": [
    {
     "ename": "AttributeError",
     "evalue": "'DataScience' object has no attribute 'name'",
     "output_type": "error",
     "traceback": [
      "\u001b[1;31m---------------------------------------------------------------------------\u001b[0m",
      "\u001b[1;31mAttributeError\u001b[0m                            Traceback (most recent call last)",
      "Input \u001b[1;32mIn [45]\u001b[0m, in \u001b[0;36m<cell line: 1>\u001b[1;34m()\u001b[0m\n\u001b[1;32m----> 1\u001b[0m \u001b[43md\u001b[49m\u001b[38;5;241;43m.\u001b[39;49m\u001b[43mname\u001b[49m\n",
      "\u001b[1;31mAttributeError\u001b[0m: 'DataScience' object has no attribute 'name'"
     ]
    }
   ],
   "source": [
    "d.name"
   ]
  },
  {
   "cell_type": "code",
   "execution_count": 74,
   "id": "bc7290ad",
   "metadata": {},
   "outputs": [
    {
     "ename": "AttributeError",
     "evalue": "'DataScience' object has no attribute 'company_website'",
     "output_type": "error",
     "traceback": [
      "\u001b[1;31m---------------------------------------------------------------------------\u001b[0m",
      "\u001b[1;31mAttributeError\u001b[0m                            Traceback (most recent call last)",
      "Input \u001b[1;32mIn [74]\u001b[0m, in \u001b[0;36m<cell line: 1>\u001b[1;34m()\u001b[0m\n\u001b[1;32m----> 1\u001b[0m \u001b[43md\u001b[49m\u001b[38;5;241;43m.\u001b[39;49m\u001b[43mcontact_details\u001b[49m\u001b[43m(\u001b[49m\u001b[43m)\u001b[49m\n",
      "Input \u001b[1;32mIn [71]\u001b[0m, in \u001b[0;36mPiSphere.contact_details\u001b[1;34m(self)\u001b[0m\n\u001b[0;32m      6\u001b[0m \u001b[38;5;28;01mdef\u001b[39;00m \u001b[38;5;21mcontact_details\u001b[39m(\u001b[38;5;28mself\u001b[39m):\n\u001b[1;32m----> 7\u001b[0m     \u001b[38;5;28mprint\u001b[39m(\u001b[38;5;124m\"\u001b[39m\u001b[38;5;124mcontact us at\u001b[39m\u001b[38;5;124m\"\u001b[39m,\u001b[38;5;28;43mself\u001b[39;49m\u001b[38;5;241;43m.\u001b[39;49m\u001b[43mcompany_website\u001b[49m)\n",
      "\u001b[1;31mAttributeError\u001b[0m: 'DataScience' object has no attribute 'company_website'"
     ]
    }
   ],
   "source": [
    "d.contact_details()"
   ]
  },
  {
   "cell_type": "code",
   "execution_count": null,
   "id": "9f0d433e",
   "metadata": {},
   "outputs": [],
   "source": []
  },
  {
   "cell_type": "code",
   "execution_count": 46,
   "id": "351c6ec7",
   "metadata": {},
   "outputs": [],
   "source": [
    "class PiSphere:\n",
    "    \n",
    "    def __init__(self):\n",
    "        self.company_website = \"alpha.com\"\n",
    "        self.name =\"pishere\"\n",
    "    \n",
    "    def contact_details(self):\n",
    "        print(\"contact us at\",self.company_website)\n",
    "        \n",
    "class DataScience(PiSphere):\n",
    "   \n",
    "    def est_details(self):\n",
    "        print(\"est_details\")\n",
    "        \n",
    "        \n",
    "        \n",
    "        "
   ]
  },
  {
   "cell_type": "code",
   "execution_count": 47,
   "id": "8a3f0f03",
   "metadata": {},
   "outputs": [],
   "source": [
    "p=PiSphere()\n",
    "d=DataScience()"
   ]
  },
  {
   "cell_type": "code",
   "execution_count": 70,
   "id": "be3f32a3",
   "metadata": {},
   "outputs": [
    {
     "name": "stdout",
     "output_type": "stream",
     "text": [
      "contact us at alpha.com\n"
     ]
    }
   ],
   "source": [
    "d.contact_details()"
   ]
  },
  {
   "cell_type": "code",
   "execution_count": 48,
   "id": "d65c5eb8",
   "metadata": {},
   "outputs": [
    {
     "data": {
      "text/plain": [
       "'pishere'"
      ]
     },
     "execution_count": 48,
     "metadata": {},
     "output_type": "execute_result"
    }
   ],
   "source": [
    "d.name"
   ]
  },
  {
   "cell_type": "markdown",
   "id": "0d544b99",
   "metadata": {},
   "source": [
    "## if child class dont have constructor then in python wo parent ke pass jaynega and uska constructor execute ho jayenga\n",
    "\n",
    "# if child dont have his own constructor , then in this case it will execute the parent class constructor"
   ]
  },
  {
   "cell_type": "code",
   "execution_count": null,
   "id": "7ba1e14c",
   "metadata": {},
   "outputs": [],
   "source": []
  },
  {
   "cell_type": "code",
   "execution_count": 82,
   "id": "0fe02212",
   "metadata": {},
   "outputs": [],
   "source": [
    "class trainer:\n",
    "    def __init__(self,idd,password):\n",
    "        self.idd= idd\n",
    "        self.password= password\n",
    "        \n",
    "    def content(self):\n",
    "        print('this is inside the parent class')\n",
    "        \n",
    "class student(trainer):\n",
    "    pass"
   ]
  },
  {
   "cell_type": "code",
   "execution_count": 87,
   "id": "22a842ae",
   "metadata": {},
   "outputs": [],
   "source": [
    "t=trainer(23423,56546)\n",
    "s=student('234',3423)"
   ]
  },
  {
   "cell_type": "code",
   "execution_count": 88,
   "id": "2aa5a5a3",
   "metadata": {},
   "outputs": [
    {
     "name": "stdout",
     "output_type": "stream",
     "text": [
      "this is inside the parent class\n"
     ]
    }
   ],
   "source": [
    "s.content()\n",
    "\n",
    "# student ke object se trainer ka method le rahe hai"
   ]
  },
  {
   "cell_type": "code",
   "execution_count": 89,
   "id": "b1899c92",
   "metadata": {},
   "outputs": [
    {
     "data": {
      "text/plain": [
       "'234'"
      ]
     },
     "execution_count": 89,
     "metadata": {},
     "output_type": "execute_result"
    }
   ],
   "source": [
    "s.idd"
   ]
  },
  {
   "cell_type": "code",
   "execution_count": 90,
   "id": "4a30e790",
   "metadata": {},
   "outputs": [
    {
     "data": {
      "text/plain": [
       "23423"
      ]
     },
     "execution_count": 90,
     "metadata": {},
     "output_type": "execute_result"
    }
   ],
   "source": [
    "t.idd"
   ]
  },
  {
   "cell_type": "code",
   "execution_count": null,
   "id": "0119d3e8",
   "metadata": {},
   "outputs": [],
   "source": []
  },
  {
   "cell_type": "code",
   "execution_count": null,
   "id": "0a83388a",
   "metadata": {},
   "outputs": [],
   "source": []
  },
  {
   "cell_type": "markdown",
   "id": "6d752cb0",
   "metadata": {},
   "source": [
    "# if child class  has his own constructor then parent class ka constructor call nahi hoga"
   ]
  },
  {
   "cell_type": "code",
   "execution_count": null,
   "id": "54eac44e",
   "metadata": {},
   "outputs": [],
   "source": [
    "# if child class  has his own constructor then parent class ka constructor call nahi hoga\n",
    "# if parent ka constructor call nahi hoga then , the attributes in the class phone will also not call\n",
    "\n",
    "# child can't access the parent class , if child class has its constructor\n",
    "\n",
    "\n",
    "# for this we have to use SUPER() "
   ]
  },
  {
   "cell_type": "code",
   "execution_count": 166,
   "id": "55cf1416",
   "metadata": {},
   "outputs": [
    {
     "name": "stdout",
     "output_type": "stream",
     "text": [
      "Inside SmartPhone constructor\n"
     ]
    },
    {
     "ename": "AttributeError",
     "evalue": "'SmartPhone' object has no attribute 'brand'",
     "output_type": "error",
     "traceback": [
      "\u001b[1;31m---------------------------------------------------------------------------\u001b[0m",
      "\u001b[1;31mAttributeError\u001b[0m                            Traceback (most recent call last)",
      "Input \u001b[1;32mIn [166]\u001b[0m, in \u001b[0;36m<cell line: 16>\u001b[1;34m()\u001b[0m\n\u001b[0;32m     13\u001b[0m         \u001b[38;5;28mprint\u001b[39m (\u001b[38;5;124m\"\u001b[39m\u001b[38;5;124mInside SmartPhone constructor\u001b[39m\u001b[38;5;124m\"\u001b[39m)\n\u001b[0;32m     15\u001b[0m s\u001b[38;5;241m=\u001b[39mSmartPhone(\u001b[38;5;124m\"\u001b[39m\u001b[38;5;124mAndroid\u001b[39m\u001b[38;5;124m\"\u001b[39m, \u001b[38;5;241m2\u001b[39m)\n\u001b[1;32m---> 16\u001b[0m \u001b[43ms\u001b[49m\u001b[38;5;241;43m.\u001b[39;49m\u001b[43mbrand\u001b[49m\n",
      "\u001b[1;31mAttributeError\u001b[0m: 'SmartPhone' object has no attribute 'brand'"
     ]
    }
   ],
   "source": [
    "class Phone:\n",
    "    def __init__(self, price, brand, camera):\n",
    "        print (\"Inside phone constructor\")\n",
    "        self.__price = price\n",
    "        self.brand = brand\n",
    "        self.camera = camera\n",
    "\n",
    "class SmartPhone(Phone):\n",
    "    def __init__(self, os, ram):\n",
    "         \n",
    "        self.os = os\n",
    "        self.ram = ram\n",
    "        print (\"Inside SmartPhone constructor\")\n",
    "\n",
    "s=SmartPhone(\"Android\", 2)\n",
    "\n",
    "# cant call class phone - brand(bcz there is constructor available inside the smartphone class)\n",
    "s.brand\n",
    "\n",
    "\n"
   ]
  },
  {
   "cell_type": "code",
   "execution_count": 171,
   "id": "653729b8",
   "metadata": {},
   "outputs": [
    {
     "name": "stdout",
     "output_type": "stream",
     "text": [
      "Inside phone constructor\n",
      "Inside SmartPhone constructor\n"
     ]
    },
    {
     "data": {
      "text/plain": [
       "'nokia'"
      ]
     },
     "execution_count": 171,
     "metadata": {},
     "output_type": "execute_result"
    }
   ],
   "source": [
    "\n",
    "#here using super\n",
    "\n",
    "class phone:\n",
    "    def __init__(self, price, brand, camera):\n",
    "        print (\"Inside phone constructor\")\n",
    "        self.__price = price\n",
    "        self.brand = brand\n",
    "        self.camera = camera\n",
    "\n",
    "class SmartPhone(Phone):\n",
    "    def __init__(self, price, brand, camera,os, ram):\n",
    "         super().__init__(price, brand, camera)\n",
    "         self.os = os\n",
    "         self.ram = ram\n",
    "         print (\"Inside SmartPhone constructor\")\n",
    " \n",
    "s=SmartPhone(3423,'nokia','yes','octa',64)\n",
    "\n",
    "# cant call class phone - brand(bcz there is constructor available inside the smartphone class)\n",
    "s.brand\n"
   ]
  },
  {
   "cell_type": "markdown",
   "id": "9d5a6a84",
   "metadata": {},
   "source": [
    "#  child can't access private members of the  parent class"
   ]
  },
  {
   "cell_type": "code",
   "execution_count": 102,
   "id": "2492c734",
   "metadata": {},
   "outputs": [],
   "source": [
    "# child can't access private members of the class\n",
    "\n"
   ]
  },
  {
   "cell_type": "code",
   "execution_count": null,
   "id": "3905cceb",
   "metadata": {},
   "outputs": [],
   "source": []
  },
  {
   "cell_type": "code",
   "execution_count": 101,
   "id": "7a07dfea",
   "metadata": {},
   "outputs": [
    {
     "name": "stdout",
     "output_type": "stream",
     "text": [
      "Inside phone constructor\n"
     ]
    },
    {
     "ename": "AttributeError",
     "evalue": "'bmw' object has no attribute '__price'",
     "output_type": "error",
     "traceback": [
      "\u001b[1;31m---------------------------------------------------------------------------\u001b[0m",
      "\u001b[1;31mAttributeError\u001b[0m                            Traceback (most recent call last)",
      "Input \u001b[1;32mIn [101]\u001b[0m, in \u001b[0;36m<cell line: 15>\u001b[1;34m()\u001b[0m\n\u001b[0;32m     12\u001b[0m         \u001b[38;5;28mprint\u001b[39m(\u001b[38;5;28mself\u001b[39m\u001b[38;5;241m.\u001b[39m__price)\n\u001b[0;32m     14\u001b[0m s\u001b[38;5;241m=\u001b[39mbmw(\u001b[38;5;241m5000000000\u001b[39m, \u001b[38;5;124m\"\u001b[39m\u001b[38;5;124maudi\u001b[39m\u001b[38;5;124m\"\u001b[39m, \u001b[38;5;124m'\u001b[39m\u001b[38;5;124mred\u001b[39m\u001b[38;5;124m'\u001b[39m)\n\u001b[1;32m---> 15\u001b[0m \u001b[43ms\u001b[49m\u001b[38;5;241;43m.\u001b[39;49m\u001b[43m__price\u001b[49m()\n",
      "\u001b[1;31mAttributeError\u001b[0m: 'bmw' object has no attribute '__price'"
     ]
    }
   ],
   "source": [
    "\n",
    "class car:\n",
    "    def __init__(self, price, brand, colour):\n",
    "        print (\"Inside phone constructor\")\n",
    "        self.__price = price\n",
    "        self.brand = brand\n",
    "        self.colour = colour\n",
    "\n",
    "   \n",
    "class bmw(car):\n",
    "    \n",
    "    def check(self):\n",
    "        print(self.__price)\n",
    "\n",
    "s=bmw(5000000000, \"audi\", 'red')\n",
    "s.__price()\n",
    "\n",
    "# can't access price bcz price is private"
   ]
  },
  {
   "cell_type": "code",
   "execution_count": 98,
   "id": "bbdebd24",
   "metadata": {},
   "outputs": [
    {
     "name": "stdout",
     "output_type": "stream",
     "text": [
      "Inside phone constructor\n"
     ]
    },
    {
     "ename": "AttributeError",
     "evalue": "'bmw' object has no attribute '__get_price'",
     "output_type": "error",
     "traceback": [
      "\u001b[1;31m---------------------------------------------------------------------------\u001b[0m",
      "\u001b[1;31mAttributeError\u001b[0m                            Traceback (most recent call last)",
      "Input \u001b[1;32mIn [98]\u001b[0m, in \u001b[0;36m<cell line: 18>\u001b[1;34m()\u001b[0m\n\u001b[0;32m     15\u001b[0m         \u001b[38;5;28mprint\u001b[39m(\u001b[38;5;28mself\u001b[39m\u001b[38;5;241m.\u001b[39m__price)\n\u001b[0;32m     17\u001b[0m s\u001b[38;5;241m=\u001b[39mbmw(\u001b[38;5;241m5000000000\u001b[39m, \u001b[38;5;124m\"\u001b[39m\u001b[38;5;124maudi\u001b[39m\u001b[38;5;124m\"\u001b[39m, \u001b[38;5;124m'\u001b[39m\u001b[38;5;124mred\u001b[39m\u001b[38;5;124m'\u001b[39m)\n\u001b[1;32m---> 18\u001b[0m \u001b[43ms\u001b[49m\u001b[38;5;241;43m.\u001b[39;49m\u001b[43m__get_price\u001b[49m()\n",
      "\u001b[1;31mAttributeError\u001b[0m: 'bmw' object has no attribute '__get_price'"
     ]
    }
   ],
   "source": [
    "\n",
    "class car:\n",
    "    def __init__(self, price, brand, colour):\n",
    "        print (\"Inside phone constructor\")\n",
    "        self.__price = price\n",
    "        self.brand = brand\n",
    "        self.colour = colour\n",
    "\n",
    "    #getter\n",
    "    def __get_price(self):\n",
    "        print (self.__price)\n",
    "        \n",
    "        # now this method is also private \n",
    "        # so that is is showing error\n",
    "\n",
    "class bmw(car):\n",
    "    \n",
    "    def check(self):\n",
    "        print(self.__price)\n",
    "\n",
    "s=bmw(5000000000, \"audi\", 'red')\n",
    "s.__get_price()"
   ]
  },
  {
   "cell_type": "code",
   "execution_count": 103,
   "id": "913e04cd",
   "metadata": {},
   "outputs": [
    {
     "name": "stdout",
     "output_type": "stream",
     "text": [
      "Inside phone constructor\n",
      "5000000000\n"
     ]
    }
   ],
   "source": [
    "class car:\n",
    "    def __init__(self, price, brand, colour):\n",
    "        print (\"Inside phone constructor\")\n",
    "        self.__price = price\n",
    "        self.brand = brand\n",
    "        self.colour = colour\n",
    "\n",
    "    #this function is working as getter\n",
    "    def show_price(self):\n",
    "        print (self.__price)\n",
    "\n",
    "class bmw(car):\n",
    "    \n",
    "    def check(self):\n",
    "        print(self.__price)\n",
    "\n",
    "s=bmw(5000000000, \"audi\", 'red')\n",
    "s.show_price()"
   ]
  },
  {
   "cell_type": "code",
   "execution_count": null,
   "id": "71bc71d6",
   "metadata": {},
   "outputs": [],
   "source": []
  },
  {
   "cell_type": "code",
   "execution_count": 104,
   "id": "fcc3635c",
   "metadata": {},
   "outputs": [
    {
     "name": "stdout",
     "output_type": "stream",
     "text": [
      "100\n",
      "This is in child class\n"
     ]
    }
   ],
   "source": [
    "class Parent:\n",
    "\n",
    "    def __init__(self,num):\n",
    "        self.__num=num\n",
    "\n",
    "    def get_num(self):\n",
    "        return self.__num\n",
    "\n",
    "class Child(Parent):\n",
    "\n",
    "    def show(self):\n",
    "        print(\"This is in child class\")\n",
    "        \n",
    "son=Child(100)\n",
    "print(son.get_num())\n",
    "son.show()"
   ]
  },
  {
   "cell_type": "code",
   "execution_count": null,
   "id": "a86e6e25",
   "metadata": {},
   "outputs": [],
   "source": []
  },
  {
   "cell_type": "code",
   "execution_count": 49,
   "id": "fe3d4aef",
   "metadata": {},
   "outputs": [
    {
     "name": "stdout",
     "output_type": "stream",
     "text": [
      "class A : 100\n",
      "this is another class 200\n"
     ]
    }
   ],
   "source": [
    "class A:\n",
    "    def __init__(self):\n",
    "        self.var1=100\n",
    "\n",
    "    def display1(self,var1):\n",
    "        print(\"class A :\", self.var1)\n",
    "        print('this is another class',var1)\n",
    "class B(A):\n",
    "  \n",
    "    def display2(self,var1):\n",
    "        print(\"class B :\", self.var1)\n",
    "\n",
    "obj=B()\n",
    "obj.display1(200)\n"
   ]
  },
  {
   "cell_type": "code",
   "execution_count": 57,
   "id": "25834272",
   "metadata": {},
   "outputs": [],
   "source": [
    "class A:\n",
    "    def __init__(self):\n",
    "        self.var1=100\n",
    "\n",
    "    def display1(self,var1):\n",
    "        self.var1=var1\n",
    "        print(\"class A :\", self.var1)\n",
    "        \n",
    "        \n",
    "class B(A):\n",
    "  \n",
    "    def display1(self,var1):\n",
    "        print(\"class B :\", self.var1)\n",
    "\n",
    "obj=B()\n",
    "\n",
    "#1 class A-100\n",
    "#2 class A --200\n",
    "#3 class B-100\n",
    "#4 class B --200"
   ]
  },
  {
   "cell_type": "code",
   "execution_count": 58,
   "id": "f76239fa",
   "metadata": {},
   "outputs": [
    {
     "name": "stdout",
     "output_type": "stream",
     "text": [
      "class B : 100\n"
     ]
    }
   ],
   "source": [
    "obj.display1(200)"
   ]
  },
  {
   "cell_type": "markdown",
   "id": "cf00642a",
   "metadata": {},
   "source": [
    "# method overriding"
   ]
  },
  {
   "cell_type": "markdown",
   "id": "2607efb0",
   "metadata": {},
   "source": [
    "Method overriding is an ability of any object-oriented programming language that allows a subclass or child class to provide a specific implementation of a method that is already provided by one of its super-classes or parent classes. When a method in a subclass has the same name, same parameters or signature and same return type(or sub-type) as a method in its super-class, then the method in the subclass is said to override the method in the super-class."
   ]
  },
  {
   "cell_type": "code",
   "execution_count": 116,
   "id": "9925c70b",
   "metadata": {},
   "outputs": [],
   "source": [
    "# if parent and child dono ke pass same name se method ho.  then child class wala method execute hoga"
   ]
  },
  {
   "cell_type": "code",
   "execution_count": null,
   "id": "5462e7dd",
   "metadata": {},
   "outputs": [],
   "source": [
    "# if there is inheritence and dono class me same name se method hai , then always chlid class ka method execute hoga"
   ]
  },
  {
   "cell_type": "code",
   "execution_count": 114,
   "id": "06401544",
   "metadata": {},
   "outputs": [
    {
     "name": "stdout",
     "output_type": "stream",
     "text": [
      "Inside Parent\n",
      "Inside Child\n"
     ]
    }
   ],
   "source": [
    "\n",
    "# Python program to demonstrate \n",
    "# method overriding\n",
    "  \n",
    "  \n",
    "# Defining parent class\n",
    "class Parent():\n",
    "      \n",
    "    # Constructor\n",
    "    def __init__(self):\n",
    "        self.value = \"Inside Parent\"\n",
    "          \n",
    "    # Parent's show method\n",
    "    def show(self):\n",
    "        print(self.value)\n",
    "          \n",
    "# Defining child class\n",
    "class Child(Parent):\n",
    "      \n",
    "    # Constructor\n",
    "    def __init__(self):\n",
    "        self.value = \"Inside Child\"\n",
    "          \n",
    "    # Child's show method\n",
    "    def show(self):\n",
    "        print(self.value)\n",
    "          \n",
    "          \n",
    "# Driver's code\n",
    "obj1 = Parent()\n",
    "obj2 = Child()\n",
    "  \n",
    "obj1.show()\n",
    "obj2.show()"
   ]
  },
  {
   "cell_type": "code",
   "execution_count": 115,
   "id": "c46badb3",
   "metadata": {},
   "outputs": [
    {
     "name": "stdout",
     "output_type": "stream",
     "text": [
      "Inside phone constructor\n",
      "Buying a smartphone\n"
     ]
    }
   ],
   "source": [
    "# Method Overriding\n",
    "class Phone:\n",
    "    def __init__(self, price, brand, camera):\n",
    "        print (\"Inside phone constructor\")\n",
    "        self.__price = price\n",
    "        self.brand = brand\n",
    "        self.camera = camera\n",
    "\n",
    "    def buy(self):\n",
    "        print (\"Buying a phone\")\n",
    "\n",
    "class SmartPhone(Phone):\n",
    "    def buy(self):\n",
    "        print (\"Buying a smartphone\")\n",
    "\n",
    "s=SmartPhone(20000, \"Apple\", 13)\n",
    "\n",
    "s.buy()\n",
    "\n",
    "# but if phone class ka obj banayege then hm parent class ka method call ho jayenga\n",
    "# if parent and child dono ke pass same name se method ho.  then child class wala method execute hoga"
   ]
  },
  {
   "cell_type": "code",
   "execution_count": null,
   "id": "b01851f2",
   "metadata": {},
   "outputs": [],
   "source": []
  },
  {
   "cell_type": "code",
   "execution_count": 78,
   "id": "738bcdeb",
   "metadata": {},
   "outputs": [],
   "source": [
    "class car:\n",
    "    def __init__(self,engine,colour,price):\n",
    "        self.engine=engine\n",
    "        self.colour=colour\n",
    "        self.price=price\n",
    "    \n",
    "    def model(self,typee):\n",
    "        if typee=='SUV':\n",
    "            print('bigger car')\n",
    "        elif typee=='sedan':\n",
    "            print('medium size')\n",
    "        else:\n",
    "            print('delux car')\n",
    "            \n",
    "class brand(car):\n",
    "    def __init__(self,name,modell,engine,colour,price):\n",
    "        super().__init__(engine,colour,price)\n",
    "        self.name=name\n",
    "        self.modell=modell\n",
    "        \n",
    "    def series(self):\n",
    "        print('u r in child class')\n",
    "    \n",
    "        "
   ]
  },
  {
   "cell_type": "code",
   "execution_count": 80,
   "id": "5202434c",
   "metadata": {},
   "outputs": [],
   "source": [
    "b=brand(43,'red','dfa','red',3423423)"
   ]
  },
  {
   "cell_type": "code",
   "execution_count": 62,
   "id": "632260ba",
   "metadata": {},
   "outputs": [
    {
     "name": "stdout",
     "output_type": "stream",
     "text": [
      "bigger car\n"
     ]
    }
   ],
   "source": [
    "b.model('SUV')"
   ]
  },
  {
   "cell_type": "code",
   "execution_count": 81,
   "id": "8697e8a2",
   "metadata": {},
   "outputs": [
    {
     "data": {
      "text/plain": [
       "'dfa'"
      ]
     },
     "execution_count": 81,
     "metadata": {},
     "output_type": "execute_result"
    }
   ],
   "source": [
    "b.engine"
   ]
  },
  {
   "cell_type": "code",
   "execution_count": 82,
   "id": "eeda06e4",
   "metadata": {},
   "outputs": [
    {
     "name": "stdout",
     "output_type": "stream",
     "text": [
      "medium size\n"
     ]
    }
   ],
   "source": [
    "b.model('sedan')"
   ]
  },
  {
   "cell_type": "code",
   "execution_count": 83,
   "id": "69cbb7f2",
   "metadata": {},
   "outputs": [
    {
     "name": "stdout",
     "output_type": "stream",
     "text": [
      "u r in child class\n"
     ]
    }
   ],
   "source": [
    "b.series()"
   ]
  },
  {
   "cell_type": "markdown",
   "id": "47934e20",
   "metadata": {},
   "source": [
    "# super Keyword\n",
    "\n",
    " \n",
    " ```\n",
    "1.  super ()  is used when we need to build classes(child class) that extend the functionality to previously build class(parent class)\n",
    "\n",
    "2. super function in pyhton is used to access method of immediate parent class\n",
    "\n",
    "3. super is a way to access parent method\n",
    "\n",
    "```"
   ]
  },
  {
   "cell_type": "markdown",
   "id": "c5e2b471",
   "metadata": {},
   "source": [
    "# super can't access the attributes\n",
    "\n",
    "# super used inside the child class\n",
    "\n",
    "# super can't use outside the class"
   ]
  },
  {
   "cell_type": "code",
   "execution_count": 161,
   "id": "ea82615b",
   "metadata": {},
   "outputs": [
    {
     "name": "stdout",
     "output_type": "stream",
     "text": [
      "Inside phone constructor\n",
      "Buying a smartphone\n",
      "Buying a phone\n"
     ]
    }
   ],
   "source": [
    "class Phone:\n",
    "    def __init__(self, price, brand, camera):\n",
    "        print (\"Inside phone constructor\")\n",
    "        self.__price = price\n",
    "        self.brand = brand\n",
    "        self.camera = camera\n",
    "\n",
    "    def buy(self):\n",
    "        print (\"Buying a phone\")\n",
    "\n",
    "class SmartPhone(Phone):\n",
    "    def buy(self):\n",
    "        print (\"Buying a smartphone\")\n",
    "        # syntax to call parent ka buy method\n",
    "        # parent ke buy ko call kr diya\n",
    "        super().buy()\n",
    "\n",
    "s=SmartPhone(20000, \"Apple\", 13)\n",
    "\n",
    "s.buy()\n",
    "\n",
    "# both have buy method.  so that pehele smartphone class ka buy call ho gaya\n",
    "# then with  the help of super keyword  parent class ka bhi buy execute ho gaya"
   ]
  },
  {
   "cell_type": "code",
   "execution_count": null,
   "id": "272ce005",
   "metadata": {},
   "outputs": [],
   "source": []
  },
  {
   "cell_type": "code",
   "execution_count": null,
   "id": "3efb8c41",
   "metadata": {},
   "outputs": [],
   "source": [
    "# super cant use outside the class"
   ]
  },
  {
   "cell_type": "code",
   "execution_count": 162,
   "id": "d5d4e56f",
   "metadata": {},
   "outputs": [
    {
     "name": "stdout",
     "output_type": "stream",
     "text": [
      "Inside phone constructor\n"
     ]
    },
    {
     "ename": "RuntimeError",
     "evalue": "super(): no arguments",
     "output_type": "error",
     "traceback": [
      "\u001b[1;31m---------------------------------------------------------------------------\u001b[0m",
      "\u001b[1;31mRuntimeError\u001b[0m                              Traceback (most recent call last)",
      "Input \u001b[1;32mIn [162]\u001b[0m, in \u001b[0;36m<cell line: 20>\u001b[1;34m()\u001b[0m\n\u001b[0;32m     14\u001b[0m         \u001b[38;5;66;03m# syntax to call parent ka buy method\u001b[39;00m\n\u001b[0;32m     15\u001b[0m         \u001b[38;5;66;03m# parent ke buy ko call kr diya\u001b[39;00m\n\u001b[0;32m     18\u001b[0m s\u001b[38;5;241m=\u001b[39mSmartPhone(\u001b[38;5;241m20000\u001b[39m, \u001b[38;5;124m\"\u001b[39m\u001b[38;5;124mApple\u001b[39m\u001b[38;5;124m\"\u001b[39m, \u001b[38;5;241m13\u001b[39m)\n\u001b[1;32m---> 20\u001b[0m \u001b[38;5;28;43msuper\u001b[39;49m\u001b[43m(\u001b[49m\u001b[43m)\u001b[49m\u001b[38;5;241m.\u001b[39mbuy()\n",
      "\u001b[1;31mRuntimeError\u001b[0m: super(): no arguments"
     ]
    }
   ],
   "source": [
    "class Phone:\n",
    "    def __init__(self, price, brand, camera):\n",
    "        print (\"Inside phone constructor\")\n",
    "        self.__price = price\n",
    "        self.brand = brand\n",
    "        self.camera = camera\n",
    "\n",
    "    def buy(self):\n",
    "        print (\"Buying a phone\")\n",
    "\n",
    "class SmartPhone(Phone):\n",
    "    def buy(self):\n",
    "        print (\"Buying a smartphone\")\n",
    "        # syntax to call parent ka buy method\n",
    "        # parent ke buy ko call kr diya\n",
    "        \n",
    "\n",
    "s=SmartPhone(20000, \"Apple\", 13)\n",
    "\n",
    "super().buy()\n"
   ]
  },
  {
   "cell_type": "code",
   "execution_count": null,
   "id": "b9f28274",
   "metadata": {},
   "outputs": [],
   "source": []
  },
  {
   "cell_type": "code",
   "execution_count": null,
   "id": "7db4ab99",
   "metadata": {},
   "outputs": [],
   "source": [
    "# super cant call a attribute of parent class"
   ]
  },
  {
   "cell_type": "code",
   "execution_count": 163,
   "id": "67e32c44",
   "metadata": {},
   "outputs": [
    {
     "name": "stdout",
     "output_type": "stream",
     "text": [
      "Inside phone constructor\n",
      "Buying a smartphone\n"
     ]
    },
    {
     "ename": "AttributeError",
     "evalue": "'super' object has no attribute 'brand'",
     "output_type": "error",
     "traceback": [
      "\u001b[1;31m---------------------------------------------------------------------------\u001b[0m",
      "\u001b[1;31mAttributeError\u001b[0m                            Traceback (most recent call last)",
      "Input \u001b[1;32mIn [163]\u001b[0m, in \u001b[0;36m<cell line: 20>\u001b[1;34m()\u001b[0m\n\u001b[0;32m     16\u001b[0m         \u001b[38;5;28mprint\u001b[39m(\u001b[38;5;28msuper\u001b[39m()\u001b[38;5;241m.\u001b[39mbrand())\n\u001b[0;32m     19\u001b[0m s\u001b[38;5;241m=\u001b[39mSmartPhone(\u001b[38;5;241m20000\u001b[39m, \u001b[38;5;124m\"\u001b[39m\u001b[38;5;124mApple\u001b[39m\u001b[38;5;124m\"\u001b[39m, \u001b[38;5;241m13\u001b[39m)\n\u001b[1;32m---> 20\u001b[0m \u001b[43ms\u001b[49m\u001b[38;5;241;43m.\u001b[39;49m\u001b[43mbuy\u001b[49m\u001b[43m(\u001b[49m\u001b[43m)\u001b[49m\n",
      "Input \u001b[1;32mIn [163]\u001b[0m, in \u001b[0;36mSmartPhone.buy\u001b[1;34m(self)\u001b[0m\n\u001b[0;32m     13\u001b[0m \u001b[38;5;28mprint\u001b[39m (\u001b[38;5;124m\"\u001b[39m\u001b[38;5;124mBuying a smartphone\u001b[39m\u001b[38;5;124m\"\u001b[39m)\n\u001b[0;32m     14\u001b[0m \u001b[38;5;66;03m# syntax to call parent ka buy method\u001b[39;00m\n\u001b[0;32m     15\u001b[0m \u001b[38;5;66;03m# parent ke buy ko call kr diya\u001b[39;00m\n\u001b[1;32m---> 16\u001b[0m \u001b[38;5;28mprint\u001b[39m(\u001b[38;5;28;43msuper\u001b[39;49m\u001b[43m(\u001b[49m\u001b[43m)\u001b[49m\u001b[38;5;241;43m.\u001b[39;49m\u001b[43mbrand\u001b[49m())\n",
      "\u001b[1;31mAttributeError\u001b[0m: 'super' object has no attribute 'brand'"
     ]
    }
   ],
   "source": [
    "class Phone:\n",
    "    def __init__(self, price, brand, camera):\n",
    "        print (\"Inside phone constructor\")\n",
    "        self.__price = price\n",
    "        self.brand = brand\n",
    "        self.camera = camera\n",
    "\n",
    "    def buy(self):\n",
    "        print (\"Buying a phone\")\n",
    "\n",
    "class SmartPhone(Phone):\n",
    "    def buy(self):\n",
    "        print (\"Buying a smartphone\")\n",
    "        \n",
    "        # super can't call the attribute of parent class\n",
    "        print(super().brand())\n",
    "\n",
    "\n",
    "s=SmartPhone(20000, \"Apple\", 13)\n",
    "s.buy()\n",
    "\n",
    "\n"
   ]
  },
  {
   "cell_type": "code",
   "execution_count": null,
   "id": "ee603f9d",
   "metadata": {},
   "outputs": [],
   "source": []
  },
  {
   "cell_type": "code",
   "execution_count": 117,
   "id": "b717aefc",
   "metadata": {},
   "outputs": [],
   "source": [
    "class parent:\n",
    "    def __init__(self,v1,v2):\n",
    "        self.v1 = v1\n",
    "        self.v2 = v2\n",
    "        \n",
    "class child (parent):\n",
    "    def __init__(self,v1,v2,v3):\n",
    "        super().__init__(v1,v2)\n",
    "        self.v3 = v3"
   ]
  },
  {
   "cell_type": "code",
   "execution_count": 118,
   "id": "3b0bdc66",
   "metadata": {},
   "outputs": [],
   "source": [
    "c=child(3,4,5)"
   ]
  },
  {
   "cell_type": "code",
   "execution_count": 119,
   "id": "2269f4db",
   "metadata": {},
   "outputs": [
    {
     "data": {
      "text/plain": [
       "3"
      ]
     },
     "execution_count": 119,
     "metadata": {},
     "output_type": "execute_result"
    }
   ],
   "source": [
    "c.v1"
   ]
  },
  {
   "cell_type": "code",
   "execution_count": 120,
   "id": "293299ac",
   "metadata": {},
   "outputs": [
    {
     "data": {
      "text/plain": [
       "4"
      ]
     },
     "execution_count": 120,
     "metadata": {},
     "output_type": "execute_result"
    }
   ],
   "source": [
    "c.v2"
   ]
  },
  {
   "cell_type": "code",
   "execution_count": null,
   "id": "f062c5de",
   "metadata": {},
   "outputs": [],
   "source": []
  },
  {
   "cell_type": "code",
   "execution_count": 122,
   "id": "46bb96b1",
   "metadata": {},
   "outputs": [
    {
     "name": "stdout",
     "output_type": "stream",
     "text": [
      "Inside smartphone constructor\n",
      "Inside phone constructor\n",
      "Inside smartphone constructor\n",
      "Android\n",
      "Samsung\n"
     ]
    }
   ],
   "source": [
    "# super -> constuctor\n",
    "class Phone:\n",
    "    def __init__(self, price, brand, camera):\n",
    "        print (\"Inside phone constructor\")\n",
    "        self.__price = price\n",
    "        self.brand = brand\n",
    "        self.camera = camera\n",
    "\n",
    "class SmartPhone(Phone):\n",
    "    def __init__(self, price, brand, camera, os, ram):\n",
    "        print('Inside smartphone constructor')\n",
    "        \n",
    "        # child ke andar se parent ke constructor ko call kr diya\n",
    "        # parent ke price , brand ,camera call ho gaye , value initiallize ho gayi\n",
    "        \n",
    "        super().__init__(price, brand, camera)\n",
    "        \n",
    "        # again back to child \n",
    "        \n",
    "        self.os = os\n",
    "        self.ram = ram\n",
    "        print (\"Inside smartphone constructor\")\n",
    "\n",
    "s=SmartPhone(20000, \"Samsung\", 12, \"Android\", 2)\n",
    "\n",
    "print(s.os)\n",
    "print(s.brand)"
   ]
  },
  {
   "cell_type": "code",
   "execution_count": null,
   "id": "726aa4ac",
   "metadata": {},
   "outputs": [],
   "source": []
  },
  {
   "cell_type": "code",
   "execution_count": 84,
   "id": "2f86c04f",
   "metadata": {},
   "outputs": [],
   "source": [
    "class student_exam:\n",
    "    def __init__(self,pen,paper,cardboard):\n",
    "        self.__pen=pen\n",
    "        self.paper=paper\n",
    "        self.cardboard=cardboard\n",
    "        print('you are in main parent class')\n",
    "        \n",
    "    def check(self):\n",
    "        print('student exam marks',self.marks)\n",
    "    \n",
    "    #def get_pen(self):  #getter\n",
    "     #   return self.__pen\n",
    "\n",
    "class teacher(student_exam):\n",
    "    def __init__(self,pen,paper,cardboard,marks):\n",
    "        super().__init__(pen,paper,cardboard)\n",
    "        self.marks=marks\n",
    "        print('marks is',marks)\n",
    "        "
   ]
  },
  {
   "cell_type": "code",
   "execution_count": 85,
   "id": "c9c44110",
   "metadata": {},
   "outputs": [
    {
     "name": "stdout",
     "output_type": "stream",
     "text": [
      "you are in main parent class\n",
      "marks is 34534523\n"
     ]
    }
   ],
   "source": [
    "t=teacher('yes','no','no',34534523)"
   ]
  },
  {
   "cell_type": "code",
   "execution_count": 157,
   "id": "e374ba30",
   "metadata": {},
   "outputs": [
    {
     "name": "stdout",
     "output_type": "stream",
     "text": [
      "student exam marks 34534523\n"
     ]
    }
   ],
   "source": [
    "t.check()"
   ]
  },
  {
   "cell_type": "code",
   "execution_count": 159,
   "id": "0fe9444c",
   "metadata": {},
   "outputs": [
    {
     "data": {
      "text/plain": [
       "'yes'"
      ]
     },
     "execution_count": 159,
     "metadata": {},
     "output_type": "execute_result"
    }
   ],
   "source": [
    "t.get_pen()"
   ]
  },
  {
   "cell_type": "code",
   "execution_count": 160,
   "id": "ca053f47",
   "metadata": {},
   "outputs": [
    {
     "ename": "AttributeError",
     "evalue": "'teacher' object has no attribute '__pen'",
     "output_type": "error",
     "traceback": [
      "\u001b[1;31m---------------------------------------------------------------------------\u001b[0m",
      "\u001b[1;31mAttributeError\u001b[0m                            Traceback (most recent call last)",
      "Input \u001b[1;32mIn [160]\u001b[0m, in \u001b[0;36m<cell line: 1>\u001b[1;34m()\u001b[0m\n\u001b[1;32m----> 1\u001b[0m \u001b[43mt\u001b[49m\u001b[38;5;241;43m.\u001b[39;49m\u001b[43m__pen\u001b[49m\n",
      "\u001b[1;31mAttributeError\u001b[0m: 'teacher' object has no attribute '__pen'"
     ]
    }
   ],
   "source": [
    "t.__pen"
   ]
  },
  {
   "cell_type": "markdown",
   "id": "3f4cd8e4",
   "metadata": {},
   "source": [
    "##### Inheritance in summary\n",
    "\n",
    "- A class can inherit from another class.\n",
    "\n",
    "- Inheritance improves code reuse\n",
    "\n",
    "- Constructor, attributes, methods get inherited to the child class\n",
    "\n",
    "- The parent has no access to the child class\n",
    "\n",
    "- Private properties of parent are not accessible directly in child class\n",
    "\n",
    "- Child class can override the attributes or methods. This is called method overriding\n",
    "\n",
    "- super() is an inbuilt function which is used to invoke the parent class methods and constructor"
   ]
  },
  {
   "cell_type": "code",
   "execution_count": null,
   "id": "338f894b",
   "metadata": {},
   "outputs": [],
   "source": []
  },
  {
   "cell_type": "code",
   "execution_count": 172,
   "id": "d7f178e6",
   "metadata": {},
   "outputs": [
    {
     "name": "stdout",
     "output_type": "stream",
     "text": [
      "100\n",
      "200\n"
     ]
    }
   ],
   "source": [
    "class Parent:\n",
    "\n",
    "    def __init__(self,num):\n",
    "      self.__num=num  # private\n",
    "\n",
    "    def get_num(self):    # getter\n",
    "      return self.__num\n",
    "\n",
    "class Child(Parent):\n",
    "  \n",
    "    def __init__(self,num,val):\n",
    "      super().__init__(num)  # super function\n",
    "      self.__val=val\n",
    "\n",
    "    def get_val(self):\n",
    "      return self.__val\n",
    "      \n",
    "son=Child(100,200)\n",
    "print(son.get_num())\n",
    "print(son.get_val())"
   ]
  },
  {
   "cell_type": "code",
   "execution_count": null,
   "id": "bf76ce85",
   "metadata": {},
   "outputs": [],
   "source": []
  },
  {
   "cell_type": "code",
   "execution_count": 173,
   "id": "eba5fb10",
   "metadata": {},
   "outputs": [
    {
     "name": "stdout",
     "output_type": "stream",
     "text": [
      "100\n",
      "200\n"
     ]
    }
   ],
   "source": [
    "class Parent:\n",
    "    def __init__(self):\n",
    "        self.num=100\n",
    "\n",
    "class Child(Parent):\n",
    "\n",
    "    def __init__(self):\n",
    "        super().__init__()\n",
    "        self.var=200\n",
    "        \n",
    "    def show(self):\n",
    "        print(self.num)\n",
    "        print(self.var)\n",
    "\n",
    "son=Child()\n",
    "son.show()"
   ]
  },
  {
   "cell_type": "code",
   "execution_count": null,
   "id": "492faaa7",
   "metadata": {},
   "outputs": [],
   "source": []
  },
  {
   "cell_type": "code",
   "execution_count": null,
   "id": "3725bf06",
   "metadata": {},
   "outputs": [],
   "source": []
  },
  {
   "cell_type": "code",
   "execution_count": null,
   "id": "563af833",
   "metadata": {},
   "outputs": [],
   "source": []
  },
  {
   "cell_type": "code",
   "execution_count": 175,
   "id": "67cd34e2",
   "metadata": {},
   "outputs": [
    {
     "name": "stdout",
     "output_type": "stream",
     "text": [
      "Child: 10\n"
     ]
    }
   ],
   "source": [
    "class Parent:\n",
    "    def __init__(self):\n",
    "        self.__num=100\n",
    "\n",
    "    def show(self):\n",
    "        print(\"Parent:\",self.__num)\n",
    "\n",
    "class Child(Parent):\n",
    "    def __init__(self):\n",
    "        super().__init__()\n",
    "        self.__var=10\n",
    "\n",
    "    def show(self):\n",
    "        print(\"Child:\",self.__var)\n",
    "\n",
    "obj=Child()\n",
    "obj.show()\n",
    "\n",
    "\n",
    "# both have show method. . this is method overriding\n",
    "# so that jo child clas ka show hai wo print hoga"
   ]
  },
  {
   "cell_type": "code",
   "execution_count": null,
   "id": "424dc24a",
   "metadata": {},
   "outputs": [],
   "source": []
  },
  {
   "cell_type": "markdown",
   "id": "29469fb5",
   "metadata": {},
   "source": [
    "# SINGLE INHERITENCE"
   ]
  },
  {
   "attachments": {
    "single.png": {
     "image/png": "[encoded data removed]"
    }
   },
   "cell_type": "markdown",
   "id": "5401a446",
   "metadata": {},
   "source": [
    "![single.png](attachment:single.png)"
   ]
  },
  {
   "cell_type": "code",
   "execution_count": 86,
   "id": "df0e3b40",
   "metadata": {},
   "outputs": [],
   "source": [
    "class emp:\n",
    "    def __init__(self):\n",
    "        self.name='ratan'\n",
    "        self.post='data science'\n",
    "        print('u r in child class')\n",
    "    \n",
    "    def idd_card(self,is_have):\n",
    "        pass\n",
    "    \n",
    "class sallary(emp):\n",
    "    \n",
    "    def ctc(self):\n",
    "        print('u r in child class')\n",
    "        "
   ]
  },
  {
   "cell_type": "code",
   "execution_count": 88,
   "id": "8ae8e7a4",
   "metadata": {},
   "outputs": [
    {
     "name": "stdout",
     "output_type": "stream",
     "text": [
      "u r in child class\n"
     ]
    }
   ],
   "source": [
    "s=sallary()"
   ]
  },
  {
   "cell_type": "code",
   "execution_count": null,
   "id": "34b55860",
   "metadata": {},
   "outputs": [],
   "source": []
  },
  {
   "cell_type": "code",
   "execution_count": 199,
   "id": "792dcf29",
   "metadata": {},
   "outputs": [],
   "source": [
    "class laptop:\n",
    "    def __init__(self):\n",
    "        self.brand='microsoft'\n",
    "        self.feature='fast processor'\n",
    "        print('this is parent class')\n",
    "    \n",
    "    def service(self,service_station):\n",
    "        if service_station=='yes':\n",
    "            print('can use for multiple year')\n",
    "        else:\n",
    "            print('if there is some error in laptop then it is issue')\n",
    "\n",
    "class dell(laptop):\n",
    "    def quality(self):\n",
    "        pass\n",
    "    \n",
    "    \n",
    "        "
   ]
  },
  {
   "cell_type": "code",
   "execution_count": 201,
   "id": "1af6da8c",
   "metadata": {},
   "outputs": [
    {
     "name": "stdout",
     "output_type": "stream",
     "text": [
      "this is parent class\n"
     ]
    }
   ],
   "source": [
    "d=dell()\n",
    "#l=laptop()"
   ]
  },
  {
   "cell_type": "code",
   "execution_count": null,
   "id": "8dbc41b6",
   "metadata": {},
   "outputs": [],
   "source": []
  },
  {
   "cell_type": "code",
   "execution_count": 203,
   "id": "620cdeda",
   "metadata": {},
   "outputs": [
    {
     "name": "stdout",
     "output_type": "stream",
     "text": [
      "if there is some error in laptop then it is issue\n"
     ]
    }
   ],
   "source": [
    "d.service('no')"
   ]
  },
  {
   "cell_type": "code",
   "execution_count": null,
   "id": "c39858d2",
   "metadata": {},
   "outputs": [],
   "source": []
  },
  {
   "cell_type": "markdown",
   "id": "286726c6",
   "metadata": {},
   "source": [
    "# Multiple Inheritance\n",
    "\n",
    "```\n",
    "2 parent class   1 child class\n",
    "\n",
    "can inherit both parent class into a single child class\n",
    "```"
   ]
  },
  {
   "cell_type": "code",
   "execution_count": null,
   "id": "9ea43fd6",
   "metadata": {},
   "outputs": [],
   "source": []
  },
  {
   "attachments": {
    "multiple.png": {
     "image/png": "[encoded data removed]"
    }
   },
   "cell_type": "markdown",
   "id": "04e80e72",
   "metadata": {},
   "source": [
    "![multiple.png](attachment:multiple.png)"
   ]
  },
  {
   "cell_type": "code",
   "execution_count": null,
   "id": "5c52ab47",
   "metadata": {},
   "outputs": [],
   "source": []
  },
  {
   "cell_type": "code",
   "execution_count": 89,
   "id": "2f0cbc35",
   "metadata": {},
   "outputs": [],
   "source": [
    "class company:\n",
    "    def __init__(self,name,workforce):\n",
    "        self.name=name\n",
    "        self.workforce=workforce\n",
    "        print('u r in parent 1 class')\n",
    "        \n",
    "    def alpha(self):\n",
    "        print('u r in parent 1 class')\n",
    "        \n",
    "class sister_company:\n",
    "   \n",
    "    def machine(self):\n",
    "        print('u r in  parent 2 class')\n",
    "        \n",
    "class employee(company,sister_company):\n",
    "    \n",
    "    def sallary(self):\n",
    "        print('ur in child class')\n",
    "    "
   ]
  },
  {
   "cell_type": "code",
   "execution_count": 91,
   "id": "ebf092db",
   "metadata": {},
   "outputs": [
    {
     "name": "stdout",
     "output_type": "stream",
     "text": [
      "u r in parent 1 class\n"
     ]
    }
   ],
   "source": [
    "e=employee('ratan',2352345)"
   ]
  },
  {
   "cell_type": "code",
   "execution_count": 93,
   "id": "056212b6",
   "metadata": {},
   "outputs": [
    {
     "name": "stdout",
     "output_type": "stream",
     "text": [
      "u r in  parent 2 class\n"
     ]
    }
   ],
   "source": [
    "e.machine()"
   ]
  },
  {
   "cell_type": "code",
   "execution_count": 105,
   "id": "3b81779b",
   "metadata": {},
   "outputs": [],
   "source": [
    "class parent:\n",
    "    def func1(self):\n",
    "        print(\"hello from parent \")\n",
    "class parent2:\n",
    "    def func2(self):\n",
    "        print(\"hello from parent2\")\n",
    "        \n",
    "class child(parent,parent2):\n",
    "    def func3(self):\n",
    "        print(\"hello child\")"
   ]
  },
  {
   "cell_type": "code",
   "execution_count": null,
   "id": "51f1d951",
   "metadata": {},
   "outputs": [],
   "source": []
  },
  {
   "cell_type": "code",
   "execution_count": 107,
   "id": "b2bb6ed2",
   "metadata": {},
   "outputs": [],
   "source": [
    "c= child()\n",
    "p=parent()\n",
    "p1=parent2()"
   ]
  },
  {
   "cell_type": "code",
   "execution_count": null,
   "id": "c085028a",
   "metadata": {},
   "outputs": [],
   "source": []
  },
  {
   "cell_type": "code",
   "execution_count": 7,
   "id": "1c192530",
   "metadata": {},
   "outputs": [],
   "source": [
    "# parent class 1\n",
    "class Batch_number:\n",
    "    batchnumber = \"alpha\"\n",
    "    def __init__(self,a,b,c):\n",
    "        self.a =a\n",
    "        self.b =b\n",
    "        self.c =c\n",
    "    def batch(self):\n",
    "        print(self.batchnumber)\n",
    "\n",
    "# parent class 2\n",
    "\n",
    "class course_name:\n",
    "    cname = \"ratan\"\n",
    "    \n",
    "    def course(Self):\n",
    "        print(Self.cname)\n",
    "\n",
    "# child name\n",
    "\n",
    "class student(Batch_number,course_name):\n",
    "    \n",
    "    def show(self):\n",
    "        print(\"batch :\", self.batchnumber)\n",
    "        print(\"course: \", self.cname)"
   ]
  },
  {
   "cell_type": "code",
   "execution_count": 8,
   "id": "7031f20e",
   "metadata": {},
   "outputs": [],
   "source": [
    "\n",
    "s=student(10,12,234)"
   ]
  },
  {
   "cell_type": "code",
   "execution_count": 9,
   "id": "dbd3b1f9",
   "metadata": {},
   "outputs": [
    {
     "data": {
      "text/plain": [
       "'alpha'"
      ]
     },
     "execution_count": 9,
     "metadata": {},
     "output_type": "execute_result"
    }
   ],
   "source": [
    "s.batchnumber"
   ]
  },
  {
   "cell_type": "code",
   "execution_count": 4,
   "id": "065a795f",
   "metadata": {},
   "outputs": [
    {
     "name": "stdout",
     "output_type": "stream",
     "text": [
      "batch : \n",
      "course:  \n"
     ]
    }
   ],
   "source": [
    "s.show()"
   ]
  },
  {
   "cell_type": "code",
   "execution_count": null,
   "id": "08fbd730",
   "metadata": {},
   "outputs": [],
   "source": []
  },
  {
   "cell_type": "markdown",
   "id": "d26ec4dd",
   "metadata": {},
   "source": [
    "# multilevel inheritence\n",
    "\n",
    " - gradfather\n",
    " - father\n",
    " - child\n",
    "\n",
    "```\n",
    "parent class\n",
    "    |\n",
    "    |\n",
    "child class 1 ( own properiteies and method) ( inherit the property of parent class)\n",
    "    | \n",
    "    |\n",
    "child class 2 ( inherit the method and properties from child class 1 and parent as well)\n",
    "```"
   ]
  },
  {
   "attachments": {
    "multilevel.png": {
     "image/png": "[encoded data removed]"
    }
   },
   "cell_type": "markdown",
   "id": "c2ddb642",
   "metadata": {},
   "source": [
    "![multilevel.png](attachment:multilevel.png)"
   ]
  },
  {
   "cell_type": "code",
   "execution_count": null,
   "id": "cdb19434",
   "metadata": {},
   "outputs": [],
   "source": []
  },
  {
   "cell_type": "code",
   "execution_count": 204,
   "id": "c476105d",
   "metadata": {},
   "outputs": [
    {
     "name": "stdout",
     "output_type": "stream",
     "text": [
      "Inside phone constructor\n",
      "Buying a phone\n",
      "Product customer review\n"
     ]
    }
   ],
   "source": [
    "class Product:\n",
    "    def review(self):\n",
    "        print (\"Product customer review\")\n",
    "\n",
    "class Phone(Product):\n",
    "    def __init__(self, price, brand, camera):\n",
    "        print (\"Inside phone constructor\")\n",
    "        self.__price = price\n",
    "        self.brand = brand\n",
    "        self.camera = camera\n",
    "\n",
    "    def buy(self):\n",
    "        print (\"Buying a phone\")\n",
    "\n",
    "class SmartPhone(Phone):\n",
    "    pass\n",
    "\n",
    "s=SmartPhone(20000, \"Apple\", 12)\n",
    "\n",
    "s.buy()\n",
    "s.review()"
   ]
  },
  {
   "cell_type": "code",
   "execution_count": null,
   "id": "e2e25823",
   "metadata": {},
   "outputs": [],
   "source": []
  },
  {
   "cell_type": "code",
   "execution_count": 205,
   "id": "47ae682a",
   "metadata": {},
   "outputs": [],
   "source": [
    "class test1:\n",
    "    def a(self):\n",
    "        print(\"inside test 1\")\n",
    "        \n",
    "class test2(test1):\n",
    "    def b(self):\n",
    "        print(\"inside test2\")\n",
    "        \n",
    "class test3(test2):\n",
    "    def c(Self):\n",
    "        print(\"inside test3\")"
   ]
  },
  {
   "cell_type": "code",
   "execution_count": 206,
   "id": "0ffd7128",
   "metadata": {},
   "outputs": [],
   "source": [
    "t=test3()"
   ]
  },
  {
   "cell_type": "code",
   "execution_count": 208,
   "id": "0c286d8a",
   "metadata": {},
   "outputs": [
    {
     "name": "stdout",
     "output_type": "stream",
     "text": [
      "inside test 1\n"
     ]
    }
   ],
   "source": [
    "t.a()"
   ]
  },
  {
   "cell_type": "code",
   "execution_count": 209,
   "id": "b8d79820",
   "metadata": {},
   "outputs": [
    {
     "name": "stdout",
     "output_type": "stream",
     "text": [
      "inside test2\n"
     ]
    }
   ],
   "source": [
    "t.b()"
   ]
  },
  {
   "cell_type": "code",
   "execution_count": null,
   "id": "9b374622",
   "metadata": {},
   "outputs": [],
   "source": []
  },
  {
   "cell_type": "code",
   "execution_count": 210,
   "id": "919f2551",
   "metadata": {},
   "outputs": [],
   "source": [
    "class vehicle:\n",
    "    def info(self):\n",
    "        print(\"inside vechicle class\")\n",
    "        \n",
    "class car(vehicle):\n",
    "    def car_info(self):\n",
    "        print(\"inside car class\")\n",
    "class sportscar(car):\n",
    "    def sportscar(self):\n",
    "        print(\"inside sportscar\")"
   ]
  },
  {
   "cell_type": "code",
   "execution_count": 212,
   "id": "7b18119d",
   "metadata": {},
   "outputs": [],
   "source": [
    "s=sportscar()"
   ]
  },
  {
   "cell_type": "code",
   "execution_count": 213,
   "id": "6fc9129c",
   "metadata": {},
   "outputs": [
    {
     "name": "stdout",
     "output_type": "stream",
     "text": [
      "inside car class\n"
     ]
    }
   ],
   "source": [
    "s.car_info()"
   ]
  },
  {
   "cell_type": "markdown",
   "id": "6ae95a0d",
   "metadata": {},
   "source": [
    "# Hierarchical inheritance\n",
    "\n",
    "```\n",
    "Hierarchical inheritance describes a situation in which a parent class is inherited by multiple subclasses.\n",
    "```\n",
    "\n",
    "\n",
    "```\n",
    "1 parent class and multiple chlid class\n",
    "```"
   ]
  },
  {
   "attachments": {
    "hierarchal.png": {
     "image/png": "[encoded data removed]"
    }
   },
   "cell_type": "markdown",
   "id": "abf1e04a",
   "metadata": {},
   "source": [
    "![hierarchal.png](attachment:hierarchal.png)"
   ]
  },
  {
   "cell_type": "code",
   "execution_count": null,
   "id": "e0f95fc9",
   "metadata": {},
   "outputs": [],
   "source": [
    "class parent:\n",
    "    def __init__(self):\n",
    "        self.name='ratan'\n",
    "        self.age=26\n",
    "        \n",
    "    def show(self):\n",
    "        pass\n"
   ]
  },
  {
   "cell_type": "code",
   "execution_count": null,
   "id": "9e2bd45a",
   "metadata": {},
   "outputs": [],
   "source": [
    "class vehicle:\n",
    "    def info(self):\n",
    "        print(\"this is vechicel\")\n",
    "        \n",
    "class car (vehicle):\n",
    "    def car_info(self,name):\n",
    "        print(\"car name  \" , name )\n",
    "\n",
    "class Truck (vehicle):   #  here we dont use  def __init__ (self)  so that we are not using self.name\n",
    "    def truck_info(Self,name):\n",
    "        print(\"truck name \" ,name)"
   ]
  },
  {
   "cell_type": "code",
   "execution_count": null,
   "id": "fdbd967c",
   "metadata": {},
   "outputs": [],
   "source": []
  },
  {
   "cell_type": "markdown",
   "id": "c95615b5",
   "metadata": {},
   "source": [
    "# hybrid inheritence\n",
    "\n",
    "\n",
    "            -----parent class ----\n",
    "           /         |            \\\n",
    "          /          |             \\\n",
    "         /           |              \\\n",
    "        /            |               \\ \n",
    "     child 1         |              child 2\n",
    "       \\             |\n",
    "        \\            |               / \n",
    "         \\           |             /\n",
    "          \\          |           /\n",
    "           \\----- child class 3\n",
    "           \n",
    "           "
   ]
  },
  {
   "attachments": {
    "hybrid.png": {
     "image/png": "[encoded data removed]"
    }
   },
   "cell_type": "markdown",
   "id": "d586d8a3",
   "metadata": {},
   "source": [
    "![hybrid.png](attachment:hybrid.png)"
   ]
  },
  {
   "cell_type": "code",
   "execution_count": null,
   "id": "96f96ca1",
   "metadata": {},
   "outputs": [],
   "source": []
  },
  {
   "cell_type": "code",
   "execution_count": null,
   "id": "e7e40f6e",
   "metadata": {},
   "outputs": [],
   "source": [
    "class vehicle:\n",
    "    def info(self):\n",
    "        print(\"this is vechicel\")\n",
    "        \n",
    "class car (vehicle):\n",
    "    def car_info(self,name):\n",
    "        print(\"car name  \" , name )\n",
    "\n",
    "class Truck (vehicle):  \n",
    "    def truck_info(Self,name):\n",
    "        print(\"truck name \" ,name)\n",
    "        \n",
    "class sportscar(car,vehicle,truck):\n",
    "    def sportscar(self):\n",
    "        print(\"insede from  sports class\")"
   ]
  },
  {
   "cell_type": "code",
   "execution_count": null,
   "id": "eab20be2",
   "metadata": {},
   "outputs": [],
   "source": []
  },
  {
   "cell_type": "code",
   "execution_count": null,
   "id": "7f4e6f6d",
   "metadata": {},
   "outputs": [],
   "source": []
  },
  {
   "cell_type": "code",
   "execution_count": 37,
   "id": "b0383cca",
   "metadata": {},
   "outputs": [],
   "source": [
    "class circle:\n",
    "    def __init__(self,radius,alpha,beta,theta):\n",
    "        self.radius=radius\n",
    "        self.alpha=alpha\n",
    "        self.beta=beta\n",
    "        self.theta=theta\n",
    "        \n",
    "        \n",
    "        print('this is parent class')\n",
    "        \n",
    "    def area(self):\n",
    "        a=3.14*self.radius**2\n",
    "        print('area is',a)\n",
    "        \n",
    "    def parameter(self):\n",
    "        p=2*3.14*self.radius\n",
    "        print('parameter',p)\n",
    "\n",
    "class semi_circle(circle):\n",
    "    def __init()\n",
    "    \n",
    "    def areaaa(self):\n",
    "        b=3.14*(self.radius**2)/2\n",
    "        print(b)\n",
    "        print('this is child class')"
   ]
  },
  {
   "cell_type": "code",
   "execution_count": 38,
   "id": "59fdae95",
   "metadata": {},
   "outputs": [
    {
     "ename": "TypeError",
     "evalue": "__init__() missing 3 required positional arguments: 'alpha', 'beta', and 'theta'",
     "output_type": "error",
     "traceback": [
      "\u001b[1;31m---------------------------------------------------------------------------\u001b[0m",
      "\u001b[1;31mTypeError\u001b[0m                                 Traceback (most recent call last)",
      "Input \u001b[1;32mIn [38]\u001b[0m, in \u001b[0;36m<cell line: 1>\u001b[1;34m()\u001b[0m\n\u001b[1;32m----> 1\u001b[0m s\u001b[38;5;241m=\u001b[39m\u001b[43msemi_circle\u001b[49m\u001b[43m(\u001b[49m\u001b[38;5;241;43m5\u001b[39;49m\u001b[43m)\u001b[49m\n",
      "\u001b[1;31mTypeError\u001b[0m: __init__() missing 3 required positional arguments: 'alpha', 'beta', and 'theta'"
     ]
    }
   ],
   "source": [
    "s=semi_circle(5)"
   ]
  },
  {
   "cell_type": "code",
   "execution_count": 32,
   "id": "c4b10afb",
   "metadata": {},
   "outputs": [
    {
     "name": "stdout",
     "output_type": "stream",
     "text": [
      "parameter 31.400000000000002\n"
     ]
    }
   ],
   "source": [
    "s.parameter()"
   ]
  },
  {
   "cell_type": "code",
   "execution_count": null,
   "id": "49494e36",
   "metadata": {},
   "outputs": [],
   "source": [
    "s."
   ]
  },
  {
   "cell_type": "code",
   "execution_count": 31,
   "id": "b33cf1a6",
   "metadata": {},
   "outputs": [
    {
     "ename": "AttributeError",
     "evalue": "'semi_circle' object has no attribute 'alpha'",
     "output_type": "error",
     "traceback": [
      "\u001b[1;31m---------------------------------------------------------------------------\u001b[0m",
      "\u001b[1;31mAttributeError\u001b[0m                            Traceback (most recent call last)",
      "Input \u001b[1;32mIn [31]\u001b[0m, in \u001b[0;36m<cell line: 1>\u001b[1;34m()\u001b[0m\n\u001b[1;32m----> 1\u001b[0m \u001b[43ms\u001b[49m\u001b[38;5;241;43m.\u001b[39;49m\u001b[43malpha\u001b[49m\n",
      "\u001b[1;31mAttributeError\u001b[0m: 'semi_circle' object has no attribute 'alpha'"
     ]
    }
   ],
   "source": [
    "s.alpha"
   ]
  },
  {
   "cell_type": "code",
   "execution_count": 23,
   "id": "e50ee4da",
   "metadata": {},
   "outputs": [
    {
     "name": "stdout",
     "output_type": "stream",
     "text": [
      "hi\n",
      "hi\n",
      "hi\n",
      "hi\n",
      "hi\n",
      "hi\n",
      "hi\n",
      "hi\n",
      "hi\n",
      "hi\n",
      "hi\n",
      "hello\n",
      "hello\n",
      "hello\n",
      "hello\n",
      "hello\n",
      "hello\n",
      "hello\n",
      "hello\n",
      "hello\n"
     ]
    }
   ],
   "source": [
    "for i in range(20):\n",
    "    if i>10:\n",
    "        print('hello')\n",
    "    else:\n",
    "        print('hi')"
   ]
  },
  {
   "cell_type": "code",
   "execution_count": null,
   "id": "d3039066",
   "metadata": {},
   "outputs": [],
   "source": [
    "if i==1:\n",
    "    print('hi hello kdsfkasdfa')\n",
    "elif i==2:\n",
    "    \n",
    "elif i==3:\n",
    "    print('pasdf')\n"
   ]
  },
  {
   "cell_type": "code",
   "execution_count": null,
   "id": "6c0bf486",
   "metadata": {},
   "outputs": [],
   "source": []
  },
  {
   "cell_type": "code",
   "execution_count": 34,
   "id": "b83bd603",
   "metadata": {},
   "outputs": [],
   "source": [
    "class p:\n",
    "    def __init__(self):\n",
    "        self.radius=8\n",
    "        print(id(self))\n",
    "    \n",
    "    def area(self):\n",
    "        pass"
   ]
  },
  {
   "cell_type": "code",
   "execution_count": 35,
   "id": "d03e6c52",
   "metadata": {},
   "outputs": [
    {
     "name": "stdout",
     "output_type": "stream",
     "text": [
      "2346927944752\n"
     ]
    }
   ],
   "source": [
    "obj=p()\n",
    "#print(id(obj))"
   ]
  },
  {
   "cell_type": "code",
   "execution_count": 36,
   "id": "6b57ab14",
   "metadata": {},
   "outputs": [
    {
     "name": "stdout",
     "output_type": "stream",
     "text": [
      "2346927944752\n"
     ]
    }
   ],
   "source": [
    "print(id(obj))"
   ]
  },
  {
   "cell_type": "code",
   "execution_count": null,
   "id": "3f0f447e",
   "metadata": {},
   "outputs": [],
   "source": [
    "obj."
   ]
  }
 ],
 "metadata": {
  "kernelspec": {
   "display_name": "Python 3 (ipykernel)",
   "language": "python",
   "name": "python3"
  },
  "language_info": {
   "codemirror_mode": {
    "name": "ipython",
    "version": 3
   },
   "file_extension": ".py",
   "mimetype": "text/x-python",
   "name": "python",
   "nbconvert_exporter": "python",
   "pygments_lexer": "ipython3",
   "version": "3.9.12"
  }
 },
 "nbformat": 4,
 "nbformat_minor": 5
}
